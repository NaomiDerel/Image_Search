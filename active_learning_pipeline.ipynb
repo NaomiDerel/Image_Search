{
 "cells": [
  {
   "cell_type": "markdown",
   "metadata": {},
   "source": [
    "# Siamese Neural Network Trained with Active Learning Methods"
   ]
  },
  {
   "cell_type": "markdown",
   "metadata": {},
   "source": [
    "This notebook details the process of training a Siamese Neural Network designed to create a fine-tuned embedding space of image vectors. This supervised training method uses Contrastive loss between pairs of images to bring embeddings closer or further apart according to their similarity. \n",
    "\n",
    "Due to this expensive labeling domain of similarity between pairs of images, an active learning method is used to find the most informative pairs to label, while minimizing the total number of labels possible in the resources available.\n",
    "\n",
    "The process was done in the following steps:\n",
    "1. Initial small random sample of pairs of images were labeled, from [round0.csv](active_learning_labels/round_0.csv), and divided into training and evaluation. \n",
    "2. The network is trained on the data of the last round only, for 100 epochs. If a previous network was already trained, the training is continued from a saved checkpoint.\n",
    "3. The evaluation of the network is done on the evaluation set as a general guide for the learning capacity of the network. The F1 metric was used due to the unbalanced nature of the dataset.\n",
    "4. The network is used to determine the confidence of the similarity of unlabeled pairs of images. The pairs with the highest confidence were selected for labeling, up to a budget of ~120 pairs.\n",
    "5. Additionally, the network is used to determine the confidence of the similarity on samples automatically tagged with 0, and added those to the labeled set for the next round as well.\n",
    "6. Steps 2 until 5 are repeated, for a total of 4 rounds.\n",
    "\n",
    "The process of the active learning method is logged in this repository. In [active_learning_labels](active_learning_labels) are the labeled pairs of images for each round, and also a blind test set selected independently of the model. In [active_learning_models](active_learning_models) are the checkpoints of the models trained in each round. In [active_learning_results](active_learning_logs) are the logs of the training and evaluation of the models in each round."
   ]
  },
  {
   "cell_type": "code",
   "execution_count": null,
   "metadata": {},
   "outputs": [],
   "source": [
    "import os\n",
    "import numpy as np\n",
    "import matplotlib.pyplot as plt\n",
    "import pandas as pd\n",
    "import torch\n",
    "from torch import nn\n",
    "from torch import optim\n",
    "from torch.utils.data import DataLoader, Dataset\n",
    "from torchvision import datasets, transforms\n",
    "import torch.nn.functional as F\n",
    "from PIL import Image\n",
    "from tqdm import tqdm\n",
    "from transformers import CLIPModel, CLIPProcessor\n",
    "from sklearn.metrics import f1_score, confusion_matrix\n",
    "import seaborn as sns"
   ]
  },
  {
   "cell_type": "markdown",
   "metadata": {},
   "source": [
    "## Train the Model"
   ]
  },
  {
   "cell_type": "code",
   "execution_count": null,
   "metadata": {},
   "outputs": [],
   "source": [
    "# Enter the current round of active learning:\n",
    "current_round = 3\n",
    "\n",
    "# Load the data paths for the current round:\n",
    "base_path = 'active_learning_labels/'\n",
    "full_data_paths = pd.read_csv(base_path + 'round_' + str(current_round) + '.csv')\n",
    "data_paths = full_data_paths[['image1_path', 'image2_path', 'similarity']]"
   ]
  },
  {
   "cell_type": "code",
   "execution_count": 3,
   "metadata": {},
   "outputs": [
    {
     "name": "stdout",
     "output_type": "stream",
     "text": [
      "Train:  (384, 3) Eval:  (96, 3)\n"
     ]
    }
   ],
   "source": [
    "# Split the data into training and testing\n",
    "train_data = data_paths.sample(frac=0.8, random_state=42)\n",
    "eval_data = data_paths.drop(train_data.index)\n",
    "print(\"Train: \", train_data.shape, \"Eval: \", eval_data.shape)"
   ]
  },
  {
   "cell_type": "markdown",
   "metadata": {},
   "source": [
    "### Load Computer Vision Model"
   ]
  },
  {
   "cell_type": "code",
   "execution_count": 4,
   "metadata": {},
   "outputs": [],
   "source": [
    "# Load the pretrained CLIP model and processor from Hugging Face\n",
    "model = CLIPModel.from_pretrained(\"openai/clip-vit-base-patch32\")\n",
    "processor = CLIPProcessor.from_pretrained(\"openai/clip-vit-base-patch32\")\n",
    "\n",
    "# Set up the image transformation pipeline\n",
    "clip_transform = transforms.Compose([\n",
    "    transforms.Resize((128, 128)),\n",
    "    transforms.ToTensor(),\n",
    "])\n",
    "\n",
    "# Define the dataset class\n",
    "augmentations = transforms.Compose([\n",
    "    transforms.RandomApply([transforms.RandomResizedCrop(224)], p=0.3),  # 20% chance of random resized crop\n",
    "    transforms.RandomApply([transforms.RandomHorizontalFlip()], p=0.3),  # 20% chance of horizontal flip\n",
    "    transforms.RandomApply([transforms.ColorJitter(brightness=0.2, contrast=0.2, saturation=0.2, hue=0.1)], p=0.3),  # 20% chance of color jitter\n",
    "    transforms.ToTensor(),  # Always apply ToTensor\n",
    "])\n"
   ]
  },
  {
   "cell_type": "code",
   "execution_count": 5,
   "metadata": {},
   "outputs": [],
   "source": [
    "class ImageSimilarityDataset(Dataset):\n",
    "    \"\"\"\n",
    "    A custom dataset class for loading and processing image pairs for similarity tasks.\n",
    "    Attributes:\n",
    "        dataframe (pd.DataFrame): DataFrame containing image paths and similarity scores.\n",
    "        transform (callable, optional): A function/transform to apply to the images.\n",
    "        augmentations (callable, optional): A function/transform to apply augmentations to the images.\n",
    "        master_path (str): The base path to prepend to image paths.\n",
    "    Methods:\n",
    "        __len__():\n",
    "            Returns the number of samples in the dataset.\n",
    "        __getitem__(idx):\n",
    "            Loads and processes the image pair at the given index.\n",
    "            Args:\n",
    "                idx (int): Index of the sample to retrieve.\n",
    "            Returns:\n",
    "                tuple: A tuple containing:\n",
    "                    - image1_path (str): Path to the first image.\n",
    "                    - image2_path (str): Path to the second image.\n",
    "                    - image1_features (torch.Tensor): CLIP features of the first image.\n",
    "                    - image2_features (torch.Tensor): CLIP features of the second image.\n",
    "                    - label (torch.Tensor): Similarity label (1 for similar, 0 for dissimilar).\n",
    "    \"\"\"\n",
    "    \n",
    "    def __init__(self, dataframe, transform=clip_transform, augmentations=None):\n",
    "        self.data = dataframe\n",
    "        self.transform = transform\n",
    "        self.augmentations = augmentations\n",
    "        self.master_path = ''\n",
    "\n",
    "    def __len__(self):\n",
    "        return len(self.data)\n",
    "\n",
    "    def __getitem__(self, idx):\n",
    "        # Load images from the paths\n",
    "        image1_path = self.master_path + self.data.iloc[idx, 0].strip(\"()\")\n",
    "        image2_path = self.master_path + self.data.iloc[idx, 1].strip(\"()\")\n",
    "        \n",
    "        # Load images\n",
    "        image1 = Image.open(image1_path).convert(\"RGB\")\n",
    "        image2 = Image.open(image2_path).convert(\"RGB\")\n",
    "\n",
    "        # Apply augmentations if provided\n",
    "        # if self.augmentations:\n",
    "        #     image1 = self.augmentations(image1)\n",
    "        #     image2 = self.augmentations(image2)\n",
    "\n",
    "        # Apply CLIP transforms if provided (transforms should convert to tensor)\n",
    "        if self.transform:\n",
    "            image1 = self.transform(image1)  # Apply transforms including ToTensor\n",
    "            image2 = self.transform(image2)\n",
    "\n",
    "        # Get image features using CLIP\n",
    "        images_features = []\n",
    "        for img in [image1, image2]:\n",
    "            image_tensor = img.unsqueeze(0)  # Add batch dimension for processing\n",
    "            inputs = processor(images=image_tensor, return_tensors=\"pt\")\n",
    "            with torch.no_grad():\n",
    "                image_features = model.get_image_features(**inputs)\n",
    "            images_features.append(image_features.squeeze())  # Ensure it's a 512-dimensional tensor\n",
    "\n",
    "        # Get similarity score and label (1 for similar, 0 for dissimilar)\n",
    "        similarity = self.data.iloc[idx, 2]\n",
    "        label = 0 if similarity < 3 else 1\n",
    "        \n",
    "        return image1_path, image2_path, images_features[0], images_features[1], torch.tensor(label, dtype=torch.float32)\n"
   ]
  },
  {
   "cell_type": "code",
   "execution_count": 6,
   "metadata": {},
   "outputs": [
    {
     "name": "stdout",
     "output_type": "stream",
     "text": [
      "cuda\n"
     ]
    }
   ],
   "source": [
    "# Set up device\n",
    "if torch.cuda.is_available():\n",
    "    device = torch.device('cuda')\n",
    "# elif torch.backends.mps.is_available():\n",
    "#     device = torch.device(\"mps\")\n",
    "else:\n",
    "    device = torch.device('cpu')\n",
    "\n",
    "print(device)"
   ]
  },
  {
   "cell_type": "code",
   "execution_count": 7,
   "metadata": {},
   "outputs": [],
   "source": [
    "# Create datasets\n",
    "train_dataset = ImageSimilarityDataset(train_data, transform=clip_transform, augmentations=None)\n",
    "eval_dataset = ImageSimilarityDataset(eval_data, transform=clip_transform, augmentations=None)\n",
    "\n",
    "# Create DataLoaders\n",
    "train_loader = DataLoader(train_dataset, batch_size=8, shuffle=True)\n",
    "eval_loader = DataLoader(eval_dataset, batch_size=1, shuffle=False)"
   ]
  },
  {
   "cell_type": "code",
   "execution_count": 8,
   "metadata": {},
   "outputs": [],
   "source": [
    "class SiameseNetwork(nn.Module):\n",
    "    \"\"\"\n",
    "    A Siamese Network for comparing two inputs.\n",
    "    This network processes two input tensors through identical subnetworks and outputs their respective embeddings.\n",
    "    Methods\n",
    "    -------\n",
    "    __init__():\n",
    "        Initializes the Siamese Network with fully connected layers and ReLU activation.\n",
    "    forward_one(x):\n",
    "        Processes a single input tensor through the network to obtain its embedding.\n",
    "    forward(input1, input2):\n",
    "        Processes two input tensors through the network and returns their embeddings.\n",
    "    Parameters\n",
    "    ----------\n",
    "    x : torch.Tensor\n",
    "        A single input tensor to be processed by the network.\n",
    "    input1 : torch.Tensor\n",
    "        The first input tensor to be compared.\n",
    "    input2 : torch.Tensor\n",
    "        The second input tensor to be compared.\n",
    "    Returns\n",
    "    -------\n",
    "    torch.Tensor\n",
    "        The embedding of the input tensor from forward_one.\n",
    "    tuple of torch.Tensor\n",
    "        The embeddings of the two input tensors from forward.\n",
    "    \"\"\"\n",
    "\n",
    "    def __init__(self):\n",
    "        super(SiameseNetwork, self).__init__()\n",
    "        self.fc1 = nn.Linear(512, 256)\n",
    "        # self.fc2 = nn.Linear(256, 256)\n",
    "        self.fc3 = nn.Linear(256, 128)  # Keep larger dimension here\n",
    "        self.relu = nn.ReLU()\n",
    "\n",
    "    def forward_one(self, x):\n",
    "        x = self.relu(self.fc1(x))\n",
    "        # x = self.relu(self.fc2(x))\n",
    "        x = self.fc3(x) \n",
    "        return x\n",
    "\n",
    "    def forward(self, input1, input2):\n",
    "        output1 = self.forward_one(input1)\n",
    "        output2 = self.forward_one(input2)\n",
    "        return output1, output2\n"
   ]
  },
  {
   "cell_type": "code",
   "execution_count": 9,
   "metadata": {},
   "outputs": [],
   "source": [
    "# define the loss function\n",
    "class ContrastiveLoss(torch.nn.Module):\n",
    "    \"\"\"\n",
    "    Contrastive Loss Module.\n",
    "    This module computes the contrastive loss, which is used to train models for tasks such as \n",
    "    metric learning. The loss encourages the model to output similar \n",
    "    embeddings for similar inputs and dissimilar embeddings for dissimilar inputs.\n",
    "    Args:\n",
    "        margin (float, optional): The margin value for dissimilar pairs. Default is 1.0.\n",
    "    Methods:\n",
    "        forward(x0, x1, y):\n",
    "            Computes the contrastive loss between two input tensors.\n",
    "            Args:\n",
    "                x0 (torch.Tensor): The first input tensor.\n",
    "                x1 (torch.Tensor): The second input tensor.\n",
    "                y (torch.Tensor): The binary labels indicating whether the pairs are similar (1) or dissimilar (0).\n",
    "            Returns:\n",
    "                torch.Tensor: The computed contrastive loss.\n",
    "    \"\"\"\n",
    "    \n",
    "\n",
    "    def __init__(self, margin=1.0):\n",
    "        super(ContrastiveLoss, self).__init__()\n",
    "        self.margin = margin\n",
    "\n",
    "    def forward(self, x0, x1, y):\n",
    "        label = y # ensure binary labels\n",
    "        euclidean_distance = nn.functional.pairwise_distance(x0, x1)\n",
    "        loss_contrastive = torch.mean((label) * torch.pow(euclidean_distance, 2) + # similar\n",
    "                                (1 - label) * torch.pow(torch.clamp(self.margin - euclidean_distance, min=0.0), 2)) # dissimilar\n",
    "        return loss_contrastive\n",
    "        "
   ]
  },
  {
   "cell_type": "code",
   "execution_count": 10,
   "metadata": {},
   "outputs": [],
   "source": [
    "def train_siamese_network(model, train_loader, eval_loader, criterion, optimizer, num_epochs):\n",
    "    \"\"\"\n",
    "    Trains a Siamese network model with Contrastive Loss and returns the best model based on F1 score.\n",
    "    Args:\n",
    "        model (torch.nn.Module): The Siamese network model to be trained.\n",
    "        train_loader (torch.utils.data.DataLoader): DataLoader for the training dataset.\n",
    "        eval_loader (torch.utils.data.DataLoader): DataLoader for the evaluation dataset.\n",
    "        criterion (callable): Loss function to be used.\n",
    "        optimizer (torch.optim.Optimizer): Optimizer for updating the model parameters.\n",
    "        num_epochs (int): Number of epochs to train the model.\n",
    "    Returns:\n",
    "        tuple: A tuple containing the trained model and the state dictionary of the best model based on F1 score.\n",
    "    \"\"\"\n",
    "    \n",
    "    model.train()\n",
    "    max_f1_score = 0\n",
    "    best_model = None\n",
    "\n",
    "    for epoch in range(num_epochs):\n",
    "        model.train()\n",
    "        running_loss = 0.0\n",
    "        correct = 0\n",
    "        tp, fp, tn, fn = 0, 0, 0, 0\n",
    "        \n",
    "        # Iterate over the training data\n",
    "        for i, (img1_path, img2_path, img1, img2, labels) in tqdm(enumerate(train_loader)):\n",
    "            # Move tensors to the appropriate device\n",
    "            img1, img2, labels = img1.to(device), img2.to(device), labels.to(device)\n",
    "\n",
    "            # Zero the parameter gradients\n",
    "            optimizer.zero_grad()\n",
    "\n",
    "            # Forward pass\n",
    "            output1, output2 = model(img1, img2)\n",
    "            loss = criterion(output1, output2, labels)\n",
    "\n",
    "            # Backward pass and optimization\n",
    "            loss.backward()\n",
    "            optimizer.step()\n",
    "            running_loss += loss.item()\n",
    "\n",
    "            # Predictions\n",
    "            dist = F.pairwise_distance(output1, output2)\n",
    "            predicted = (dist < 1.0).float() # margin of 1.0\n",
    "            correct += (predicted == labels).sum().item()\n",
    "\n",
    "            # F1 score\n",
    "            tp += ((predicted == 1) & (labels == 1)).sum().item()\n",
    "            fp += ((predicted == 1) & (labels == 0)).sum().item()\n",
    "            tn += ((predicted == 0) & (labels == 0)).sum().item()\n",
    "            fn += ((predicted == 0) & (labels == 1)).sum().item()\n",
    "\n",
    "        f1 = 2 * tp / (2 * tp + fp + fn)\n",
    "        print(f\"Epoch [{epoch + 1}/{num_epochs}], Loss: {running_loss / len(train_loader):.4f}, Train Accuracy: {correct / len(train_loader.dataset):.2f}, F1 Score: {f1:.2f}\")\n",
    "        \n",
    "        # Save the model with the best F1 score\n",
    "        if f1 >= max_f1_score:\n",
    "            max_f1_score = f1\n",
    "            best_model = model.state_dict()\n",
    "            print(\"Best model updated\")\n",
    "        \n",
    "        # Evaluate the model\n",
    "        # if (epoch + 1) % 5 == 0:\n",
    "        #     model.eval()\n",
    "        #     correct = 0\n",
    "        #     with torch.no_grad():\n",
    "        #         for img1_path, img2_path, img1, img2, labels in eval_loader:\n",
    "        #             img1, img2, labels = img1.to(device), img2.to(device), labels.to(device)\n",
    "        #             output1, output2 = model(img1, img2)\n",
    "        #             dist = F.pairwise_distance(output1, output2)\n",
    "        #             predicted = (dist < 1.0).float()\n",
    "        #             correct += (predicted == labels).sum().item()\n",
    "        #     eval_acc = correct / len(eval_loader.dataset)\n",
    "        #     print(f\"Evaluation Accuracy: {eval_acc:.2f}\")\n",
    "\n",
    "        #     # Save the model with the best evaluation accuracy\n",
    "        #     if eval_acc >= max_acc:\n",
    "        #         max_acc = eval_acc\n",
    "        #         best_model = model.state_dict()\n",
    "        #         print(\"Best model updated\")\n",
    "\n",
    "    return model, best_model"
   ]
  },
  {
   "cell_type": "code",
   "execution_count": null,
   "metadata": {},
   "outputs": [],
   "source": [
    "# Define model:\n",
    "siamese_net = SiameseNetwork().to(device)\n",
    "criterion = ContrastiveLoss(margin=1.0)\n",
    "optimizer = optim.Adam(siamese_net.parameters(), lr=0.01)\n",
    "num_epochs = 50\n",
    "\n",
    "# Start from last trained model:\n",
    "siamese_net.load_state_dict(torch.load('active_learning_models/net_round3_2_best.pth'))"
   ]
  },
  {
   "cell_type": "code",
   "execution_count": 12,
   "metadata": {},
   "outputs": [
    {
     "name": "stderr",
     "output_type": "stream",
     "text": [
      "0it [00:00, ?it/s]"
     ]
    },
    {
     "name": "stderr",
     "output_type": "stream",
     "text": [
      "It looks like you are trying to rescale already rescaled images. If the input images have pixel values between 0 and 1, set `do_rescale=False` to avoid rescaling them again.\n",
      "48it [01:44,  2.17s/it]\n"
     ]
    },
    {
     "name": "stdout",
     "output_type": "stream",
     "text": [
      "Epoch [1/50], Loss: 0.1484, Train Accuracy: 0.79, F1 Score: 0.13\n",
      "Best model updated\n"
     ]
    },
    {
     "name": "stderr",
     "output_type": "stream",
     "text": [
      "48it [01:05,  1.37s/it]\n"
     ]
    },
    {
     "name": "stdout",
     "output_type": "stream",
     "text": [
      "Epoch [2/50], Loss: 0.1313, Train Accuracy: 0.74, F1 Score: 0.26\n",
      "Best model updated\n"
     ]
    },
    {
     "name": "stderr",
     "output_type": "stream",
     "text": [
      "48it [01:04,  1.34s/it]\n"
     ]
    },
    {
     "name": "stdout",
     "output_type": "stream",
     "text": [
      "Epoch [3/50], Loss: 0.1042, Train Accuracy: 0.77, F1 Score: 0.29\n",
      "Best model updated\n"
     ]
    },
    {
     "name": "stderr",
     "output_type": "stream",
     "text": [
      "48it [01:01,  1.29s/it]\n"
     ]
    },
    {
     "name": "stdout",
     "output_type": "stream",
     "text": [
      "Epoch [4/50], Loss: 0.0710, Train Accuracy: 0.73, F1 Score: 0.30\n",
      "Best model updated\n"
     ]
    },
    {
     "name": "stderr",
     "output_type": "stream",
     "text": [
      "48it [01:03,  1.32s/it]\n"
     ]
    },
    {
     "name": "stdout",
     "output_type": "stream",
     "text": [
      "Epoch [5/50], Loss: 0.0545, Train Accuracy: 0.78, F1 Score: 0.38\n",
      "Best model updated\n"
     ]
    },
    {
     "name": "stderr",
     "output_type": "stream",
     "text": [
      "48it [01:02,  1.29s/it]\n"
     ]
    },
    {
     "name": "stdout",
     "output_type": "stream",
     "text": [
      "Epoch [6/50], Loss: 0.0481, Train Accuracy: 0.82, F1 Score: 0.40\n",
      "Best model updated\n"
     ]
    },
    {
     "name": "stderr",
     "output_type": "stream",
     "text": [
      "48it [01:03,  1.32s/it]\n"
     ]
    },
    {
     "name": "stdout",
     "output_type": "stream",
     "text": [
      "Epoch [7/50], Loss: 0.0706, Train Accuracy: 0.77, F1 Score: 0.33\n"
     ]
    },
    {
     "name": "stderr",
     "output_type": "stream",
     "text": [
      "48it [01:03,  1.33s/it]\n"
     ]
    },
    {
     "name": "stdout",
     "output_type": "stream",
     "text": [
      "Epoch [8/50], Loss: 0.0528, Train Accuracy: 0.76, F1 Score: 0.35\n"
     ]
    },
    {
     "name": "stderr",
     "output_type": "stream",
     "text": [
      "48it [01:03,  1.32s/it]\n"
     ]
    },
    {
     "name": "stdout",
     "output_type": "stream",
     "text": [
      "Epoch [9/50], Loss: 0.0480, Train Accuracy: 0.82, F1 Score: 0.41\n",
      "Best model updated\n"
     ]
    },
    {
     "name": "stderr",
     "output_type": "stream",
     "text": [
      "48it [01:03,  1.31s/it]\n"
     ]
    },
    {
     "name": "stdout",
     "output_type": "stream",
     "text": [
      "Epoch [10/50], Loss: 0.0554, Train Accuracy: 0.81, F1 Score: 0.39\n"
     ]
    },
    {
     "name": "stderr",
     "output_type": "stream",
     "text": [
      "48it [01:02,  1.31s/it]\n"
     ]
    },
    {
     "name": "stdout",
     "output_type": "stream",
     "text": [
      "Epoch [11/50], Loss: 0.0581, Train Accuracy: 0.84, F1 Score: 0.41\n"
     ]
    },
    {
     "name": "stderr",
     "output_type": "stream",
     "text": [
      "48it [01:02,  1.30s/it]\n"
     ]
    },
    {
     "name": "stdout",
     "output_type": "stream",
     "text": [
      "Epoch [12/50], Loss: 0.0343, Train Accuracy: 0.85, F1 Score: 0.45\n",
      "Best model updated\n"
     ]
    },
    {
     "name": "stderr",
     "output_type": "stream",
     "text": [
      "48it [01:02,  1.31s/it]\n"
     ]
    },
    {
     "name": "stdout",
     "output_type": "stream",
     "text": [
      "Epoch [13/50], Loss: 0.0422, Train Accuracy: 0.83, F1 Score: 0.43\n"
     ]
    },
    {
     "name": "stderr",
     "output_type": "stream",
     "text": [
      "48it [01:03,  1.32s/it]\n"
     ]
    },
    {
     "name": "stdout",
     "output_type": "stream",
     "text": [
      "Epoch [14/50], Loss: 0.0375, Train Accuracy: 0.83, F1 Score: 0.43\n"
     ]
    },
    {
     "name": "stderr",
     "output_type": "stream",
     "text": [
      "48it [01:02,  1.31s/it]\n"
     ]
    },
    {
     "name": "stdout",
     "output_type": "stream",
     "text": [
      "Epoch [15/50], Loss: 0.0280, Train Accuracy: 0.87, F1 Score: 0.51\n",
      "Best model updated\n"
     ]
    },
    {
     "name": "stderr",
     "output_type": "stream",
     "text": [
      "48it [01:02,  1.30s/it]\n"
     ]
    },
    {
     "name": "stdout",
     "output_type": "stream",
     "text": [
      "Epoch [16/50], Loss: 0.0243, Train Accuracy: 0.88, F1 Score: 0.55\n",
      "Best model updated\n"
     ]
    },
    {
     "name": "stderr",
     "output_type": "stream",
     "text": [
      "48it [01:03,  1.32s/it]\n"
     ]
    },
    {
     "name": "stdout",
     "output_type": "stream",
     "text": [
      "Epoch [17/50], Loss: 0.0327, Train Accuracy: 0.88, F1 Score: 0.52\n"
     ]
    },
    {
     "name": "stderr",
     "output_type": "stream",
     "text": [
      "48it [01:03,  1.32s/it]\n"
     ]
    },
    {
     "name": "stdout",
     "output_type": "stream",
     "text": [
      "Epoch [18/50], Loss: 0.0397, Train Accuracy: 0.89, F1 Score: 0.52\n"
     ]
    },
    {
     "name": "stderr",
     "output_type": "stream",
     "text": [
      "48it [01:04,  1.34s/it]\n"
     ]
    },
    {
     "name": "stdout",
     "output_type": "stream",
     "text": [
      "Epoch [19/50], Loss: 0.0242, Train Accuracy: 0.90, F1 Score: 0.59\n",
      "Best model updated\n"
     ]
    },
    {
     "name": "stderr",
     "output_type": "stream",
     "text": [
      "48it [01:02,  1.31s/it]\n"
     ]
    },
    {
     "name": "stdout",
     "output_type": "stream",
     "text": [
      "Epoch [20/50], Loss: 0.0365, Train Accuracy: 0.86, F1 Score: 0.50\n"
     ]
    },
    {
     "name": "stderr",
     "output_type": "stream",
     "text": [
      "48it [01:02,  1.30s/it]\n"
     ]
    },
    {
     "name": "stdout",
     "output_type": "stream",
     "text": [
      "Epoch [21/50], Loss: 0.0475, Train Accuracy: 0.89, F1 Score: 0.51\n"
     ]
    },
    {
     "name": "stderr",
     "output_type": "stream",
     "text": [
      "48it [01:02,  1.29s/it]\n"
     ]
    },
    {
     "name": "stdout",
     "output_type": "stream",
     "text": [
      "Epoch [22/50], Loss: 0.0809, Train Accuracy: 0.90, F1 Score: 0.51\n"
     ]
    },
    {
     "name": "stderr",
     "output_type": "stream",
     "text": [
      "48it [01:02,  1.30s/it]\n"
     ]
    },
    {
     "name": "stdout",
     "output_type": "stream",
     "text": [
      "Epoch [23/50], Loss: 0.0631, Train Accuracy: 0.88, F1 Score: 0.51\n"
     ]
    },
    {
     "name": "stderr",
     "output_type": "stream",
     "text": [
      "48it [01:02,  1.30s/it]\n"
     ]
    },
    {
     "name": "stdout",
     "output_type": "stream",
     "text": [
      "Epoch [24/50], Loss: 0.1349, Train Accuracy: 0.91, F1 Score: 0.49\n"
     ]
    },
    {
     "name": "stderr",
     "output_type": "stream",
     "text": [
      "48it [01:02,  1.31s/it]\n"
     ]
    },
    {
     "name": "stdout",
     "output_type": "stream",
     "text": [
      "Epoch [25/50], Loss: 0.4100, Train Accuracy: 0.90, F1 Score: 0.30\n"
     ]
    },
    {
     "name": "stderr",
     "output_type": "stream",
     "text": [
      "48it [01:03,  1.31s/it]\n"
     ]
    },
    {
     "name": "stdout",
     "output_type": "stream",
     "text": [
      "Epoch [26/50], Loss: 6.9312, Train Accuracy: 0.92, F1 Score: 0.00\n"
     ]
    },
    {
     "name": "stderr",
     "output_type": "stream",
     "text": [
      "48it [01:02,  1.31s/it]\n"
     ]
    },
    {
     "name": "stdout",
     "output_type": "stream",
     "text": [
      "Epoch [27/50], Loss: 14.5368, Train Accuracy: 0.93, F1 Score: 0.00\n"
     ]
    },
    {
     "name": "stderr",
     "output_type": "stream",
     "text": [
      "48it [01:01,  1.29s/it]\n"
     ]
    },
    {
     "name": "stdout",
     "output_type": "stream",
     "text": [
      "Epoch [28/50], Loss: 3.5775, Train Accuracy: 0.93, F1 Score: 0.07\n"
     ]
    },
    {
     "name": "stderr",
     "output_type": "stream",
     "text": [
      "48it [01:02,  1.31s/it]\n"
     ]
    },
    {
     "name": "stdout",
     "output_type": "stream",
     "text": [
      "Epoch [29/50], Loss: 0.2800, Train Accuracy: 0.93, F1 Score: 0.33\n"
     ]
    },
    {
     "name": "stderr",
     "output_type": "stream",
     "text": [
      "48it [01:02,  1.30s/it]\n"
     ]
    },
    {
     "name": "stdout",
     "output_type": "stream",
     "text": [
      "Epoch [30/50], Loss: 0.0604, Train Accuracy: 0.88, F1 Score: 0.47\n"
     ]
    },
    {
     "name": "stderr",
     "output_type": "stream",
     "text": [
      "48it [01:01,  1.29s/it]\n"
     ]
    },
    {
     "name": "stdout",
     "output_type": "stream",
     "text": [
      "Epoch [31/50], Loss: 0.0376, Train Accuracy: 0.86, F1 Score: 0.49\n"
     ]
    },
    {
     "name": "stderr",
     "output_type": "stream",
     "text": [
      "48it [01:01,  1.28s/it]\n"
     ]
    },
    {
     "name": "stdout",
     "output_type": "stream",
     "text": [
      "Epoch [32/50], Loss: 0.0328, Train Accuracy: 0.87, F1 Score: 0.50\n"
     ]
    },
    {
     "name": "stderr",
     "output_type": "stream",
     "text": [
      "48it [01:01,  1.28s/it]\n"
     ]
    },
    {
     "name": "stdout",
     "output_type": "stream",
     "text": [
      "Epoch [33/50], Loss: 0.0267, Train Accuracy: 0.87, F1 Score: 0.53\n"
     ]
    },
    {
     "name": "stderr",
     "output_type": "stream",
     "text": [
      "48it [01:01,  1.28s/it]\n"
     ]
    },
    {
     "name": "stdout",
     "output_type": "stream",
     "text": [
      "Epoch [34/50], Loss: 0.0236, Train Accuracy: 0.88, F1 Score: 0.53\n"
     ]
    },
    {
     "name": "stderr",
     "output_type": "stream",
     "text": [
      "48it [01:03,  1.32s/it]\n"
     ]
    },
    {
     "name": "stdout",
     "output_type": "stream",
     "text": [
      "Epoch [35/50], Loss: 0.0185, Train Accuracy: 0.88, F1 Score: 0.54\n"
     ]
    },
    {
     "name": "stderr",
     "output_type": "stream",
     "text": [
      "48it [01:02,  1.30s/it]\n"
     ]
    },
    {
     "name": "stdout",
     "output_type": "stream",
     "text": [
      "Epoch [36/50], Loss: 0.0160, Train Accuracy: 0.88, F1 Score: 0.54\n"
     ]
    },
    {
     "name": "stderr",
     "output_type": "stream",
     "text": [
      "48it [01:02,  1.29s/it]\n"
     ]
    },
    {
     "name": "stdout",
     "output_type": "stream",
     "text": [
      "Epoch [37/50], Loss: 0.0141, Train Accuracy: 0.90, F1 Score: 0.58\n"
     ]
    },
    {
     "name": "stderr",
     "output_type": "stream",
     "text": [
      "48it [01:02,  1.30s/it]\n"
     ]
    },
    {
     "name": "stdout",
     "output_type": "stream",
     "text": [
      "Epoch [38/50], Loss: 0.0130, Train Accuracy: 0.89, F1 Score: 0.56\n"
     ]
    },
    {
     "name": "stderr",
     "output_type": "stream",
     "text": [
      "48it [01:01,  1.28s/it]\n"
     ]
    },
    {
     "name": "stdout",
     "output_type": "stream",
     "text": [
      "Epoch [39/50], Loss: 0.0122, Train Accuracy: 0.90, F1 Score: 0.60\n",
      "Best model updated\n"
     ]
    },
    {
     "name": "stderr",
     "output_type": "stream",
     "text": [
      "48it [01:02,  1.31s/it]\n"
     ]
    },
    {
     "name": "stdout",
     "output_type": "stream",
     "text": [
      "Epoch [40/50], Loss: 0.0091, Train Accuracy: 0.91, F1 Score: 0.62\n",
      "Best model updated\n"
     ]
    },
    {
     "name": "stderr",
     "output_type": "stream",
     "text": [
      "48it [01:03,  1.31s/it]\n"
     ]
    },
    {
     "name": "stdout",
     "output_type": "stream",
     "text": [
      "Epoch [41/50], Loss: 0.0095, Train Accuracy: 0.90, F1 Score: 0.60\n"
     ]
    },
    {
     "name": "stderr",
     "output_type": "stream",
     "text": [
      "48it [01:02,  1.30s/it]\n"
     ]
    },
    {
     "name": "stdout",
     "output_type": "stream",
     "text": [
      "Epoch [42/50], Loss: 0.0085, Train Accuracy: 0.91, F1 Score: 0.62\n",
      "Best model updated\n"
     ]
    },
    {
     "name": "stderr",
     "output_type": "stream",
     "text": [
      "48it [01:02,  1.29s/it]\n"
     ]
    },
    {
     "name": "stdout",
     "output_type": "stream",
     "text": [
      "Epoch [43/50], Loss: 0.0076, Train Accuracy: 0.90, F1 Score: 0.60\n"
     ]
    },
    {
     "name": "stderr",
     "output_type": "stream",
     "text": [
      "48it [01:04,  1.34s/it]\n"
     ]
    },
    {
     "name": "stdout",
     "output_type": "stream",
     "text": [
      "Epoch [44/50], Loss: 0.0075, Train Accuracy: 0.91, F1 Score: 0.62\n",
      "Best model updated\n"
     ]
    },
    {
     "name": "stderr",
     "output_type": "stream",
     "text": [
      "48it [01:02,  1.30s/it]\n"
     ]
    },
    {
     "name": "stdout",
     "output_type": "stream",
     "text": [
      "Epoch [45/50], Loss: 0.0071, Train Accuracy: 0.91, F1 Score: 0.62\n"
     ]
    },
    {
     "name": "stderr",
     "output_type": "stream",
     "text": [
      "48it [01:01,  1.29s/it]\n"
     ]
    },
    {
     "name": "stdout",
     "output_type": "stream",
     "text": [
      "Epoch [46/50], Loss: 0.0061, Train Accuracy: 0.91, F1 Score: 0.63\n",
      "Best model updated\n"
     ]
    },
    {
     "name": "stderr",
     "output_type": "stream",
     "text": [
      "48it [01:02,  1.30s/it]\n"
     ]
    },
    {
     "name": "stdout",
     "output_type": "stream",
     "text": [
      "Epoch [47/50], Loss: 0.0063, Train Accuracy: 0.91, F1 Score: 0.63\n",
      "Best model updated\n"
     ]
    },
    {
     "name": "stderr",
     "output_type": "stream",
     "text": [
      "48it [01:03,  1.33s/it]\n"
     ]
    },
    {
     "name": "stdout",
     "output_type": "stream",
     "text": [
      "Epoch [48/50], Loss: 0.0059, Train Accuracy: 0.91, F1 Score: 0.62\n"
     ]
    },
    {
     "name": "stderr",
     "output_type": "stream",
     "text": [
      "48it [01:01,  1.28s/it]\n"
     ]
    },
    {
     "name": "stdout",
     "output_type": "stream",
     "text": [
      "Epoch [49/50], Loss: 0.0051, Train Accuracy: 0.92, F1 Score: 0.65\n",
      "Best model updated\n"
     ]
    },
    {
     "name": "stderr",
     "output_type": "stream",
     "text": [
      "48it [01:01,  1.29s/it]"
     ]
    },
    {
     "name": "stdout",
     "output_type": "stream",
     "text": [
      "Epoch [50/50], Loss: 0.0051, Train Accuracy: 0.93, F1 Score: 0.67\n",
      "Best model updated\n"
     ]
    },
    {
     "name": "stderr",
     "output_type": "stream",
     "text": [
      "\n"
     ]
    }
   ],
   "source": [
    "trained_model, best_f1_trained_model = train_siamese_network(siamese_net, train_loader, eval_loader, criterion, optimizer, num_epochs)"
   ]
  },
  {
   "cell_type": "code",
   "execution_count": 13,
   "metadata": {},
   "outputs": [
    {
     "name": "stdout",
     "output_type": "stream",
     "text": [
      "Model saved\n"
     ]
    }
   ],
   "source": [
    "# Save the trained model\n",
    "save_path = 'active_learning_models/net_round4.pth'\n",
    "\n",
    "if os.path.exists(save_path):\n",
    "    print(\"Model already exists\")\n",
    "else:\n",
    "    torch.save(best_f1_trained_model, 'active_learning_models/net_round4_best.pth')\n",
    "    torch.save(trained_model.state_dict(), save_path)\n",
    "    print(\"Model saved\")"
   ]
  },
  {
   "cell_type": "markdown",
   "metadata": {},
   "source": [
    "## Evaluate the Model"
   ]
  },
  {
   "cell_type": "code",
   "execution_count": 14,
   "metadata": {},
   "outputs": [
    {
     "name": "stderr",
     "output_type": "stream",
     "text": [
      "/tmp/ipykernel_7280/1548265267.py:3: FutureWarning: You are using `torch.load` with `weights_only=False` (the current default value), which uses the default pickle module implicitly. It is possible to construct malicious pickle data which will execute arbitrary code during unpickling (See https://github.com/pytorch/pytorch/blob/main/SECURITY.md#untrusted-models for more details). In a future release, the default value for `weights_only` will be flipped to `True`. This limits the functions that could be executed during unpickling. Arbitrary objects will no longer be allowed to be loaded via this mode unless they are explicitly allowlisted by the user via `torch.serialization.add_safe_globals`. We recommend you start setting `weights_only=True` for any use case where you don't have full control of the loaded file. Please open an issue on GitHub for any issues related to this experimental feature.\n",
      "  best_model.load_state_dict(torch.load('active_learning_models/net_round4_best.pth', map_location=torch.device(device)))\n"
     ]
    },
    {
     "data": {
      "text/plain": [
       "<All keys matched successfully>"
      ]
     },
     "execution_count": 14,
     "metadata": {},
     "output_type": "execute_result"
    }
   ],
   "source": [
    "# Load the trained model\n",
    "best_model = SiameseNetwork().to(device)\n",
    "best_model.load_state_dict(torch.load('active_learning_models/net_round4_best.pth', map_location=torch.device(device)))\n",
    "\n",
    "# final_model = SiameseNetwork().to(device)\n",
    "# final_model.load_state_dict(torch.load('active_learning_models/net_round3_2_final.pth', map_location=torch.device(device)))"
   ]
  },
  {
   "cell_type": "code",
   "execution_count": 15,
   "metadata": {},
   "outputs": [],
   "source": [
    "def test_siamese_network(model, test_loader, loader_name):\n",
    "    \"\"\"\n",
    "    Evaluates a Siamese network on a given test dataset.\n",
    "    Args:\n",
    "        model (torch.nn.Module): The Siamese network model to be evaluated.\n",
    "        test_loader (torch.utils.data.DataLoader): DataLoader for the test dataset.\n",
    "        loader_name (str): Name of the test dataset loader, used for printing results.\n",
    "    Returns:\n",
    "        None\n",
    "    This function performs the following steps:\n",
    "        1. Sets the model to evaluation mode.\n",
    "        2. Iterates over the test dataset and performs a forward pass to get the outputs.\n",
    "        3. Calculates the Euclidean distance between the outputs of the Siamese network.\n",
    "        4. Determines predictions based on the distance.\n",
    "        5. Computes the accuracy of the model on the test dataset.\n",
    "        6. Computes the F1 score of the model on the test dataset.\n",
    "        7. Generates and displays a confusion matrix heatmap.\n",
    "    Note:\n",
    "        This function assumes that the model and data are compatible with the device (CPU/GPU) being used.\n",
    "    \"\"\"\n",
    "\n",
    "    model.eval()\n",
    "    correct = 0\n",
    "    total = 0\n",
    "    all_labels = []\n",
    "    all_predictions = []\n",
    "\n",
    "    with torch.no_grad():\n",
    "        # Iterate over the test data\n",
    "        for i, (img1_path, img2_path, img1, img2, labels) in enumerate(test_loader):\n",
    "            # Move tensors to the appropriate device\n",
    "            img1, img2, labels = img1.to(device), img2.to(device), labels.to(device)\n",
    "\n",
    "            # Forward pass\n",
    "            output1, output2 = model(img1, img2)\n",
    "\n",
    "            # Calculate the euclidean distance between the outputs\n",
    "            dist = F.pairwise_distance(output1, output2)\n",
    "\n",
    "            # Get predictions\n",
    "            predicted = (dist < 1.0).float()\n",
    "            total += labels.size(0)\n",
    "            correct += (predicted == labels).sum().item()\n",
    "\n",
    "            all_labels.extend(labels)\n",
    "            all_predictions.extend(predicted)\n",
    "\n",
    "    # accuracy:\n",
    "    accuracy = correct / total\n",
    "    print(f\"{loader_name} Accuracy: {accuracy:.4f}\")\n",
    "\n",
    "    # f1 score:\n",
    "    all_labels = [label.cpu().numpy() for label in all_labels]\n",
    "    all_predictions = [prediction.cpu().numpy() for prediction in all_predictions]\n",
    "    f1 = f1_score(all_labels, all_predictions)\n",
    "    print(f\"{loader_name} F1 Score: {f1:.4f}\")\n",
    "\n",
    "    # confusion matrix:\n",
    "    matrix = confusion_matrix(all_labels, all_predictions)\n",
    "    plt.figure(figsize=(6, 5))\n",
    "    sns.heatmap(matrix, annot=True, fmt='g', cmap='Blues')\n",
    "    plt.xlabel('Predicted labels')\n",
    "    plt.ylabel('True labels')\n",
    "    plt.show()"
   ]
  },
  {
   "cell_type": "code",
   "execution_count": 16,
   "metadata": {},
   "outputs": [
    {
     "name": "stdout",
     "output_type": "stream",
     "text": [
      "Train Accuracy: 0.9167\n",
      "Train F1 Score: 0.6364\n"
     ]
    },
    {
     "data": {
      "image/png": "[encoded data removed]",
      "text/plain": [
       "<Figure size 600x500 with 2 Axes>"
      ]
     },
     "metadata": {},
     "output_type": "display_data"
    },
    {
     "name": "stdout",
     "output_type": "stream",
     "text": [
      "Eval Accuracy: 0.7292\n",
      "Eval F1 Score: 0.1875\n"
     ]
    },
    {
     "data": {
      "image/png": "[encoded data removed]",
      "text/plain": [
       "<Figure size 600x500 with 2 Axes>"
      ]
     },
     "metadata": {},
     "output_type": "display_data"
    }
   ],
   "source": [
    "test_siamese_network(best_model, train_loader, \"Train\")\n",
    "test_siamese_network(best_model, eval_loader, \"Eval\")"
   ]
  },
  {
   "cell_type": "markdown",
   "metadata": {},
   "source": [
    "### Test the model - added in final steps"
   ]
  },
  {
   "cell_type": "code",
   "execution_count": 18,
   "metadata": {},
   "outputs": [],
   "source": [
    "test_data = pd.read_csv('active_learning_labels/blind_test.csv')\n",
    "test_data = test_data[['image1_path', 'image2_path', 'similarity']]\n",
    "\n",
    "test_dataset = ImageSimilarityDataset(test_data, transform=clip_transform, augmentations=None)\n",
    "test_loader = DataLoader(test_dataset, batch_size=1, shuffle=False)"
   ]
  },
  {
   "cell_type": "code",
   "execution_count": 19,
   "metadata": {},
   "outputs": [
    {
     "name": "stdout",
     "output_type": "stream",
     "text": [
      "Test Accuracy: 0.8767\n",
      "Test F1 Score: 0.1395\n"
     ]
    },
    {
     "data": {
      "image/png": "[encoded data removed]",
      "text/plain": [
       "<Figure size 600x500 with 2 Axes>"
      ]
     },
     "metadata": {},
     "output_type": "display_data"
    }
   ],
   "source": [
    "test_siamese_network(best_model, test_loader, \"Test\")"
   ]
  },
  {
   "cell_type": "markdown",
   "metadata": {},
   "source": [
    "## Active Learning Setup"
   ]
  },
  {
   "cell_type": "code",
   "execution_count": 35,
   "metadata": {},
   "outputs": [
    {
     "name": "stdout",
     "output_type": "stream",
     "text": [
      "Unlabeled rows:  (33188, 5)\n"
     ]
    }
   ],
   "source": [
    "# Find the unlabeled data for the next round:\n",
    "path_data_pool = \"datasets/house_styles/sampled_paired_labels_shuffled.csv\"\n",
    "data_pool = pd.read_csv(path_data_pool)\n",
    "unlabeled_rows = data_pool[data_pool['similarity'].isna()]\n",
    "print(\"Unlabeled rows: \", unlabeled_rows.shape)\n",
    "\n",
    "# Sample 10,000 rows for the next round for feasible runtime:\n",
    "unlabeled_rows = unlabeled_rows[['image1_path', 'image2_path', 'similarity']].sample(10000)\n",
    "# Create the dataset for the next round:\n",
    "unlabeled_dataset = ImageSimilarityDataset(unlabeled_rows, transform=clip_transform)\n",
    "data_loader = DataLoader(unlabeled_dataset, batch_size=8, shuffle=False)"
   ]
  },
  {
   "cell_type": "code",
   "execution_count": 36,
   "metadata": {},
   "outputs": [],
   "source": [
    "def active_learning_confident_samples(model, dataloader, margin=1.0, budget=120):\n",
    "    \"\"\"\n",
    "    Selects the least confident samples from a dataloader using an active learning strategy.\n",
    "    Args:\n",
    "        model (torch.nn.Module): The model used for generating embeddings.\n",
    "        dataloader (torch.utils.data.DataLoader): DataLoader providing batches of image pairs and labels.\n",
    "        margin (float, optional): The margin used to calculate confidence scores. Default is 1.0.\n",
    "        budget (int, optional): The number of least confident samples to return. Default is 120.\n",
    "    Returns:\n",
    "        list: A list of tuples containing the paths of the image pairs, their pairwise distance, \n",
    "              and their confidence score. The list is sorted in ascending order of confidence score.\n",
    "    \"\"\"\n",
    "\n",
    "    model.eval()\n",
    "    least_confident_samples = []\n",
    "\n",
    "    with torch.no_grad():\n",
    "        # Iterate over the data loader\n",
    "        for img1_path, img2_path, img1, img2, labels in tqdm(dataloader):\n",
    "            # Move tensors to the appropriate device\n",
    "            img1, img2, label = img1.to(device), img2.to(device), labels.to(device)\n",
    "\n",
    "            # Get the model outputs for both images\n",
    "            output1, output2 = model(img1, img2)\n",
    "            \n",
    "            # Calculate pairwise distance\n",
    "            distances = F.pairwise_distance(output1, output2)\n",
    "            \n",
    "            # Calculate confidence score (distance from the margin)\n",
    "            confidence_scores = torch.abs(distances - margin)\n",
    "\n",
    "            # Collect the least confident samples (small confidence score means high uncertainty)\n",
    "            for i in range(len(confidence_scores)):\n",
    "                least_confident_samples.append((img1_path[i], img2_path[i], distances[i].item(), confidence_scores[i].item()))\n",
    "\n",
    "    # Sort samples by confidence score (ascending, to get least confident samples)\n",
    "    least_confident_samples.sort(key=lambda x: x[3])\n",
    "\n",
    "    # Return the top_k least confident samples\n",
    "    return least_confident_samples[:budget]"
   ]
  },
  {
   "cell_type": "code",
   "execution_count": null,
   "metadata": {},
   "outputs": [],
   "source": [
    "least_confident_samples = active_learning_confident_samples(trained_model, data_loader, margin=1.0, budget=120)\n",
    "# print(least_confident_samples)"
   ]
  },
  {
   "cell_type": "code",
   "execution_count": null,
   "metadata": {},
   "outputs": [],
   "source": [
    "# Find data labeled as 0 automatically for the next round:\n",
    "zero_rows = data_pool[data_pool['similarity'] == 0]\n",
    "zero_rows = zero_rows[['image1_path', 'image2_path', 'similarity']].sample(10000)\n",
    "zero_dataset = ImageSimilarityDataset(zero_rows, transform=clip_transform)\n",
    "zero_data_loader = DataLoader(zero_dataset, batch_size=8, shuffle=False)"
   ]
  },
  {
   "cell_type": "code",
   "execution_count": null,
   "metadata": {},
   "outputs": [],
   "source": [
    "least_confident_zero = active_learning_confident_samples(trained_model, zero_data_loader, margin=1.0, budget=360)\n",
    "# print(least_confident_zero)"
   ]
  },
  {
   "cell_type": "code",
   "execution_count": null,
   "metadata": {},
   "outputs": [],
   "source": [
    "# Save the active learning samples to be labeled without a similarity score:\n",
    "least_confident_samples_df = pd.DataFrame(least_confident_samples, columns=['image1_path', 'image2_path', 'distance', 'confidence'])\n",
    "least_confident_samples_df['similarity'] = None\n",
    "\n",
    "# Save the active learning samples with a similarity score of 0:\n",
    "zero_samples_df = pd.DataFrame(least_confident_zero, columns=['image1_path', 'image2_path', 'distance', 'confidence'])\n",
    "zero_samples_df['similarity'] = float(0)"
   ]
  },
  {
   "cell_type": "code",
   "execution_count": 55,
   "metadata": {},
   "outputs": [],
   "source": [
    "### Create a csv for easy labeling:\n",
    "\n",
    "active_learning_df = pd.concat([least_confident_samples_df, zero_samples_df], ignore_index=True)\n",
    "# add image names:\n",
    "active_learning_df['image1'] = active_learning_df['image1_path'].apply(lambda x: x.split('/')[-1])\n",
    "active_learning_df['image2'] = active_learning_df['image2_path'].apply(lambda x: x.split('/')[-1])\n",
    "# make paths be surrounded by parentheses:\n",
    "active_learning_df['image1_path'] = active_learning_df['image1_path'].apply(lambda x: '(' + x + ')')\n",
    "active_learning_df['image2_path'] = active_learning_df['image2_path'].apply(lambda x: '(' + x + ')')\n",
    "# shorten distance and confidence:\n",
    "active_learning_df['distance'] = active_learning_df['distance'].apply(lambda x: round(x, 4))\n",
    "active_learning_df['confidence'] = active_learning_df['confidence'].apply(lambda x: round(x, 4))\n",
    "\n",
    "# reorder columns:\n",
    "active_learning_df = active_learning_df[['image1', 'image1_path', 'image2', 'image2_path', 'distance', 'confidence', 'similarity']]"
   ]
  },
  {
   "cell_type": "code",
   "execution_count": 60,
   "metadata": {},
   "outputs": [
    {
     "name": "stdout",
     "output_type": "stream",
     "text": [
      "File does not exist\n",
      "File saved\n"
     ]
    }
   ],
   "source": [
    "# Save the active learning samples to a csv file:\n",
    "result_active_learning_path = 'active_learning_labels/round_2.csv'\n",
    "\n",
    "if os.path.exists(result_active_learning_path):\n",
    "    print(\"File exists\")\n",
    "else:\n",
    "    print(\"File does not exist\")\n",
    "    active_learning_df.to_csv(result_active_learning_path, index=False)\n",
    "    print(\"File saved\")"
   ]
  }
 ],
 "metadata": {
  "kernelspec": {
   "display_name": "Lab2_env",
   "language": "python",
   "name": "python3"
  },
  "language_info": {
   "codemirror_mode": {
    "name": "ipython",
    "version": 3
   },
   "file_extension": ".py",
   "mimetype": "text/x-python",
   "name": "python",
   "nbconvert_exporter": "python",
   "pygments_lexer": "ipython3",
   "version": "3.10.14"
  }
 },
 "nbformat": 4,
 "nbformat_minor": 2
}
