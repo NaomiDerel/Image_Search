{
 "cells": [
  {
   "cell_type": "markdown",
   "metadata": {},
   "source": [
    "# Neural Network - Similiarity Function"
   ]
  },
  {
   "cell_type": "markdown",
   "metadata": {},
   "source": [
    "This notebook details the process of choosing the similarity function that determines the images that are similar to a given image.\n",
    "The implementation of the network is based on the Siamese network implementation. This class of networks is known to be more robust to class imbalance, so it fits the data on which we train."
   ]
  },
  {
   "cell_type": "code",
   "execution_count": 1,
   "metadata": {},
   "outputs": [
    {
     "name": "stderr",
     "output_type": "stream",
     "text": [
      "/anaconda/envs/azureml_py310_sdkv2/lib/python3.10/site-packages/tqdm/auto.py:21: TqdmWarning: IProgress not found. Please update jupyter and ipywidgets. See https://ipywidgets.readthedocs.io/en/stable/user_install.html\n",
      "  from .autonotebook import tqdm as notebook_tqdm\n"
     ]
    }
   ],
   "source": [
    "import numpy as np\n",
    "import matplotlib.pyplot as plt\n",
    "import pandas as pd\n",
    "import torch\n",
    "from torch import nn\n",
    "from torch import optim\n",
    "from torch.utils.data import DataLoader, Dataset\n",
    "from torchvision import datasets, transforms\n",
    "import torch.nn.functional as F\n",
    "from PIL import Image\n",
    "from tqdm import tqdm\n",
    "from transformers import CLIPModel, CLIPProcessor"
   ]
  },
  {
   "cell_type": "code",
   "execution_count": 2,
   "metadata": {},
   "outputs": [
    {
     "name": "stdout",
     "output_type": "stream",
     "text": [
      "                                         image1_path  \\\n",
      "0  (datasets/house_styles/all_images/001_d2c7428a...   \n",
      "1  (datasets/house_styles/all_images/453_d7b5d246...   \n",
      "2  (datasets/house_styles/all_images/116_32f01ef6...   \n",
      "3  (datasets/house_styles/all_images/301_b73b9663...   \n",
      "4  (datasets/house_styles/all_images/042_06b56791...   \n",
      "\n",
      "                                         image2_path  similarity  \n",
      "0  (datasets/house_styles/all_images/366_08eff319...         3.0  \n",
      "1  (datasets/house_styles/all_images/122_e44a0cb3...         0.0  \n",
      "2  (datasets/house_styles/all_images/174_55a7b3f9...         0.0  \n",
      "3  (datasets/house_styles/all_images/116_32f01ef6...         0.0  \n",
      "4  (datasets/house_styles/all_images/069_d3bedc1f...         1.0  \n"
     ]
    }
   ],
   "source": [
    "# load the data\n",
    "base_path = 'active_learning_labels/'\n",
    "full_data_paths = pd.read_csv(base_path + 'round_0.csv')\n",
    "\n",
    "current_round = 1\n",
    "\n",
    "if current_round > 0:\n",
    "    for i in range(1, current_round):\n",
    "        path = base_path + 'round_' + str(i) + '.csv'\n",
    "        data = pd.read_csv(path)\n",
    "        full_data_paths = pd.concat([full_data_paths, data], ignore_index=True)\n",
    "\n",
    "data_paths = full_data_paths[['image1_path', 'image2_path', 'similarity']]\n",
    "\n",
    "print(data_paths.head())"
   ]
  },
  {
   "cell_type": "code",
   "execution_count": 3,
   "metadata": {},
   "outputs": [
    {
     "name": "stdout",
     "output_type": "stream",
     "text": [
      "Train:  (566, 3) Eval:  (142, 3)\n"
     ]
    }
   ],
   "source": [
    "# split the data into training and testing\n",
    "train_data = data_paths.sample(frac=0.8, random_state=42)\n",
    "eval_data = data_paths.drop(train_data.index)\n",
    "\n",
    "print(\"Train: \", train_data.shape, \"Eval: \", eval_data.shape)"
   ]
  },
  {
   "cell_type": "markdown",
   "metadata": {},
   "source": [
    "### Load Computer Vision Model"
   ]
  },
  {
   "cell_type": "code",
   "execution_count": 4,
   "metadata": {},
   "outputs": [],
   "source": [
    "# Load the pretrained CLIP model and processor from Hugging Face\n",
    "model = CLIPModel.from_pretrained(\"openai/clip-vit-base-patch32\")\n",
    "processor = CLIPProcessor.from_pretrained(\"openai/clip-vit-base-patch32\")\n",
    "\n",
    "# Set up the image transformation pipeline\n",
    "clip_transform = transforms.Compose([\n",
    "    transforms.Resize((128, 128)),\n",
    "    transforms.ToTensor(),\n",
    "    # transforms.Normalize((0.48145466, 0.4578275, 0.40821073), (0.26862954, 0.26130258, 0.27577711))\n",
    "])\n",
    "\n",
    "# Define the dataset class\n",
    "augmentations = transforms.Compose([\n",
    "    transforms.RandomApply([transforms.RandomResizedCrop(224)], p=0.3),  # 20% chance of random resized crop\n",
    "    transforms.RandomApply([transforms.RandomHorizontalFlip()], p=0.3),  # 20% chance of horizontal flip\n",
    "    transforms.RandomApply([transforms.ColorJitter(brightness=0.2, contrast=0.2, saturation=0.2, hue=0.1)], p=0.3),  # 20% chance of color jitter\n",
    "    transforms.ToTensor(),  # Always apply ToTensor\n",
    "])\n"
   ]
  },
  {
   "cell_type": "code",
   "execution_count": 5,
   "metadata": {},
   "outputs": [],
   "source": [
    "class ImageSimilarityDataset(Dataset):\n",
    "    def __init__(self, dataframe, transform=clip_transform, augmentations=None):\n",
    "        self.data = dataframe\n",
    "        self.transform = transform\n",
    "        self.augmentations = augmentations\n",
    "        self.master_path = ''\n",
    "\n",
    "    def __len__(self):\n",
    "        return len(self.data)\n",
    "\n",
    "    def __getitem__(self, idx):\n",
    "        # Load images from the paths\n",
    "        image1_path = self.master_path + self.data.iloc[idx, 0].strip(\"()\")\n",
    "        image2_path = self.master_path + self.data.iloc[idx, 1].strip(\"()\")\n",
    "        \n",
    "        # Load images\n",
    "        image1 = Image.open(image1_path).convert(\"RGB\")\n",
    "        image2 = Image.open(image2_path).convert(\"RGB\")\n",
    "\n",
    "        # Apply augmentations if provided\n",
    "        if self.augmentations:\n",
    "            image1 = self.augmentations(image1)\n",
    "            image2 = self.augmentations(image2)\n",
    "\n",
    "        # # CLIP:\n",
    "        # images_features = []\n",
    "        # for img in [image1, image2]:\n",
    "        #     image_tensor = self.transform(img).unsqueeze(0)\n",
    "        #     inputs = processor(images=image_tensor, return_tensors=\"pt\")\n",
    "        #     with torch.no_grad():\n",
    "        #         image_features = model.get_image_features(**inputs)\n",
    "        #         #images_features.append(image_features.numpy().flatten())\n",
    "        #     images_features.append(image_features.squeeze())  # Ensure it's a 512-dimensional tensor\n",
    "\n",
    "        \n",
    "        # Apply CLIP transforms if provided (transforms should convert to tensor)\n",
    "        if self.transform:\n",
    "            image1 = self.transform(image1)  # Apply transforms including ToTensor\n",
    "            image2 = self.transform(image2)\n",
    "\n",
    "        # Get image features using CLIP\n",
    "        images_features = []\n",
    "        for img in [image1, image2]:\n",
    "            image_tensor = img.unsqueeze(0)  # Add batch dimension for processing\n",
    "            inputs = processor(images=image_tensor, return_tensors=\"pt\")\n",
    "            with torch.no_grad():\n",
    "                image_features = model.get_image_features(**inputs)\n",
    "            images_features.append(image_features.squeeze())  # Ensure it's a 512-dimensional tensor\n",
    "\n",
    "        # Get similarity score and label (1 for similar, 0 for dissimilar)\n",
    "        similarity = self.data.iloc[idx, 2]\n",
    "        label = 0 if similarity < 3 else 1\n",
    "        \n",
    "        return image1_path, image2_path, images_features[0], images_features[1], torch.tensor(label, dtype=torch.float32)\n"
   ]
  },
  {
   "cell_type": "code",
   "execution_count": 6,
   "metadata": {},
   "outputs": [
    {
     "name": "stdout",
     "output_type": "stream",
     "text": [
      "cuda\n"
     ]
    }
   ],
   "source": [
    "if torch.cuda.is_available():\n",
    "    device = torch.device('cuda')\n",
    "# elif torch.backends.mps.is_available():\n",
    "#     device = torch.device(\"mps\")\n",
    "else:\n",
    "    device = torch.device('cpu')\n",
    "\n",
    "print(device)"
   ]
  },
  {
   "cell_type": "code",
   "execution_count": 7,
   "metadata": {},
   "outputs": [],
   "source": [
    "# Create datasets\n",
    "train_dataset = ImageSimilarityDataset(train_data, transform=clip_transform, augmentations=None)\n",
    "eval_dataset = ImageSimilarityDataset(eval_data, transform=clip_transform, augmentations=None)\n",
    "\n",
    "# Create DataLoaders\n",
    "train_loader = DataLoader(train_dataset, batch_size=8, shuffle=True)\n",
    "eval_loader = DataLoader(eval_dataset, batch_size=1, shuffle=False)"
   ]
  },
  {
   "cell_type": "code",
   "execution_count": 8,
   "metadata": {},
   "outputs": [],
   "source": [
    "class SiameseNetwork(nn.Module):\n",
    "    def __init__(self):\n",
    "        super(SiameseNetwork, self).__init__()\n",
    "        self.fc1 = nn.Linear(512, 256)\n",
    "        # self.fc2 = nn.Linear(256, 256)\n",
    "        self.fc3 = nn.Linear(256, 128)  # Keep larger dimension here\n",
    "        self.relu = nn.ReLU()\n",
    "\n",
    "    def forward_one(self, x):\n",
    "        x = self.relu(self.fc1(x))\n",
    "        # x = self.relu(self.fc2(x))\n",
    "        x = self.fc3(x) \n",
    "        return x\n",
    "\n",
    "    def forward(self, input1, input2):\n",
    "        output1 = self.forward_one(input1)\n",
    "        output2 = self.forward_one(input2)\n",
    "        return output1, output2\n"
   ]
  },
  {
   "cell_type": "code",
   "execution_count": 42,
   "metadata": {},
   "outputs": [],
   "source": [
    "# class SiameseNetwork(nn.Module):\n",
    "#     def __init__(self):\n",
    "#         super(SiameseNetwork, self).__init__()\n",
    "#         # Using fully connected layers to process 512-dimensional CLIP features\n",
    "#         self.fc1 = nn.Sequential(\n",
    "#             nn.Linear(512, 256),  # First layer to reduce dimensions\n",
    "#             nn.ReLU(inplace=True),\n",
    "#             nn.Dropout(p=0.5),\n",
    "#             nn.Linear(256, 128),  # Second layer\n",
    "#             nn.ReLU(inplace=True),\n",
    "#             nn.Linear(128, 2)     # Output layer with 2 units (for similarity comparison)\n",
    "#         )\n",
    "\n",
    "#     def forward_once(self, x):\n",
    "#         # Forward pass through fully connected layers\n",
    "#         return self.fc1(x)\n",
    "\n",
    "#     def forward(self, input1, input2):\n",
    "#         # Forward pass for both inputs\n",
    "#         output1 = self.forward_once(input1)\n",
    "#         output2 = self.forward_once(input2)\n",
    "#         return output1, output2\n"
   ]
  },
  {
   "cell_type": "code",
   "execution_count": 8,
   "metadata": {},
   "outputs": [],
   "source": [
    "# class SiameseNetwork(nn.Module):\n",
    "#     def __init__(self):\n",
    "#         super(SiameseNetwork, self).__init__()\n",
    "#         # Use fully connected layers for processing 512-dimensional CLIP features\n",
    "#         self.fc1 = nn.Sequential(\n",
    "#             nn.Linear(512, 256),  # Assuming CLIP outputs 512-dimensional features\n",
    "#             nn.ReLU(inplace=True),\n",
    "#             nn.Dropout(p=0.5),\n",
    "#             nn.Linear(256, 128),\n",
    "#             nn.ReLU(inplace=True),\n",
    "#             nn.Linear(128, 2)\n",
    "#         )\n",
    "\n",
    "#     def forward_once(self, x):\n",
    "#         # Forward pass through fully connected layers\n",
    "#         x = self.fc1(x)\n",
    "#         return x\n",
    "\n",
    "#     def forward(self, input1, input2):\n",
    "#         # Forward pass of input 1\n",
    "#         output1 = self.forward_once(input1)\n",
    "#         # Forward pass of input 2\n",
    "#         output2 = self.forward_once(input2)\n",
    "#         return output1, output2\n"
   ]
  },
  {
   "cell_type": "code",
   "execution_count": 9,
   "metadata": {},
   "outputs": [],
   "source": [
    "# class SiameseNetwork(nn.Module):\n",
    "    \n",
    "#     def __init__(self):\n",
    "#         super(SiameseNetwork, self).__init__()\n",
    "#         # Setting up the Sequential of CNN Layers\n",
    "#         self.cnn1 = nn.Sequential(\n",
    "#             nn.Conv2d(3, 96, kernel_size=11, stride=1),\n",
    "#             nn.ReLU(inplace=True),\n",
    "#             nn.LocalResponseNorm(5, alpha=0.0001, beta=0.75, k=2),\n",
    "#             nn.MaxPool2d(3, stride=2),\n",
    "#             nn.Dropout2d(p=0.3),\n",
    "            \n",
    "#             nn.Conv2d(96, 256, kernel_size=5, stride=1, padding=2),\n",
    "#             nn.ReLU(inplace=True),\n",
    "#             nn.LocalResponseNorm(5, alpha=0.0001, beta=0.75, k=2),\n",
    "#             nn.MaxPool2d(3, stride=2),\n",
    "#             nn.Dropout2d(p=0.3),\n",
    "\n",
    "#             nn.Conv2d(256, 384, kernel_size=3, stride=1, padding=1),\n",
    "#             nn.ReLU(inplace=True),\n",
    "            \n",
    "#             nn.Conv2d(384, 256, kernel_size=3, stride=1, padding=1),\n",
    "#             nn.ReLU(inplace=True),\n",
    "#             nn.MaxPool2d(3, stride=2),\n",
    "#             nn.Dropout2d(p=0.3),\n",
    "#         )\n",
    "        \n",
    "#         # Adaptive pooling layer to ensure the output size is consistent\n",
    "#         self.adaptive_pool = nn.AdaptiveAvgPool2d((6, 6))  # Adjust pooling size to handle dynamic input\n",
    "        \n",
    "#         # Defining the fully connected layers\n",
    "#         self.fc1 = nn.Sequential(\n",
    "#             nn.Linear(256 * 6 * 6, 1024),  # Input size adjusted for adaptive pooling\n",
    "#             nn.ReLU(inplace=True),\n",
    "#             nn.Dropout(p=0.5),\n",
    "            \n",
    "#             nn.Linear(1024, 128),\n",
    "#             nn.ReLU(inplace=True),\n",
    "            \n",
    "#             nn.Linear(128, 2)\n",
    "#         )\n",
    "        \n",
    "#     def forward_once(self, x):\n",
    "#         # Forward pass \n",
    "#         x = self.cnn1(x)\n",
    "#         x = self.adaptive_pool(x)  # Adaptive pooling to standardize the feature map size\n",
    "#         x = x.view(x.size(0), -1)  # Flatten the feature map\n",
    "#         x = self.fc1(x)\n",
    "#         return x\n",
    "\n",
    "#     def forward(self, input1, input2):\n",
    "#         # Forward pass of input 1\n",
    "#         output1 = self.forward_once(input1)\n",
    "#         # Forward pass of input 2\n",
    "#         output2 = self.forward_once(input2)\n",
    "#         return output1, output2\n",
    "\n",
    "# # class SiameseNetwork(nn.Module):\n",
    "    \n",
    "# #     def __init__(self):\n",
    "# #         super(SiameseNetwork, self).__init__()\n",
    "# #         # Setting up the Sequential of CNN Layers\n",
    "# #         self.cnn1 = nn.Sequential(\n",
    "# #             nn.Conv2d(3, 96, kernel_size=11, stride=1),  # Adjusted for RGB input\n",
    "# #             nn.ReLU(inplace=True),\n",
    "# #             nn.MaxPool2d(3, stride=2),\n",
    "            \n",
    "# #             nn.Conv2d(96, 256, kernel_size=5, stride=1, padding=2),\n",
    "# #             nn.ReLU(inplace=True),\n",
    "# #             nn.MaxPool2d(3, stride=2),\n",
    "# #             nn.Dropout2d(p=0.3),\n",
    "\n",
    "# #             nn.Conv2d(256, 384, kernel_size=3, stride=1, padding=1),\n",
    "# #             nn.ReLU(inplace=True),\n",
    "            \n",
    "# #             nn.Conv2d(384, 256, kernel_size=3, stride=1, padding=1),\n",
    "# #             nn.ReLU(inplace=True),\n",
    "# #             nn.MaxPool2d(3, stride=2),\n",
    "# #             nn.Dropout2d(p=0.3),\n",
    "# #         )\n",
    "        \n",
    "# #         # Adaptive pooling layer to ensure the output size is consistent\n",
    "# #         self.adaptive_pool = nn.AdaptiveAvgPool2d((6, 6))  # Adjust pooling size to handle dynamic input\n",
    "        \n",
    "# #         # Defining the fully connected layers\n",
    "# #         self.fc1 = nn.Sequential(\n",
    "# #             nn.Linear(256 * 6 * 6, 1024),  # Input size adjusted for adaptive pooling\n",
    "# #             nn.ReLU(inplace=True),\n",
    "# #             nn.Dropout(p=0.5),\n",
    "            \n",
    "# #             nn.Linear(1024, 128),\n",
    "# #             nn.ReLU(inplace=True),\n",
    "            \n",
    "# #             nn.Linear(128, 2)\n",
    "# #         )\n",
    "        \n",
    "# #     def forward_once(self, x):\n",
    "# #         # Forward pass \n",
    "# #         x = self.cnn1(x)\n",
    "# #         x = self.adaptive_pool(x)  # Adaptive pooling to standardize the feature map size\n",
    "# #         x = x.view(x.size(0), -1)  # Flatten the feature map\n",
    "#     #     x = self.fc1(x)\n",
    "#     #     return x\n",
    "\n",
    "#     # def forward(self, input1, input2):\n",
    "#     #     # Forward pass of input 1\n",
    "#     #     output1 = self.forward_once(input1)\n",
    "#     #     # Forward pass of input 2\n",
    "#     #     output2 = self.forward_once(input2)\n",
    "#     #     return output1, output2\n"
   ]
  },
  {
   "cell_type": "code",
   "execution_count": 43,
   "metadata": {},
   "outputs": [],
   "source": [
    "# class SmallSiameseNetwork(nn.Module):\n",
    "    \n",
    "#     def __init__(self):\n",
    "#         super(SmallSiameseNetwork, self).__init__()\n",
    "#         # Setting up a smaller CNN\n",
    "#         self.cnn1 = nn.Sequential(\n",
    "#             nn.Conv2d(3, 32, kernel_size=7, stride=1, padding=1),  # Fewer filters, smaller kernel size\n",
    "#             nn.ReLU(inplace=True),\n",
    "#             nn.MaxPool2d(2, stride=2),  # Max pooling with smaller stride to reduce spatial dimensions\n",
    "#             nn.Dropout2d(p=0.2),  # Reduced dropout rate\n",
    "            \n",
    "#             nn.Conv2d(32, 64, kernel_size=5, stride=1, padding=1),  # Fewer filters\n",
    "#             nn.ReLU(inplace=True),\n",
    "#             nn.MaxPool2d(2, stride=2),  # Smaller max-pooling\n",
    "#             nn.Dropout2d(p=0.2),\n",
    "\n",
    "#             # nn.Conv2d(64, 128, kernel_size=3, stride=1, padding=1),  # Fewer filters\n",
    "#             # nn.ReLU(inplace=True),\n",
    "#             # nn.MaxPool2d(2, stride=2),\n",
    "#             # nn.Dropout2d(p=0.2),\n",
    "#         )\n",
    "        \n",
    "#         # Adaptive pooling layer to standardize output size (reduce to 3x3)\n",
    "#         self.adaptive_pool = nn.AdaptiveAvgPool2d((3, 3))  # Smaller output size (3x3)\n",
    "        \n",
    "#         # Defining smaller fully connected layers\n",
    "#         self.fc1 = nn.Sequential(\n",
    "#             nn.Linear(64 * 3 * 3, 128),  # Reduced size based on new feature map size\n",
    "#             nn.ReLU(inplace=True),\n",
    "#             nn.Dropout(p=0.4),  # Keep some dropout for regularization\n",
    "            \n",
    "#             nn.Linear(128, 64),  # Smaller fully connected layer\n",
    "#             nn.ReLU(inplace=True),\n",
    "            \n",
    "#             nn.Linear(64, 2)  # Output layer remains the same\n",
    "#         )\n",
    "        \n",
    "#     def forward_once(self, x):\n",
    "#         # Forward pass \n",
    "#         x = self.cnn1(x)\n",
    "#         x = self.adaptive_pool(x)  # Adaptive pooling to standardize the feature map size\n",
    "#         x = x.view(x.size(0), -1)  # Flatten the feature map\n",
    "#         x = self.fc1(x)\n",
    "#         return x\n",
    "\n",
    "#     def forward(self, input1, input2):\n",
    "#         # Forward pass of input 1\n",
    "#         output1 = self.forward_once(input1)\n",
    "#         # Forward pass of input 2\n",
    "#         output2 = self.forward_once(input2)\n",
    "#         return output1, output2\n"
   ]
  },
  {
   "cell_type": "code",
   "execution_count": 9,
   "metadata": {},
   "outputs": [],
   "source": [
    "# define the loss function\n",
    "class ContrastiveLoss(torch.nn.Module):\n",
    "    \"\"\"\n",
    "    Contrastive loss function.\n",
    "    Based on:\n",
    "    \"\"\"\n",
    "\n",
    "    def __init__(self, margin=1.0):\n",
    "        super(ContrastiveLoss, self).__init__()\n",
    "        self.margin = margin\n",
    "\n",
    "    def forward(self, x0, x1, y):\n",
    "        ### Binary:\n",
    "        # euclidian distance\n",
    "        # diff = x0 - x1\n",
    "        # dist_sq = torch.sum(torch.pow(diff, 2), 1)\n",
    "        # if torch.any(dist_sq < 0):\n",
    "        #     print('the value of dist_sq is negative: ' + dist_sq)\n",
    "        # # dist = torch.sqrt(torch.abs(dist_sq))\n",
    "        # dist = torch.sqrt(dist_sq + 1e-6)\n",
    "        # mdist = self.margin - dist\n",
    "        # dist = torch.clamp(mdist, min=0.0)\n",
    "        # loss = y * dist_sq + (1 - y) * torch.pow(dist, 2)\n",
    "        # loss = torch.sum(loss) / 2.0 / x0.size()[0]\n",
    "\n",
    "        label = y #binary?\n",
    "        euclidean_distance = nn.functional.pairwise_distance(x0, x1)\n",
    "        loss_contrastive = torch.mean((label) * torch.pow(euclidean_distance, 2) + # similar\n",
    "                                (1 - label) * torch.pow(torch.clamp(self.margin - euclidean_distance, min=0.0), 2)) # dissimilar\n",
    "        return loss_contrastive\n",
    "        \n",
    "        "
   ]
  },
  {
   "cell_type": "code",
   "execution_count": 11,
   "metadata": {},
   "outputs": [],
   "source": [
    "def train_siamese_network(model, train_loader, eval_loader, criterion, optimizer, num_epochs):\n",
    "    model.train()  # Set the model to training mode\n",
    "    max_acc = 0\n",
    "    min_loss = np.inf\n",
    "    best_model = None\n",
    "\n",
    "    for epoch in range(num_epochs):\n",
    "        model.train()\n",
    "        running_loss = 0.0\n",
    "        correct = 0\n",
    "        \n",
    "        for i, (img1_path, img2_path, img1, img2, labels) in tqdm(enumerate(train_loader)):\n",
    "            # Move tensors to the appropriate device\n",
    "            img1, img2, labels = img1.to(device), img2.to(device), labels.to(device)\n",
    "\n",
    "            # Zero the parameter gradients\n",
    "            optimizer.zero_grad()\n",
    "\n",
    "            # Forward pass\n",
    "            output1, output2 = model(img1, img2)\n",
    "            loss = criterion(output1, output2, labels)\n",
    "\n",
    "            # Backward pass and optimization\n",
    "            loss.backward()\n",
    "            optimizer.step()\n",
    "            running_loss += loss.item()\n",
    "\n",
    "            # Accuracy\n",
    "            dist = F.pairwise_distance(output1, output2)\n",
    "            predicted = (dist < 1.0).float()\n",
    "            correct += (predicted == labels).sum().item()\n",
    "\n",
    "            # Print statistics\n",
    "            # if (i + 1) % 10 == 0:  # Print every 5 batches\n",
    "            #     print(f\"Epoch [{epoch + 1}/{num_epochs}], Step [{i + 1}/{len(train_loader)}], Loss: {running_loss / 10:.4f}\")\n",
    "            #     running_loss = 0.0\n",
    "\n",
    "        print(f\"Epoch [{epoch + 1}/{num_epochs}], Loss: {running_loss / len(train_loader):.4f}, Train Accuracy: {correct / len(train_loader.dataset):.2f}\")\n",
    "\n",
    "        if running_loss < min_loss:\n",
    "            min_loss = running_loss\n",
    "            best_model = model.state_dict()\n",
    "            print(\"Best model updated\")\n",
    "\n",
    "        # Evaluate the model\n",
    "        # if (epoch + 1) % 5 == 0:\n",
    "        #     model.eval()\n",
    "        #     correct = 0\n",
    "        #     with torch.no_grad():\n",
    "        #         for img1_path, img2_path, img1, img2, labels in eval_loader:\n",
    "        #             img1, img2, labels = img1.to(device), img2.to(device), labels.to(device)\n",
    "        #             output1, output2 = model(img1, img2)\n",
    "        #             dist = F.pairwise_distance(output1, output2)\n",
    "        #             predicted = (dist < 1.0).float()\n",
    "        #             correct += (predicted == labels).sum().item()\n",
    "        #     eval_acc = correct / len(eval_loader.dataset)\n",
    "        #     print(f\"Evaluation Accuracy: {eval_acc:.2f}\")\n",
    "\n",
    "        #     # Save the model with the best evaluation accuracy\n",
    "        #     if eval_acc >= max_acc:\n",
    "        #         max_acc = eval_acc\n",
    "        #         best_model = model.state_dict()\n",
    "        #         print(\"Best model updated\")\n",
    "\n",
    "    return best_model"
   ]
  },
  {
   "cell_type": "code",
   "execution_count": 12,
   "metadata": {},
   "outputs": [],
   "source": [
    "siamese_net = SiameseNetwork().to(device)\n",
    "criterion = ContrastiveLoss(margin=1.0)\n",
    "optimizer = optim.Adam(siamese_net.parameters(), lr=0.01)\n",
    "num_epochs = 100"
   ]
  },
  {
   "cell_type": "code",
   "execution_count": 13,
   "metadata": {},
   "outputs": [
    {
     "name": "stderr",
     "output_type": "stream",
     "text": [
      "0it [00:00, ?it/s]It looks like you are trying to rescale already rescaled images. If the input images have pixel values between 0 and 1, set `do_rescale=False` to avoid rescaling them again.\n",
      "71it [01:29,  1.27s/it]\n"
     ]
    },
    {
     "name": "stdout",
     "output_type": "stream",
     "text": [
      "Epoch [1/100], Loss: 0.2969, Train Accuracy: 0.59\n",
      "Best model updated\n"
     ]
    },
    {
     "name": "stderr",
     "output_type": "stream",
     "text": [
      "71it [01:30,  1.28s/it]\n"
     ]
    },
    {
     "name": "stdout",
     "output_type": "stream",
     "text": [
      "Epoch [2/100], Loss: 0.2281, Train Accuracy: 0.62\n",
      "Best model updated\n"
     ]
    },
    {
     "name": "stderr",
     "output_type": "stream",
     "text": [
      "71it [01:29,  1.26s/it]\n"
     ]
    },
    {
     "name": "stdout",
     "output_type": "stream",
     "text": [
      "Epoch [3/100], Loss: 0.2199, Train Accuracy: 0.64\n",
      "Best model updated\n"
     ]
    },
    {
     "name": "stderr",
     "output_type": "stream",
     "text": [
      "71it [01:27,  1.23s/it]\n"
     ]
    },
    {
     "name": "stdout",
     "output_type": "stream",
     "text": [
      "Epoch [4/100], Loss: 0.1662, Train Accuracy: 0.58\n",
      "Best model updated\n"
     ]
    },
    {
     "name": "stderr",
     "output_type": "stream",
     "text": [
      "71it [01:27,  1.24s/it]\n"
     ]
    },
    {
     "name": "stdout",
     "output_type": "stream",
     "text": [
      "Epoch [5/100], Loss: 0.1605, Train Accuracy: 0.59\n",
      "Best model updated\n"
     ]
    },
    {
     "name": "stderr",
     "output_type": "stream",
     "text": [
      "71it [01:27,  1.24s/it]\n"
     ]
    },
    {
     "name": "stdout",
     "output_type": "stream",
     "text": [
      "Epoch [6/100], Loss: 0.2039, Train Accuracy: 0.63\n"
     ]
    },
    {
     "name": "stderr",
     "output_type": "stream",
     "text": [
      "71it [01:27,  1.23s/it]\n"
     ]
    },
    {
     "name": "stdout",
     "output_type": "stream",
     "text": [
      "Epoch [7/100], Loss: 0.4349, Train Accuracy: 0.70\n"
     ]
    },
    {
     "name": "stderr",
     "output_type": "stream",
     "text": [
      "71it [01:27,  1.24s/it]\n"
     ]
    },
    {
     "name": "stdout",
     "output_type": "stream",
     "text": [
      "Epoch [8/100], Loss: 1.8579, Train Accuracy: 0.86\n"
     ]
    },
    {
     "name": "stderr",
     "output_type": "stream",
     "text": [
      "71it [01:27,  1.23s/it]\n"
     ]
    },
    {
     "name": "stdout",
     "output_type": "stream",
     "text": [
      "Epoch [9/100], Loss: 0.8381, Train Accuracy: 0.82\n"
     ]
    },
    {
     "name": "stderr",
     "output_type": "stream",
     "text": [
      "71it [01:25,  1.20s/it]\n"
     ]
    },
    {
     "name": "stdout",
     "output_type": "stream",
     "text": [
      "Epoch [10/100], Loss: 0.2289, Train Accuracy: 0.70\n"
     ]
    },
    {
     "name": "stderr",
     "output_type": "stream",
     "text": [
      "71it [01:25,  1.20s/it]\n"
     ]
    },
    {
     "name": "stdout",
     "output_type": "stream",
     "text": [
      "Epoch [11/100], Loss: 0.1513, Train Accuracy: 0.61\n",
      "Best model updated\n"
     ]
    },
    {
     "name": "stderr",
     "output_type": "stream",
     "text": [
      "71it [01:26,  1.22s/it]\n"
     ]
    },
    {
     "name": "stdout",
     "output_type": "stream",
     "text": [
      "Epoch [12/100], Loss: 0.1114, Train Accuracy: 0.61\n",
      "Best model updated\n"
     ]
    },
    {
     "name": "stderr",
     "output_type": "stream",
     "text": [
      "71it [01:26,  1.22s/it]\n"
     ]
    },
    {
     "name": "stdout",
     "output_type": "stream",
     "text": [
      "Epoch [13/100], Loss: 0.1106, Train Accuracy: 0.69\n",
      "Best model updated\n"
     ]
    },
    {
     "name": "stderr",
     "output_type": "stream",
     "text": [
      "71it [01:25,  1.20s/it]\n"
     ]
    },
    {
     "name": "stdout",
     "output_type": "stream",
     "text": [
      "Epoch [14/100], Loss: 0.1076, Train Accuracy: 0.68\n",
      "Best model updated\n"
     ]
    },
    {
     "name": "stderr",
     "output_type": "stream",
     "text": [
      "71it [01:28,  1.25s/it]\n"
     ]
    },
    {
     "name": "stdout",
     "output_type": "stream",
     "text": [
      "Epoch [15/100], Loss: 0.1112, Train Accuracy: 0.61\n"
     ]
    },
    {
     "name": "stderr",
     "output_type": "stream",
     "text": [
      "71it [01:25,  1.21s/it]\n"
     ]
    },
    {
     "name": "stdout",
     "output_type": "stream",
     "text": [
      "Epoch [16/100], Loss: 0.0853, Train Accuracy: 0.66\n",
      "Best model updated\n"
     ]
    },
    {
     "name": "stderr",
     "output_type": "stream",
     "text": [
      "71it [01:26,  1.21s/it]\n"
     ]
    },
    {
     "name": "stdout",
     "output_type": "stream",
     "text": [
      "Epoch [17/100], Loss: 0.1005, Train Accuracy: 0.64\n"
     ]
    },
    {
     "name": "stderr",
     "output_type": "stream",
     "text": [
      "71it [01:26,  1.22s/it]\n"
     ]
    },
    {
     "name": "stdout",
     "output_type": "stream",
     "text": [
      "Epoch [18/100], Loss: 0.0923, Train Accuracy: 0.67\n"
     ]
    },
    {
     "name": "stderr",
     "output_type": "stream",
     "text": [
      "71it [01:27,  1.23s/it]\n"
     ]
    },
    {
     "name": "stdout",
     "output_type": "stream",
     "text": [
      "Epoch [19/100], Loss: 0.0793, Train Accuracy: 0.68\n",
      "Best model updated\n"
     ]
    },
    {
     "name": "stderr",
     "output_type": "stream",
     "text": [
      "71it [01:25,  1.20s/it]\n"
     ]
    },
    {
     "name": "stdout",
     "output_type": "stream",
     "text": [
      "Epoch [20/100], Loss: 0.0645, Train Accuracy: 0.71\n",
      "Best model updated\n"
     ]
    },
    {
     "name": "stderr",
     "output_type": "stream",
     "text": [
      "71it [01:24,  1.19s/it]\n"
     ]
    },
    {
     "name": "stdout",
     "output_type": "stream",
     "text": [
      "Epoch [21/100], Loss: 0.0801, Train Accuracy: 0.69\n"
     ]
    },
    {
     "name": "stderr",
     "output_type": "stream",
     "text": [
      "71it [01:27,  1.23s/it]\n"
     ]
    },
    {
     "name": "stdout",
     "output_type": "stream",
     "text": [
      "Epoch [22/100], Loss: 0.0871, Train Accuracy: 0.69\n"
     ]
    },
    {
     "name": "stderr",
     "output_type": "stream",
     "text": [
      "71it [01:24,  1.20s/it]\n"
     ]
    },
    {
     "name": "stdout",
     "output_type": "stream",
     "text": [
      "Epoch [23/100], Loss: 0.0628, Train Accuracy: 0.72\n",
      "Best model updated\n"
     ]
    },
    {
     "name": "stderr",
     "output_type": "stream",
     "text": [
      "71it [01:29,  1.27s/it]\n"
     ]
    },
    {
     "name": "stdout",
     "output_type": "stream",
     "text": [
      "Epoch [24/100], Loss: 0.0569, Train Accuracy: 0.75\n",
      "Best model updated\n"
     ]
    },
    {
     "name": "stderr",
     "output_type": "stream",
     "text": [
      "71it [01:27,  1.23s/it]\n"
     ]
    },
    {
     "name": "stdout",
     "output_type": "stream",
     "text": [
      "Epoch [25/100], Loss: 0.0523, Train Accuracy: 0.74\n",
      "Best model updated\n"
     ]
    },
    {
     "name": "stderr",
     "output_type": "stream",
     "text": [
      "71it [01:27,  1.24s/it]\n"
     ]
    },
    {
     "name": "stdout",
     "output_type": "stream",
     "text": [
      "Epoch [26/100], Loss: 0.0553, Train Accuracy: 0.74\n"
     ]
    },
    {
     "name": "stderr",
     "output_type": "stream",
     "text": [
      "71it [01:27,  1.23s/it]\n"
     ]
    },
    {
     "name": "stdout",
     "output_type": "stream",
     "text": [
      "Epoch [27/100], Loss: 0.0675, Train Accuracy: 0.75\n"
     ]
    },
    {
     "name": "stderr",
     "output_type": "stream",
     "text": [
      "71it [01:24,  1.19s/it]\n"
     ]
    },
    {
     "name": "stdout",
     "output_type": "stream",
     "text": [
      "Epoch [28/100], Loss: 0.0464, Train Accuracy: 0.73\n",
      "Best model updated\n"
     ]
    },
    {
     "name": "stderr",
     "output_type": "stream",
     "text": [
      "71it [01:26,  1.22s/it]\n"
     ]
    },
    {
     "name": "stdout",
     "output_type": "stream",
     "text": [
      "Epoch [29/100], Loss: 0.0424, Train Accuracy: 0.78\n",
      "Best model updated\n"
     ]
    },
    {
     "name": "stderr",
     "output_type": "stream",
     "text": [
      "71it [01:26,  1.22s/it]\n"
     ]
    },
    {
     "name": "stdout",
     "output_type": "stream",
     "text": [
      "Epoch [30/100], Loss: 0.0434, Train Accuracy: 0.80\n"
     ]
    },
    {
     "name": "stderr",
     "output_type": "stream",
     "text": [
      "71it [01:28,  1.24s/it]\n"
     ]
    },
    {
     "name": "stdout",
     "output_type": "stream",
     "text": [
      "Epoch [31/100], Loss: 0.0447, Train Accuracy: 0.77\n"
     ]
    },
    {
     "name": "stderr",
     "output_type": "stream",
     "text": [
      "71it [01:27,  1.23s/it]\n"
     ]
    },
    {
     "name": "stdout",
     "output_type": "stream",
     "text": [
      "Epoch [32/100], Loss: 0.0569, Train Accuracy: 0.81\n"
     ]
    },
    {
     "name": "stderr",
     "output_type": "stream",
     "text": [
      "71it [01:26,  1.22s/it]\n"
     ]
    },
    {
     "name": "stdout",
     "output_type": "stream",
     "text": [
      "Epoch [33/100], Loss: 0.1320, Train Accuracy: 0.79\n"
     ]
    },
    {
     "name": "stderr",
     "output_type": "stream",
     "text": [
      "71it [01:26,  1.22s/it]\n"
     ]
    },
    {
     "name": "stdout",
     "output_type": "stream",
     "text": [
      "Epoch [34/100], Loss: 0.1000, Train Accuracy: 0.77\n"
     ]
    },
    {
     "name": "stderr",
     "output_type": "stream",
     "text": [
      "71it [01:27,  1.23s/it]\n"
     ]
    },
    {
     "name": "stdout",
     "output_type": "stream",
     "text": [
      "Epoch [35/100], Loss: 0.0614, Train Accuracy: 0.73\n"
     ]
    },
    {
     "name": "stderr",
     "output_type": "stream",
     "text": [
      "71it [01:28,  1.25s/it]\n"
     ]
    },
    {
     "name": "stdout",
     "output_type": "stream",
     "text": [
      "Epoch [36/100], Loss: 0.0581, Train Accuracy: 0.75\n"
     ]
    },
    {
     "name": "stderr",
     "output_type": "stream",
     "text": [
      "71it [01:27,  1.24s/it]\n"
     ]
    },
    {
     "name": "stdout",
     "output_type": "stream",
     "text": [
      "Epoch [37/100], Loss: 0.0465, Train Accuracy: 0.77\n"
     ]
    },
    {
     "name": "stderr",
     "output_type": "stream",
     "text": [
      "71it [01:29,  1.26s/it]\n"
     ]
    },
    {
     "name": "stdout",
     "output_type": "stream",
     "text": [
      "Epoch [38/100], Loss: 0.0540, Train Accuracy: 0.78\n"
     ]
    },
    {
     "name": "stderr",
     "output_type": "stream",
     "text": [
      "71it [01:27,  1.23s/it]\n"
     ]
    },
    {
     "name": "stdout",
     "output_type": "stream",
     "text": [
      "Epoch [39/100], Loss: 0.0538, Train Accuracy: 0.78\n"
     ]
    },
    {
     "name": "stderr",
     "output_type": "stream",
     "text": [
      "71it [01:27,  1.24s/it]\n"
     ]
    },
    {
     "name": "stdout",
     "output_type": "stream",
     "text": [
      "Epoch [40/100], Loss: 0.0450, Train Accuracy: 0.83\n"
     ]
    },
    {
     "name": "stderr",
     "output_type": "stream",
     "text": [
      "71it [01:24,  1.19s/it]\n"
     ]
    },
    {
     "name": "stdout",
     "output_type": "stream",
     "text": [
      "Epoch [41/100], Loss: 0.0972, Train Accuracy: 0.81\n"
     ]
    },
    {
     "name": "stderr",
     "output_type": "stream",
     "text": [
      "71it [01:28,  1.24s/it]\n"
     ]
    },
    {
     "name": "stdout",
     "output_type": "stream",
     "text": [
      "Epoch [42/100], Loss: 3.7945, Train Accuracy: 0.90\n"
     ]
    },
    {
     "name": "stderr",
     "output_type": "stream",
     "text": [
      "71it [01:25,  1.21s/it]\n"
     ]
    },
    {
     "name": "stdout",
     "output_type": "stream",
     "text": [
      "Epoch [43/100], Loss: 28.9140, Train Accuracy: 0.91\n"
     ]
    },
    {
     "name": "stderr",
     "output_type": "stream",
     "text": [
      "71it [01:27,  1.23s/it]\n"
     ]
    },
    {
     "name": "stdout",
     "output_type": "stream",
     "text": [
      "Epoch [44/100], Loss: 4.0878, Train Accuracy: 0.91\n"
     ]
    },
    {
     "name": "stderr",
     "output_type": "stream",
     "text": [
      "71it [01:25,  1.20s/it]\n"
     ]
    },
    {
     "name": "stdout",
     "output_type": "stream",
     "text": [
      "Epoch [45/100], Loss: 0.2258, Train Accuracy: 0.83\n"
     ]
    },
    {
     "name": "stderr",
     "output_type": "stream",
     "text": [
      "71it [01:27,  1.24s/it]\n"
     ]
    },
    {
     "name": "stdout",
     "output_type": "stream",
     "text": [
      "Epoch [46/100], Loss: 0.0931, Train Accuracy: 0.78\n"
     ]
    },
    {
     "name": "stderr",
     "output_type": "stream",
     "text": [
      "71it [01:27,  1.24s/it]\n"
     ]
    },
    {
     "name": "stdout",
     "output_type": "stream",
     "text": [
      "Epoch [47/100], Loss: 0.0733, Train Accuracy: 0.73\n"
     ]
    },
    {
     "name": "stderr",
     "output_type": "stream",
     "text": [
      "71it [01:27,  1.23s/it]\n"
     ]
    },
    {
     "name": "stdout",
     "output_type": "stream",
     "text": [
      "Epoch [48/100], Loss: 0.0625, Train Accuracy: 0.74\n"
     ]
    },
    {
     "name": "stderr",
     "output_type": "stream",
     "text": [
      "71it [01:26,  1.22s/it]\n"
     ]
    },
    {
     "name": "stdout",
     "output_type": "stream",
     "text": [
      "Epoch [49/100], Loss: 0.0534, Train Accuracy: 0.77\n"
     ]
    },
    {
     "name": "stderr",
     "output_type": "stream",
     "text": [
      "71it [01:26,  1.21s/it]\n"
     ]
    },
    {
     "name": "stdout",
     "output_type": "stream",
     "text": [
      "Epoch [50/100], Loss: 0.0491, Train Accuracy: 0.75\n"
     ]
    },
    {
     "name": "stderr",
     "output_type": "stream",
     "text": [
      "71it [01:27,  1.24s/it]\n"
     ]
    },
    {
     "name": "stdout",
     "output_type": "stream",
     "text": [
      "Epoch [51/100], Loss: 0.0456, Train Accuracy: 0.76\n"
     ]
    },
    {
     "name": "stderr",
     "output_type": "stream",
     "text": [
      "71it [01:27,  1.23s/it]\n"
     ]
    },
    {
     "name": "stdout",
     "output_type": "stream",
     "text": [
      "Epoch [52/100], Loss: 0.0452, Train Accuracy: 0.78\n"
     ]
    },
    {
     "name": "stderr",
     "output_type": "stream",
     "text": [
      "71it [01:29,  1.26s/it]\n"
     ]
    },
    {
     "name": "stdout",
     "output_type": "stream",
     "text": [
      "Epoch [53/100], Loss: 0.0411, Train Accuracy: 0.80\n",
      "Best model updated\n"
     ]
    },
    {
     "name": "stderr",
     "output_type": "stream",
     "text": [
      "71it [01:26,  1.22s/it]\n"
     ]
    },
    {
     "name": "stdout",
     "output_type": "stream",
     "text": [
      "Epoch [54/100], Loss: 0.0396, Train Accuracy: 0.80\n",
      "Best model updated\n"
     ]
    },
    {
     "name": "stderr",
     "output_type": "stream",
     "text": [
      "71it [01:28,  1.24s/it]\n"
     ]
    },
    {
     "name": "stdout",
     "output_type": "stream",
     "text": [
      "Epoch [55/100], Loss: 0.0378, Train Accuracy: 0.79\n",
      "Best model updated\n"
     ]
    },
    {
     "name": "stderr",
     "output_type": "stream",
     "text": [
      "71it [01:27,  1.24s/it]\n"
     ]
    },
    {
     "name": "stdout",
     "output_type": "stream",
     "text": [
      "Epoch [56/100], Loss: 0.0379, Train Accuracy: 0.81\n"
     ]
    },
    {
     "name": "stderr",
     "output_type": "stream",
     "text": [
      "71it [01:28,  1.25s/it]\n"
     ]
    },
    {
     "name": "stdout",
     "output_type": "stream",
     "text": [
      "Epoch [57/100], Loss: 0.0342, Train Accuracy: 0.80\n",
      "Best model updated\n"
     ]
    },
    {
     "name": "stderr",
     "output_type": "stream",
     "text": [
      "71it [01:27,  1.23s/it]\n"
     ]
    },
    {
     "name": "stdout",
     "output_type": "stream",
     "text": [
      "Epoch [58/100], Loss: 0.0311, Train Accuracy: 0.80\n",
      "Best model updated\n"
     ]
    },
    {
     "name": "stderr",
     "output_type": "stream",
     "text": [
      "71it [01:27,  1.23s/it]\n"
     ]
    },
    {
     "name": "stdout",
     "output_type": "stream",
     "text": [
      "Epoch [59/100], Loss: 0.0314, Train Accuracy: 0.83\n"
     ]
    },
    {
     "name": "stderr",
     "output_type": "stream",
     "text": [
      "71it [01:24,  1.19s/it]\n"
     ]
    },
    {
     "name": "stdout",
     "output_type": "stream",
     "text": [
      "Epoch [60/100], Loss: 0.0307, Train Accuracy: 0.84\n",
      "Best model updated\n"
     ]
    },
    {
     "name": "stderr",
     "output_type": "stream",
     "text": [
      "71it [01:27,  1.23s/it]\n"
     ]
    },
    {
     "name": "stdout",
     "output_type": "stream",
     "text": [
      "Epoch [61/100], Loss: 0.0309, Train Accuracy: 0.81\n"
     ]
    },
    {
     "name": "stderr",
     "output_type": "stream",
     "text": [
      "71it [01:26,  1.22s/it]\n"
     ]
    },
    {
     "name": "stdout",
     "output_type": "stream",
     "text": [
      "Epoch [62/100], Loss: 0.0269, Train Accuracy: 0.84\n",
      "Best model updated\n"
     ]
    },
    {
     "name": "stderr",
     "output_type": "stream",
     "text": [
      "71it [01:27,  1.23s/it]\n"
     ]
    },
    {
     "name": "stdout",
     "output_type": "stream",
     "text": [
      "Epoch [63/100], Loss: 0.0272, Train Accuracy: 0.84\n"
     ]
    },
    {
     "name": "stderr",
     "output_type": "stream",
     "text": [
      "71it [01:27,  1.23s/it]\n"
     ]
    },
    {
     "name": "stdout",
     "output_type": "stream",
     "text": [
      "Epoch [64/100], Loss: 0.0267, Train Accuracy: 0.83\n",
      "Best model updated\n"
     ]
    },
    {
     "name": "stderr",
     "output_type": "stream",
     "text": [
      "71it [01:28,  1.24s/it]\n"
     ]
    },
    {
     "name": "stdout",
     "output_type": "stream",
     "text": [
      "Epoch [65/100], Loss: 0.0261, Train Accuracy: 0.85\n",
      "Best model updated\n"
     ]
    },
    {
     "name": "stderr",
     "output_type": "stream",
     "text": [
      "71it [01:27,  1.24s/it]\n"
     ]
    },
    {
     "name": "stdout",
     "output_type": "stream",
     "text": [
      "Epoch [66/100], Loss: 0.0328, Train Accuracy: 0.87\n"
     ]
    },
    {
     "name": "stderr",
     "output_type": "stream",
     "text": [
      "71it [01:28,  1.24s/it]\n"
     ]
    },
    {
     "name": "stdout",
     "output_type": "stream",
     "text": [
      "Epoch [67/100], Loss: 0.0250, Train Accuracy: 0.86\n",
      "Best model updated\n"
     ]
    },
    {
     "name": "stderr",
     "output_type": "stream",
     "text": [
      "71it [01:28,  1.24s/it]\n"
     ]
    },
    {
     "name": "stdout",
     "output_type": "stream",
     "text": [
      "Epoch [68/100], Loss: 0.0281, Train Accuracy: 0.85\n"
     ]
    },
    {
     "name": "stderr",
     "output_type": "stream",
     "text": [
      "71it [01:28,  1.25s/it]\n"
     ]
    },
    {
     "name": "stdout",
     "output_type": "stream",
     "text": [
      "Epoch [69/100], Loss: 0.0252, Train Accuracy: 0.85\n"
     ]
    },
    {
     "name": "stderr",
     "output_type": "stream",
     "text": [
      "71it [01:30,  1.27s/it]\n"
     ]
    },
    {
     "name": "stdout",
     "output_type": "stream",
     "text": [
      "Epoch [70/100], Loss: 0.0272, Train Accuracy: 0.86\n"
     ]
    },
    {
     "name": "stderr",
     "output_type": "stream",
     "text": [
      "71it [01:28,  1.25s/it]\n"
     ]
    },
    {
     "name": "stdout",
     "output_type": "stream",
     "text": [
      "Epoch [71/100], Loss: 0.0236, Train Accuracy: 0.86\n",
      "Best model updated\n"
     ]
    },
    {
     "name": "stderr",
     "output_type": "stream",
     "text": [
      "71it [01:28,  1.25s/it]\n"
     ]
    },
    {
     "name": "stdout",
     "output_type": "stream",
     "text": [
      "Epoch [72/100], Loss: 0.0264, Train Accuracy: 0.88\n"
     ]
    },
    {
     "name": "stderr",
     "output_type": "stream",
     "text": [
      "71it [01:29,  1.26s/it]\n"
     ]
    },
    {
     "name": "stdout",
     "output_type": "stream",
     "text": [
      "Epoch [73/100], Loss: 0.0231, Train Accuracy: 0.87\n",
      "Best model updated\n"
     ]
    },
    {
     "name": "stderr",
     "output_type": "stream",
     "text": [
      "71it [01:28,  1.25s/it]\n"
     ]
    },
    {
     "name": "stdout",
     "output_type": "stream",
     "text": [
      "Epoch [74/100], Loss: 0.0277, Train Accuracy: 0.90\n"
     ]
    },
    {
     "name": "stderr",
     "output_type": "stream",
     "text": [
      "71it [01:28,  1.25s/it]\n"
     ]
    },
    {
     "name": "stdout",
     "output_type": "stream",
     "text": [
      "Epoch [75/100], Loss: 0.0231, Train Accuracy: 0.88\n"
     ]
    },
    {
     "name": "stderr",
     "output_type": "stream",
     "text": [
      "71it [01:28,  1.24s/it]\n"
     ]
    },
    {
     "name": "stdout",
     "output_type": "stream",
     "text": [
      "Epoch [76/100], Loss: 0.0274, Train Accuracy: 0.90\n"
     ]
    },
    {
     "name": "stderr",
     "output_type": "stream",
     "text": [
      "71it [01:30,  1.27s/it]\n"
     ]
    },
    {
     "name": "stdout",
     "output_type": "stream",
     "text": [
      "Epoch [77/100], Loss: 0.0413, Train Accuracy: 0.90\n"
     ]
    },
    {
     "name": "stderr",
     "output_type": "stream",
     "text": [
      "71it [01:30,  1.27s/it]\n"
     ]
    },
    {
     "name": "stdout",
     "output_type": "stream",
     "text": [
      "Epoch [78/100], Loss: 0.0402, Train Accuracy: 0.89\n"
     ]
    },
    {
     "name": "stderr",
     "output_type": "stream",
     "text": [
      "71it [01:28,  1.25s/it]\n"
     ]
    },
    {
     "name": "stdout",
     "output_type": "stream",
     "text": [
      "Epoch [79/100], Loss: 0.0480, Train Accuracy: 0.89\n"
     ]
    },
    {
     "name": "stderr",
     "output_type": "stream",
     "text": [
      "71it [01:27,  1.23s/it]\n"
     ]
    },
    {
     "name": "stdout",
     "output_type": "stream",
     "text": [
      "Epoch [80/100], Loss: 0.0333, Train Accuracy: 0.87\n"
     ]
    },
    {
     "name": "stderr",
     "output_type": "stream",
     "text": [
      "71it [01:28,  1.25s/it]\n"
     ]
    },
    {
     "name": "stdout",
     "output_type": "stream",
     "text": [
      "Epoch [81/100], Loss: 0.0391, Train Accuracy: 0.87\n"
     ]
    },
    {
     "name": "stderr",
     "output_type": "stream",
     "text": [
      "71it [01:29,  1.26s/it]\n"
     ]
    },
    {
     "name": "stdout",
     "output_type": "stream",
     "text": [
      "Epoch [82/100], Loss: 0.0487, Train Accuracy: 0.87\n"
     ]
    },
    {
     "name": "stderr",
     "output_type": "stream",
     "text": [
      "71it [01:28,  1.24s/it]\n"
     ]
    },
    {
     "name": "stdout",
     "output_type": "stream",
     "text": [
      "Epoch [83/100], Loss: 0.0424, Train Accuracy: 0.88\n"
     ]
    },
    {
     "name": "stderr",
     "output_type": "stream",
     "text": [
      "71it [01:26,  1.22s/it]\n"
     ]
    },
    {
     "name": "stdout",
     "output_type": "stream",
     "text": [
      "Epoch [84/100], Loss: 0.0595, Train Accuracy: 0.86\n"
     ]
    },
    {
     "name": "stderr",
     "output_type": "stream",
     "text": [
      "71it [01:27,  1.24s/it]\n"
     ]
    },
    {
     "name": "stdout",
     "output_type": "stream",
     "text": [
      "Epoch [85/100], Loss: 0.0377, Train Accuracy: 0.86\n"
     ]
    },
    {
     "name": "stderr",
     "output_type": "stream",
     "text": [
      "71it [01:28,  1.25s/it]\n"
     ]
    },
    {
     "name": "stdout",
     "output_type": "stream",
     "text": [
      "Epoch [86/100], Loss: 0.0369, Train Accuracy: 0.87\n"
     ]
    },
    {
     "name": "stderr",
     "output_type": "stream",
     "text": [
      "71it [01:27,  1.24s/it]\n"
     ]
    },
    {
     "name": "stdout",
     "output_type": "stream",
     "text": [
      "Epoch [87/100], Loss: 0.0266, Train Accuracy: 0.86\n"
     ]
    },
    {
     "name": "stderr",
     "output_type": "stream",
     "text": [
      "71it [01:28,  1.24s/it]\n"
     ]
    },
    {
     "name": "stdout",
     "output_type": "stream",
     "text": [
      "Epoch [88/100], Loss: 0.0243, Train Accuracy: 0.86\n"
     ]
    },
    {
     "name": "stderr",
     "output_type": "stream",
     "text": [
      "71it [01:27,  1.24s/it]\n"
     ]
    },
    {
     "name": "stdout",
     "output_type": "stream",
     "text": [
      "Epoch [89/100], Loss: 0.1481, Train Accuracy: 0.90\n"
     ]
    },
    {
     "name": "stderr",
     "output_type": "stream",
     "text": [
      "71it [01:28,  1.25s/it]\n"
     ]
    },
    {
     "name": "stdout",
     "output_type": "stream",
     "text": [
      "Epoch [90/100], Loss: 0.0651, Train Accuracy: 0.88\n"
     ]
    },
    {
     "name": "stderr",
     "output_type": "stream",
     "text": [
      "71it [01:30,  1.27s/it]\n"
     ]
    },
    {
     "name": "stdout",
     "output_type": "stream",
     "text": [
      "Epoch [91/100], Loss: 0.0259, Train Accuracy: 0.87\n"
     ]
    },
    {
     "name": "stderr",
     "output_type": "stream",
     "text": [
      "71it [01:29,  1.26s/it]\n"
     ]
    },
    {
     "name": "stdout",
     "output_type": "stream",
     "text": [
      "Epoch [92/100], Loss: 0.0444, Train Accuracy: 0.88\n"
     ]
    },
    {
     "name": "stderr",
     "output_type": "stream",
     "text": [
      "71it [01:29,  1.27s/it]\n"
     ]
    },
    {
     "name": "stdout",
     "output_type": "stream",
     "text": [
      "Epoch [93/100], Loss: 0.0317, Train Accuracy: 0.89\n"
     ]
    },
    {
     "name": "stderr",
     "output_type": "stream",
     "text": [
      "71it [01:27,  1.23s/it]\n"
     ]
    },
    {
     "name": "stdout",
     "output_type": "stream",
     "text": [
      "Epoch [94/100], Loss: 0.0269, Train Accuracy: 0.88\n"
     ]
    },
    {
     "name": "stderr",
     "output_type": "stream",
     "text": [
      "71it [01:28,  1.24s/it]\n"
     ]
    },
    {
     "name": "stdout",
     "output_type": "stream",
     "text": [
      "Epoch [95/100], Loss: 0.0294, Train Accuracy: 0.89\n"
     ]
    },
    {
     "name": "stderr",
     "output_type": "stream",
     "text": [
      "71it [01:28,  1.25s/it]\n"
     ]
    },
    {
     "name": "stdout",
     "output_type": "stream",
     "text": [
      "Epoch [96/100], Loss: 0.0241, Train Accuracy: 0.89\n"
     ]
    },
    {
     "name": "stderr",
     "output_type": "stream",
     "text": [
      "71it [01:28,  1.24s/it]\n"
     ]
    },
    {
     "name": "stdout",
     "output_type": "stream",
     "text": [
      "Epoch [97/100], Loss: 0.0344, Train Accuracy: 0.87\n"
     ]
    },
    {
     "name": "stderr",
     "output_type": "stream",
     "text": [
      "71it [01:30,  1.28s/it]\n"
     ]
    },
    {
     "name": "stdout",
     "output_type": "stream",
     "text": [
      "Epoch [98/100], Loss: 0.0646, Train Accuracy: 0.88\n"
     ]
    },
    {
     "name": "stderr",
     "output_type": "stream",
     "text": [
      "71it [01:28,  1.25s/it]\n"
     ]
    },
    {
     "name": "stdout",
     "output_type": "stream",
     "text": [
      "Epoch [99/100], Loss: 0.0922, Train Accuracy: 0.86\n"
     ]
    },
    {
     "name": "stderr",
     "output_type": "stream",
     "text": [
      "71it [01:28,  1.25s/it]"
     ]
    },
    {
     "name": "stdout",
     "output_type": "stream",
     "text": [
      "Epoch [100/100], Loss: 0.0346, Train Accuracy: 0.81\n"
     ]
    },
    {
     "name": "stderr",
     "output_type": "stream",
     "text": [
      "\n"
     ]
    }
   ],
   "source": [
    "trained_model = train_siamese_network(siamese_net, train_loader, eval_loader, criterion, optimizer, num_epochs)"
   ]
  },
  {
   "cell_type": "code",
   "execution_count": 14,
   "metadata": {},
   "outputs": [],
   "source": [
    "# Save the trained model\n",
    "torch.save(siamese_net.state_dict(), 'siamese_net_4.pth')"
   ]
  },
  {
   "cell_type": "code",
   "execution_count": 16,
   "metadata": {},
   "outputs": [
    {
     "name": "stderr",
     "output_type": "stream",
     "text": [
      "/tmp/ipykernel_182634/3788960927.py:2: FutureWarning: You are using `torch.load` with `weights_only=False` (the current default value), which uses the default pickle module implicitly. It is possible to construct malicious pickle data which will execute arbitrary code during unpickling (See https://github.com/pytorch/pytorch/blob/main/SECURITY.md#untrusted-models for more details). In a future release, the default value for `weights_only` will be flipped to `True`. This limits the functions that could be executed during unpickling. Arbitrary objects will no longer be allowed to be loaded via this mode unless they are explicitly allowlisted by the user via `torch.serialization.add_safe_globals`. We recommend you start setting `weights_only=True` for any use case where you don't have full control of the loaded file. Please open an issue on GitHub for any issues related to this experimental feature.\n",
      "  siamese_net.load_state_dict(torch.load('siamese_net_4.pth'))\n"
     ]
    }
   ],
   "source": [
    "# Load the trained model\n",
    "siamese_net.load_state_dict(torch.load('siamese_net_4.pth'))\n",
    "trained_model = siamese_net"
   ]
  },
  {
   "cell_type": "code",
   "execution_count": 17,
   "metadata": {},
   "outputs": [
    {
     "name": "stdout",
     "output_type": "stream",
     "text": [
      "Evaluation Accuracy: 0.6972\n",
      "Test F1 Score: 0.0444\n"
     ]
    },
    {
     "data": {
      "image/png": "[encoded data removed]",
      "text/plain": [
       "<Figure size 600x500 with 2 Axes>"
      ]
     },
     "metadata": {},
     "output_type": "display_data"
    }
   ],
   "source": [
    "from sklearn.metrics import confusion_matrix\n",
    "import seaborn as sns\n",
    "from sklearn.metrics import f1_score\n",
    "\n",
    "def test_siamese_network(model, test_loader):\n",
    "    model.eval()  # Set the model to evaluation mode\n",
    "    correct = 0\n",
    "    total = 0\n",
    "    all_labels = []\n",
    "    all_predictions = []\n",
    "\n",
    "    with torch.no_grad():\n",
    "        for i, (img1_path, img2_path, img1, img2, labels) in enumerate(test_loader):\n",
    "            # Move tensors to the appropriate device\n",
    "            img1, img2, labels = img1.to(device), img2.to(device), labels.to(device)\n",
    "\n",
    "            # Forward pass\n",
    "            output1, output2 = model(img1, img2)\n",
    "\n",
    "            # Calculate the euclidean distance between the outputs\n",
    "            dist = F.pairwise_distance(output1, output2)\n",
    "\n",
    "            # Get predictions\n",
    "            predicted = (dist < 1.0).float()\n",
    "            total += labels.size(0)\n",
    "            correct += (predicted == labels).sum().item()\n",
    "\n",
    "            all_labels.extend(labels)\n",
    "            all_predictions.extend(predicted)\n",
    "\n",
    "            # print(f\"Dist: {dist}, Predicted: {predicted}, Actual: {labels}\")\n",
    "\n",
    "            # if i == 10:\n",
    "            #     break\n",
    "\n",
    "    # accuracy:\n",
    "    accuracy = correct / total\n",
    "    print(f\"Evaluation Accuracy: {accuracy:.4f}\")\n",
    "\n",
    "    # move to cpu:\n",
    "    all_labels = [label.cpu().numpy() for label in all_labels]\n",
    "    all_predictions = [prediction.cpu().numpy() for prediction in all_predictions]\n",
    "\n",
    "    # f1 score:\n",
    "    f1 = f1_score(all_labels, all_predictions)\n",
    "    print(f\"Test F1 Score: {f1:.4f}\")\n",
    "\n",
    "    # confusion matrix:\n",
    "    matrix = confusion_matrix(all_labels, all_predictions)\n",
    "    plt.figure(figsize=(6, 5))\n",
    "    sns.heatmap(matrix, annot=True, fmt='g', cmap='Blues')\n",
    "    plt.xlabel('Predicted labels')\n",
    "    plt.ylabel('True labels')\n",
    "    plt.show()\n",
    "\n",
    "test_siamese_network(trained_model, eval_loader)"
   ]
  },
  {
   "cell_type": "code",
   "execution_count": 18,
   "metadata": {},
   "outputs": [
    {
     "name": "stdout",
     "output_type": "stream",
     "text": [
      "Evaluation Accuracy: 0.8587\n",
      "Test F1 Score: 0.5455\n"
     ]
    },
    {
     "data": {
      "image/png": "[encoded data removed]",
      "text/plain": [
       "<Figure size 600x500 with 2 Axes>"
      ]
     },
     "metadata": {},
     "output_type": "display_data"
    }
   ],
   "source": [
    "test_siamese_network(trained_model, train_loader)"
   ]
  },
  {
   "cell_type": "code",
   "execution_count": null,
   "metadata": {},
   "outputs": [],
   "source": [
    "# random_test = eval_data.sample(1)\n",
    "# img1, img2, label = random_test.iloc[0]\n",
    "# img1 = img1.strip(\"()\")\n",
    "# img2 = img2.strip(\"()\")\n",
    "\n",
    "# # Load images\n",
    "# image1 = Image.open(img1).convert(\"RGB\")\n",
    "# image2 = Image.open(img2).convert(\"RGB\")\n",
    "\n",
    "# # Print Images\n",
    "# display(image1)\n",
    "# display(image2)\n",
    "\n",
    "# # Apply transformations\n",
    "# image1 = transform(image1).unsqueeze(0)\n",
    "# image2 = transform(image2).unsqueeze(0)\n",
    "\n",
    "# # Forward pass\n",
    "# output1, output2 = trained_model(image1, image2)\n",
    "\n",
    "# # Calculate the euclidean distance between the outputs\n",
    "# # diff = output1 - output2\n",
    "# # dist_sq = torch.sum(torch.pow(diff, 2), 1)\n",
    "# # dist = torch.sqrt(dist_sq)\n",
    "# dist = F.pairwise_distance(output1, output2)\n",
    "# print(f\"Distance: {dist.item()}\")\n",
    "\n",
    "# # Get predictions\n",
    "# predicted = (dist < 1.0).float()\n",
    "# true_label = 0 if label < 2 else 1\n",
    "\n",
    "# print(f\"Predicted: {predicted.item()}, Actual: {true_label}\")"
   ]
  },
  {
   "cell_type": "code",
   "execution_count": null,
   "metadata": {},
   "outputs": [],
   "source": [
    "# pca of the output:\n",
    "from sklearn.decomposition import PCA\n",
    "\n",
    "# Get the output of the model\n",
    "outputs = []\n",
    "labels = []\n",
    "\n",
    "with torch.no_grad():\n",
    "    for img1, img2, label in eval_loader:\n",
    "        output1, output2 = trained_model(img1, img2)\n",
    "        outputs.append(output1)\n",
    "        labels.append(label)\n",
    "\n",
    "outputs = torch.cat(outputs, dim=0)\n",
    "labels = torch.cat(labels, dim=0)\n",
    "\n",
    "# Perform PCA\n",
    "pca = PCA(n_components=2)\n",
    "pca_outputs = pca.fit_transform(outputs)\n",
    "\n",
    "# Plot the PCA\n",
    "plt.figure(figsize=(8, 6))\n",
    "sns.scatterplot(x=pca_outputs[:, 0], y=pca_outputs[:, 1], hue=labels, palette='viridis')\n",
    "plt.title('PCA of the Siamese Network Output')\n",
    "plt.xlabel('Principal Component 1')\n",
    "plt.ylabel('Principal Component 2')\n",
    "plt.show()\n"
   ]
  },
  {
   "cell_type": "markdown",
   "metadata": {},
   "source": [
    "## Active Learning Setup"
   ]
  },
  {
   "cell_type": "code",
   "execution_count": 23,
   "metadata": {},
   "outputs": [
    {
     "name": "stdout",
     "output_type": "stream",
     "text": [
      "Unlabeled rows:  (33288, 5)\n"
     ]
    }
   ],
   "source": [
    "path_data_pool = \"datasets/house_styles/sampled_paired_labels_shuffled.csv\"\n",
    "data_pool = pd.read_csv(path_data_pool)\n",
    "unlabeled_rows = data_pool[data_pool['similarity'].isna()]\n",
    "print(\"Unlabeled rows: \", unlabeled_rows.shape)"
   ]
  },
  {
   "cell_type": "code",
   "execution_count": 25,
   "metadata": {},
   "outputs": [
    {
     "name": "stderr",
     "output_type": "stream",
     "text": [
      "100%|██████████| 625/625 [13:10<00:00,  1.26s/it]"
     ]
    },
    {
     "name": "stdout",
     "output_type": "stream",
     "text": [
      "[('datasets/house_styles/all_images/108_c76f77e2.jpg', 'datasets/house_styles/all_images/034_ad26fac6.jpg', 0.9999391436576843, 6.085634231567383e-05), ('datasets/house_styles/all_images/427_31f4d6f2.jpg', 'datasets/house_styles/all_images/366_6a85a605.jpg', 0.999911904335022, 8.809566497802734e-05), ('datasets/house_styles/all_images/310_10bdb154.jpg', 'datasets/house_styles/all_images/382_761139e9.jpg', 0.9997299313545227, 0.0002700686454772949), ('datasets/house_styles/all_images/388_aa0bd42a.jpg', 'datasets/house_styles/all_images/360_28ef686b.jpg', 0.9995713233947754, 0.0004286766052246094), ('datasets/house_styles/all_images/142_a3bbdd3d.jpg', 'datasets/house_styles/all_images/123_aa386d79.jpg', 0.9995629191398621, 0.00043708086013793945), ('datasets/house_styles/all_images/077_fd3da9e2.jpg', 'datasets/house_styles/all_images/035_6e7ff66b.jpg', 1.0005346536636353, 0.0005346536636352539), ('datasets/house_styles/all_images/212_aea88577.jpg', 'datasets/house_styles/all_images/087_24c73d10.jpg', 1.0006413459777832, 0.0006413459777832031), ('datasets/house_styles/all_images/212_aea88577.jpg', 'datasets/house_styles/all_images/125_743047fb.jpg', 1.0006413459777832, 0.0006413459777832031), ('datasets/house_styles/all_images/155_732ad883.jpg', 'datasets/house_styles/all_images/153_acb5cd48.jpg', 0.9992117285728455, 0.000788271427154541), ('datasets/house_styles/all_images/105_1c926771.jpg', 'datasets/house_styles/all_images/315_59373113.jpg', 0.9990601539611816, 0.0009398460388183594), ('datasets/house_styles/all_images/081_156ea596.jpg', 'datasets/house_styles/all_images/057_28786773.jpg', 0.9987893104553223, 0.0012106895446777344), ('datasets/house_styles/all_images/202_55578dea.jpg', 'datasets/house_styles/all_images/082_40db5260.jpg', 1.0013736486434937, 0.0013736486434936523), ('datasets/house_styles/all_images/304_7774d253.jpg', 'datasets/house_styles/all_images/112_f21e8af7.jpg', 0.9985216856002808, 0.0014783143997192383), ('datasets/house_styles/all_images/384_7bba4266.jpg', 'datasets/house_styles/all_images/291_87a33ca7.jpg', 1.0014984607696533, 0.0014984607696533203), ('datasets/house_styles/all_images/097_41e7ad48.jpg', 'datasets/house_styles/all_images/221_cbdbfa68.jpg', 1.0015168190002441, 0.0015168190002441406), ('datasets/house_styles/all_images/221_cbdbfa68.jpg', 'datasets/house_styles/all_images/138_03bf52ae.jpg', 1.001518726348877, 0.0015187263488769531), ('datasets/house_styles/all_images/097_41e7ad48.jpg', 'datasets/house_styles/all_images/136_9f1a39c1.jpg', 0.9984342455863953, 0.0015657544136047363), ('datasets/house_styles/all_images/037_326d0815.jpg', 'datasets/house_styles/all_images/060_26c18ddf.jpg', 0.9983698725700378, 0.0016301274299621582), ('datasets/house_styles/all_images/168_bbf12d12.jpg', 'datasets/house_styles/all_images/171_18d3b628.jpg', 1.0017313957214355, 0.0017313957214355469), ('datasets/house_styles/all_images/201_edbb9f6e.jpg', 'datasets/house_styles/all_images/225_25606f44.jpg', 1.0018975734710693, 0.001897573471069336), ('datasets/house_styles/all_images/225_25606f44.jpg', 'datasets/house_styles/all_images/199_e4e5df84.jpg', 1.0018997192382812, 0.00189971923828125), ('datasets/house_styles/all_images/018_7868b4d7.jpg', 'datasets/house_styles/all_images/510_95629ee6.jpg', 1.0022354125976562, 0.00223541259765625), ('datasets/house_styles/all_images/294_3260f65d.jpg', 'datasets/house_styles/all_images/153_acb5cd48.jpg', 0.9977177977561951, 0.0022822022438049316), ('datasets/house_styles/all_images/201_edbb9f6e.jpg', 'datasets/house_styles/all_images/019_61d9365b.jpg', 1.0023597478866577, 0.002359747886657715), ('datasets/house_styles/all_images/257_f1b4cd5b.jpg', 'datasets/house_styles/all_images/075_7b7e25b1.jpg', 0.9973691701889038, 0.0026308298110961914), ('datasets/house_styles/all_images/125_b3f68f40.jpg', 'datasets/house_styles/all_images/010_0e38a333.jpg', 0.9971349835395813, 0.002865016460418701), ('datasets/house_styles/all_images/159_f211f05e.jpg', 'datasets/house_styles/all_images/201_edbb9f6e.jpg', 0.9970706105232239, 0.002929389476776123), ('datasets/house_styles/all_images/159_f211f05e.jpg', 'datasets/house_styles/all_images/199_e4e5df84.jpg', 0.9970706105232239, 0.002929389476776123), ('datasets/house_styles/all_images/081_156ea596.jpg', 'datasets/house_styles/all_images/230_4add03cc.jpg', 1.0029361248016357, 0.002936124801635742), ('datasets/house_styles/all_images/005_eda52226.jpg', 'datasets/house_styles/all_images/122_e44a0cb3.jpg', 1.0029789209365845, 0.0029789209365844727), ('datasets/house_styles/all_images/168_bbf12d12.jpg', 'datasets/house_styles/all_images/201_936151d8.jpg', 0.9969132542610168, 0.0030867457389831543), ('datasets/house_styles/all_images/469_1ad24162.jpg', 'datasets/house_styles/all_images/501_bcd7edcd.jpg', 1.003410816192627, 0.003410816192626953), ('datasets/house_styles/all_images/050_999633cb.jpg', 'datasets/house_styles/all_images/388_aa0bd42a.jpg', 0.9965720176696777, 0.0034279823303222656), ('datasets/house_styles/all_images/041_d7474487.jpg', 'datasets/house_styles/all_images/035_7b4de4fd.jpg', 0.9964442849159241, 0.0035557150840759277), ('datasets/house_styles/all_images/172_fb1c801f.jpg', 'datasets/house_styles/all_images/077_7688f758.jpg', 1.0035932064056396, 0.0035932064056396484), ('datasets/house_styles/all_images/128_841a4e49.jpg', 'datasets/house_styles/all_images/150_1454420c.jpg', 1.0037213563919067, 0.0037213563919067383), ('datasets/house_styles/all_images/257_f1b4cd5b.jpg', 'datasets/house_styles/all_images/206_9b5a908f.jpg', 1.0037527084350586, 0.0037527084350585938), ('datasets/house_styles/all_images/117_d5ce16c2.jpg', 'datasets/house_styles/all_images/108_c76f77e2.jpg', 1.0038291215896606, 0.0038291215896606445), ('datasets/house_styles/all_images/366_08eff319.jpg', 'datasets/house_styles/all_images/229_f79304e9.jpg', 1.0038596391677856, 0.0038596391677856445), ('datasets/house_styles/all_images/113_3b341645.jpg', 'datasets/house_styles/all_images/069_3a6f2b43.jpg', 0.9960522651672363, 0.003947734832763672), ('datasets/house_styles/all_images/135_8c978f4e.jpg', 'datasets/house_styles/all_images/096_0dc661af.jpg', 1.0040465593338013, 0.0040465593338012695), ('datasets/house_styles/all_images/095_0a434ed3.jpg', 'datasets/house_styles/all_images/020_c8201633.jpg', 0.9958760142326355, 0.004123985767364502), ('datasets/house_styles/all_images/163_83960f4c.jpg', 'datasets/house_styles/all_images/010_0e38a333.jpg', 0.9957304000854492, 0.004269599914550781), ('datasets/house_styles/all_images/180_ea16e99b.jpg', 'datasets/house_styles/all_images/058_7f8c2954.jpg', 0.995703935623169, 0.004296064376831055), ('datasets/house_styles/all_images/168_bbf12d12.jpg', 'datasets/house_styles/all_images/139_38ae72c7.jpg', 1.004300832748413, 0.004300832748413086), ('datasets/house_styles/all_images/094_c29b2dc0.jpg', 'datasets/house_styles/all_images/304_56934f95.jpg', 0.9956626892089844, 0.004337310791015625), ('datasets/house_styles/all_images/284_1d326f0c.jpg', 'datasets/house_styles/all_images/257_f1b4cd5b.jpg', 1.0043531656265259, 0.004353165626525879), ('datasets/house_styles/all_images/227_33071f4b.jpg', 'datasets/house_styles/all_images/301_b73b9663.jpg', 1.0043554306030273, 0.004355430603027344), ('datasets/house_styles/all_images/196_95e8f791.jpg', 'datasets/house_styles/all_images/485_1c18da79.jpg', 0.9953823089599609, 0.0046176910400390625), ('datasets/house_styles/all_images/128_841a4e49.jpg', 'datasets/house_styles/all_images/198_7df0d8be.jpg', 0.9953314661979675, 0.004668533802032471), ('datasets/house_styles/all_images/187_f9d3cf18.jpg', 'datasets/house_styles/all_images/284_404c75b4.jpg', 0.9952367544174194, 0.004763245582580566), ('datasets/house_styles/all_images/349_60f37449.jpg', 'datasets/house_styles/all_images/343_354bff03.jpg', 1.005010962486267, 0.00501096248626709), ('datasets/house_styles/all_images/081_21153085.jpg', 'datasets/house_styles/all_images/382_baa9260f.jpg', 1.005065679550171, 0.0050656795501708984), ('datasets/house_styles/all_images/011_cc99985c.jpg', 'datasets/house_styles/all_images/331_377860bc.jpg', 0.994778037071228, 0.005221962928771973), ('datasets/house_styles/all_images/080_1bdfee05.jpg', 'datasets/house_styles/all_images/106_253755c1.jpg', 1.0054200887680054, 0.005420088768005371), ('datasets/house_styles/all_images/080_1bdfee05.jpg', 'datasets/house_styles/all_images/096_0dc661af.jpg', 1.0054200887680054, 0.005420088768005371), ('datasets/house_styles/all_images/054_37cbf3d3.jpg', 'datasets/house_styles/all_images/469_1ad24162.jpg', 1.00552237033844, 0.005522370338439941), ('datasets/house_styles/all_images/068_dc83e73a.jpg', 'datasets/house_styles/all_images/346_e98ba7a9.jpg', 0.9944660067558289, 0.005533993244171143), ('datasets/house_styles/all_images/117_d5ce16c2.jpg', 'datasets/house_styles/all_images/147_579b3c29.jpg', 1.0055651664733887, 0.005565166473388672), ('datasets/house_styles/all_images/384_7bba4266.jpg', 'datasets/house_styles/all_images/190_48347536.jpg', 0.9943639039993286, 0.005636096000671387), ('datasets/house_styles/all_images/116_32f01ef6.jpg', 'datasets/house_styles/all_images/084_dae155bc.jpg', 1.0057165622711182, 0.005716562271118164), ('datasets/house_styles/all_images/128_841a4e49.jpg', 'datasets/house_styles/all_images/159_7b4fd689.jpg', 1.0060503482818604, 0.0060503482818603516), ('datasets/house_styles/all_images/098_cff86baa.jpg', 'datasets/house_styles/all_images/035_6e7ff66b.jpg', 1.0062470436096191, 0.006247043609619141), ('datasets/house_styles/all_images/363_12412886.jpg', 'datasets/house_styles/all_images/208_78b28f8b.jpg', 0.9933710098266602, 0.006628990173339844), ('datasets/house_styles/all_images/439_ac9a7940.jpg', 'datasets/house_styles/all_images/301_b73b9663.jpg', 0.993216872215271, 0.006783127784729004), ('datasets/house_styles/all_images/017_ffb23173.jpg', 'datasets/house_styles/all_images/507_7d484885.jpg', 1.0076111555099487, 0.0076111555099487305), ('datasets/house_styles/all_images/105_1c926771.jpg', 'datasets/house_styles/all_images/501_bcd7edcd.jpg', 1.0077753067016602, 0.007775306701660156), ('datasets/house_styles/all_images/397_54b2527d.jpg', 'datasets/house_styles/all_images/360_28ef686b.jpg', 0.9921661019325256, 0.007833898067474365), ('datasets/house_styles/all_images/095_3cbc2895.jpg', 'datasets/house_styles/all_images/109_4eafbe2a.jpg', 1.0079643726348877, 0.007964372634887695), ('datasets/house_styles/all_images/115_32cb3529.jpg', 'datasets/house_styles/all_images/216_8570669c.jpg', 1.0079905986785889, 0.007990598678588867), ('datasets/house_styles/all_images/025_bea784dd.jpg', 'datasets/house_styles/all_images/105_1c926771.jpg', 0.9919434785842896, 0.00805652141571045), ('datasets/house_styles/all_images/122_e44a0cb3.jpg', 'datasets/house_styles/all_images/236_1c4cda1e.jpg', 0.9919298887252808, 0.008070111274719238), ('datasets/house_styles/all_images/112_f21e8af7.jpg', 'datasets/house_styles/all_images/250_27aa4502.jpg', 0.9918265342712402, 0.008173465728759766), ('datasets/house_styles/all_images/194_a66427af.jpg', 'datasets/house_styles/all_images/151_d0e35309.jpg', 0.9916986227035522, 0.008301377296447754), ('datasets/house_styles/all_images/012_f54e5947.jpg', 'datasets/house_styles/all_images/040_6ddfd3e7.jpg', 1.0085303783416748, 0.008530378341674805), ('datasets/house_styles/all_images/143_606cf1bf.jpg', 'datasets/house_styles/all_images/037_326d0815.jpg', 0.9914556741714478, 0.008544325828552246), ('datasets/house_styles/all_images/105_1c926771.jpg', 'datasets/house_styles/all_images/019_61d9365b.jpg', 0.9910274147987366, 0.008972585201263428), ('datasets/house_styles/all_images/202_698495e0.jpg', 'datasets/house_styles/all_images/334_493d0c20.jpg', 0.9908892512321472, 0.009110748767852783), ('datasets/house_styles/all_images/366_6a85a605.jpg', 'datasets/house_styles/all_images/153_acb5cd48.jpg', 0.9908310174942017, 0.00916898250579834), ('datasets/house_styles/all_images/005_eda52226.jpg', 'datasets/house_styles/all_images/083_1941f4a1.jpg', 0.9908202290534973, 0.009179770946502686), ('datasets/house_styles/all_images/447_96c74801.jpg', 'datasets/house_styles/all_images/196_4a29195b.jpg', 1.0092356204986572, 0.009235620498657227), ('datasets/house_styles/all_images/053_9f014739.jpg', 'datasets/house_styles/all_images/156_55935f6b.jpg', 1.009600281715393, 0.009600281715393066), ('datasets/house_styles/all_images/018_d675e0cc.jpg', 'datasets/house_styles/all_images/035_6e7ff66b.jpg', 0.9902949333190918, 0.009705066680908203), ('datasets/house_styles/all_images/034_ad26fac6.jpg', 'datasets/house_styles/all_images/037_326d0815.jpg', 1.009778618812561, 0.009778618812561035), ('datasets/house_styles/all_images/083_b149d914.jpg', 'datasets/house_styles/all_images/304_56934f95.jpg', 1.0099284648895264, 0.009928464889526367), ('datasets/house_styles/all_images/181_7a55eb4a.jpg', 'datasets/house_styles/all_images/050_999633cb.jpg', 0.9900439977645874, 0.009956002235412598), ('datasets/house_styles/all_images/155_732ad883.jpg', 'datasets/house_styles/all_images/429_bd3086cc.jpg', 1.0101821422576904, 0.01018214225769043), ('datasets/house_styles/all_images/128_841a4e49.jpg', 'datasets/house_styles/all_images/188_9b067c58.jpg', 1.0103169679641724, 0.010316967964172363), ('datasets/house_styles/all_images/163_de1fdac4.jpg', 'datasets/house_styles/all_images/212_aea88577.jpg', 1.0103567838668823, 0.010356783866882324), ('datasets/house_styles/all_images/247_7ebd437b.jpg', 'datasets/house_styles/all_images/123_d5fed066.jpg', 1.0103938579559326, 0.010393857955932617), ('datasets/house_styles/all_images/142_12fc668a.jpg', 'datasets/house_styles/all_images/470_6e733604.jpg', 1.0104728937149048, 0.010472893714904785), ('datasets/house_styles/all_images/159_f211f05e.jpg', 'datasets/house_styles/all_images/410_43ec7ac3.jpg', 1.010595679283142, 0.01059567928314209), ('datasets/house_styles/all_images/011_cc99985c.jpg', 'datasets/house_styles/all_images/363_12412886.jpg', 0.9892858862876892, 0.010714113712310791), ('datasets/house_styles/all_images/105_1c926771.jpg', 'datasets/house_styles/all_images/069_3a6f2b43.jpg', 0.9891566038131714, 0.010843396186828613), ('datasets/house_styles/all_images/384_7bba4266.jpg', 'datasets/house_styles/all_images/284_1d326f0c.jpg', 1.0110979080200195, 0.011097908020019531), ('datasets/house_styles/all_images/399_33c5d6dd.jpg', 'datasets/house_styles/all_images/019_61d9365b.jpg', 0.9888313412666321, 0.01116865873336792), ('datasets/house_styles/all_images/095_3cbc2895.jpg', 'datasets/house_styles/all_images/159_f211f05e.jpg', 1.011469841003418, 0.011469841003417969), ('datasets/house_styles/all_images/159_f211f05e.jpg', 'datasets/house_styles/all_images/129_eef5c8a1.jpg', 1.011471152305603, 0.011471152305603027), ('datasets/house_styles/all_images/007_64a3e2e9.jpg', 'datasets/house_styles/all_images/507_7d484885.jpg', 1.0116046667099, 0.011604666709899902), ('datasets/house_styles/all_images/376_3473d618.jpg', 'datasets/house_styles/all_images/257_f1b4cd5b.jpg', 0.9883546233177185, 0.011645376682281494)]\n"
     ]
    },
    {
     "name": "stderr",
     "output_type": "stream",
     "text": [
      "\n"
     ]
    }
   ],
   "source": [
    "unlabeled_rows = unlabeled_rows[['image1_path', 'image2_path', 'similarity']].sample(5000)\n",
    "unlabeled_dataset = ImageSimilarityDataset(unlabeled_rows, transform=clip_transform)\n",
    "data_loader = DataLoader(unlabeled_dataset, batch_size=8, shuffle=False)\n",
    "\n",
    "def active_learning_confident_samples(model, dataloader, margin=1.0, budget=120):\n",
    "    \"\"\"\n",
    "    Identify the least confident samples from the model.\n",
    "    \n",
    "    Args:\n",
    "        model: Trained Siamese network.\n",
    "        dataloader: DataLoader for the dataset you want to evaluate.\n",
    "        margin: The margin used in the contrastive loss.\n",
    "        top_k: Number of least confident samples to return.\n",
    "    \n",
    "    Returns:\n",
    "        A list of the top_k least confident samples (input pairs and distances).\n",
    "    \"\"\"\n",
    "    model.eval()  # Set model to evaluation mode\n",
    "    least_confident_samples = []\n",
    "\n",
    "    with torch.no_grad():  # Disable gradient calculation for evaluation\n",
    "        for img1_path, img2_path, img1, img2, labels in tqdm(dataloader):\n",
    "            # Move tensors to the appropriate device\n",
    "            img1, img2, label = img1.to(device), img2.to(device), labels.to(device)\n",
    "\n",
    "            # Get the model outputs for both images\n",
    "            output1, output2 = model(img1, img2)\n",
    "            \n",
    "            # Calculate pairwise distance\n",
    "            distances = F.pairwise_distance(output1, output2)\n",
    "            \n",
    "            # Calculate confidence score (distance from the margin)\n",
    "            confidence_scores = torch.abs(distances - margin)\n",
    "\n",
    "            # Collect the least confident samples (small confidence score means high uncertainty)\n",
    "            for i in range(len(confidence_scores)):\n",
    "                least_confident_samples.append((img1_path[i], img2_path[i], distances[i].item(), confidence_scores[i].item()))\n",
    "\n",
    "    # Sort samples by confidence score (ascending, to get least confident samples)\n",
    "    least_confident_samples.sort(key=lambda x: x[3])\n",
    "\n",
    "    # Return the top_k least confident samples\n",
    "    return least_confident_samples[:budget]\n",
    "\n",
    "least_confident_samples = active_learning_confident_samples(trained_model, data_loader, margin=1.0, budget=100)\n",
    "print(least_confident_samples)\n"
   ]
  },
  {
   "cell_type": "code",
   "execution_count": 29,
   "metadata": {},
   "outputs": [],
   "source": [
    "# save least confident samples to be tagged into a csv\n",
    "least_confident_samples_df = pd.DataFrame(least_confident_samples, columns=['image1_path', 'image2_path', 'distance', 'confidence'])\n",
    "# add image names:\n",
    "least_confident_samples_df['image1'] = least_confident_samples_df['image1_path'].apply(lambda x: x.split('/')[-1])\n",
    "least_confident_samples_df['image2'] = least_confident_samples_df['image2_path'].apply(lambda x: x.split('/')[-1])\n",
    "# make paths be surrounded by parentheses:\n",
    "least_confident_samples_df['image1_path'] = least_confident_samples_df['image1_path'].apply(lambda x: '(' + x + ')')\n",
    "least_confident_samples_df['image2_path'] = least_confident_samples_df['image2_path'].apply(lambda x: '(' + x + ')')\n",
    "# shorten distance and confidence:\n",
    "least_confident_samples_df['distance'] = least_confident_samples_df['distance'].apply(lambda x: round(x, 4))\n",
    "least_confident_samples_df['confidence'] = least_confident_samples_df['confidence'].apply(lambda x: round(x, 4))\n",
    "# add similarity column:\n",
    "least_confident_samples_df['similarity'] = None\n",
    "\n",
    "# reorder columns:\n",
    "least_confident_samples_df = least_confident_samples_df[['image1', 'image1_path', 'image2', 'image2_path', 'distance', 'confidence', 'similarity']]\n",
    "\n",
    "least_confident_samples_df.to_csv('active_learning_labels/round_1.csv', index=False)"
   ]
  }
 ],
 "metadata": {
  "kernelspec": {
   "display_name": "azureml_py310_sdkv2",
   "language": "python",
   "name": "python3"
  },
  "language_info": {
   "codemirror_mode": {
    "name": "ipython",
    "version": 3
   },
   "file_extension": ".py",
   "mimetype": "text/x-python",
   "name": "python",
   "nbconvert_exporter": "python",
   "pygments_lexer": "ipython3",
   "version": "3.10.15"
  }
 },
 "nbformat": 4,
 "nbformat_minor": 2
}
