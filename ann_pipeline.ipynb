{
 "cells": [
  {
   "cell_type": "markdown",
   "metadata": {},
   "source": [
    "# Approximate-Nearest-Neighbors Image Search Pipeline\n",
    "\n",
    "This notebook details a pipeline for performing approximate nearest neighbors search on a dataset of images by tokenizing the images into vectors using a pre-trained model. The Faiss library is then used for approximate nearest neighbors search. The metric used for the search is euclidean distance."
   ]
  },
  {
   "cell_type": "code",
   "execution_count": 53,
   "metadata": {},
   "outputs": [],
   "source": [
    "import os\n",
    "from PIL import Image\n",
    "import torch\n",
    "from torch import nn, optim\n",
    "from torchvision import transforms\n",
    "from transformers import CLIPModel, CLIPProcessor\n",
    "import numpy as np\n",
    "import pandas as pd\n",
    "from sklearn.model_selection import train_test_split\n",
    "from tqdm import tqdm\n",
    "import faiss\n",
    "import time\n",
    "from collections import defaultdict\n",
    "from typing import Tuple, Dict, List\n",
    "from matplotlib import pyplot as plt"
   ]
  },
  {
   "cell_type": "markdown",
   "metadata": {},
   "source": [
    "## Data"
   ]
  },
  {
   "cell_type": "markdown",
   "metadata": {},
   "source": [
    "### Load Sampled Dataset"
   ]
  },
  {
   "cell_type": "code",
   "execution_count": 2,
   "metadata": {},
   "outputs": [
    {
     "data": {
      "text/html": [
       "<div>\n",
       "<style scoped>\n",
       "    .dataframe tbody tr th:only-of-type {\n",
       "        vertical-align: middle;\n",
       "    }\n",
       "\n",
       "    .dataframe tbody tr th {\n",
       "        vertical-align: top;\n",
       "    }\n",
       "\n",
       "    .dataframe thead th {\n",
       "        text-align: right;\n",
       "    }\n",
       "</style>\n",
       "<table border=\"1\" class=\"dataframe\">\n",
       "  <thead>\n",
       "    <tr style=\"text-align: right;\">\n",
       "      <th></th>\n",
       "      <th>file_label</th>\n",
       "      <th>house_type</th>\n",
       "    </tr>\n",
       "  </thead>\n",
       "  <tbody>\n",
       "    <tr>\n",
       "      <th>0</th>\n",
       "      <td>350_ff091a99.jpg</td>\n",
       "      <td>farmhouse</td>\n",
       "    </tr>\n",
       "    <tr>\n",
       "      <th>1</th>\n",
       "      <td>258_560ea146.jpg</td>\n",
       "      <td>farmhouse</td>\n",
       "    </tr>\n",
       "    <tr>\n",
       "      <th>2</th>\n",
       "      <td>001_d2c7428a.jpg</td>\n",
       "      <td>farmhouse</td>\n",
       "    </tr>\n",
       "    <tr>\n",
       "      <th>3</th>\n",
       "      <td>131_1251d4eb.jpg</td>\n",
       "      <td>farmhouse</td>\n",
       "    </tr>\n",
       "    <tr>\n",
       "      <th>4</th>\n",
       "      <td>447_96c74801.jpg</td>\n",
       "      <td>farmhouse</td>\n",
       "    </tr>\n",
       "  </tbody>\n",
       "</table>\n",
       "</div>"
      ],
      "text/plain": [
       "         file_label house_type\n",
       "0  350_ff091a99.jpg  farmhouse\n",
       "1  258_560ea146.jpg  farmhouse\n",
       "2  001_d2c7428a.jpg  farmhouse\n",
       "3  131_1251d4eb.jpg  farmhouse\n",
       "4  447_96c74801.jpg  farmhouse"
      ]
     },
     "execution_count": 2,
     "metadata": {},
     "output_type": "execute_result"
    }
   ],
   "source": [
    "# Set up the folder paths\n",
    "dataset_path = \"datasets/house_styles\"\n",
    "image_folder = \"datasets/house_styles/all_images\"\n",
    "\n",
    "sampled_images = pd.read_csv(os.path.join(dataset_path, \"sampled_labels.csv\"))\n",
    "sampled_image_names = sampled_images[\"file_label\"].values"
   ]
  },
  {
   "cell_type": "markdown",
   "metadata": {},
   "source": [
    "### Select Query Images"
   ]
  },
  {
   "cell_type": "code",
   "execution_count": 24,
   "metadata": {},
   "outputs": [
    {
     "name": "stdout",
     "output_type": "stream",
     "text": [
      "Total number of pairs:  101042\n",
      "Number of labeled pairs:  68093\n"
     ]
    }
   ],
   "source": [
    "# Paired data\n",
    "pairs_path = os.path.join(dataset_path, \"sampled_paired_labels_shuffled.csv\")\n",
    "pairs_df = pd.read_csv(pairs_path)\n",
    "\n",
    "# count labeled pairs:\n",
    "tagged_pairs = pairs_df[\"similarity\"].value_counts()\n",
    "print(\"Total number of pairs: \", len(pairs_df))\n",
    "print(\"Number of labeled pairs: \", tagged_pairs.sum())"
   ]
  },
  {
   "cell_type": "code",
   "execution_count": 44,
   "metadata": {},
   "outputs": [
    {
     "data": {
      "text/plain": [
       "Text(0.5, 1.0, 'Distribution of pair counts')"
      ]
     },
     "execution_count": 44,
     "metadata": {},
     "output_type": "execute_result"
    },
    {
     "data": {
      "image/png": "[encoded data removed]",
      "text/plain": [
       "<Figure size 640x480 with 1 Axes>"
      ]
     },
     "metadata": {},
     "output_type": "display_data"
    }
   ],
   "source": [
    "# Count pairs and build relevance judgments in a single pass\n",
    "pair_counts = defaultdict(int)\n",
    "relevance_judgments = defaultdict(dict)\n",
    "\n",
    "# Create temporary lookup array for better performance\n",
    "pairs_array = pairs_df[['image1', 'image2', 'similarity']].values\n",
    "\n",
    "for img1, img2, sim in pairs_array:\n",
    "    if sim in [0,1,2,3]:\n",
    "        # Update counts\n",
    "        pair_counts[img1] += 1\n",
    "        pair_counts[img2] += 1\n",
    "        \n",
    "        # Store relevance judgments (both directions)\n",
    "        relevance_judgments[img1][img2] = sim\n",
    "        relevance_judgments[img2][img1] = sim\n",
    "\n",
    "sorted_images_by_count = sorted(pair_counts.items(), key=lambda x: x[1], reverse=True)\n",
    "# print(\"Images with the most tagged pairs:\")\n",
    "# for img, count in sorted_images_by_count[:50]:\n",
    "#     print(f\"{img}: {count}\")\n",
    "\n",
    "# distribution of pair counts:\n",
    "pair_counts_values = list(pair_counts.values())\n",
    "plt.hist(pair_counts_values, bins=12)\n",
    "plt.xlabel(\"Number of tagged pairs\")\n",
    "plt.ylabel(\"Number of images\")\n",
    "plt.title(\"Distribution of pair counts\")\n"
   ]
  },
  {
   "cell_type": "code",
   "execution_count": 47,
   "metadata": {},
   "outputs": [
    {
     "name": "stdout",
     "output_type": "stream",
     "text": [
      "lowest pair count:  305\n"
     ]
    }
   ],
   "source": [
    "n_queries = 50\n",
    "queries = sorted_images_by_count[:n_queries]\n",
    "print(\"lowest pair count: \", queries[-1][1])"
   ]
  },
  {
   "cell_type": "markdown",
   "metadata": {},
   "source": [
    "This means that the query images have at least 5 images labeled manually. "
   ]
  },
  {
   "cell_type": "code",
   "execution_count": 46,
   "metadata": {},
   "outputs": [
    {
     "name": "stdout",
     "output_type": "stream",
     "text": [
      "Number of queries:  50\n",
      "Number of index images:  400\n"
     ]
    }
   ],
   "source": [
    "query_image_names = [img for img, _ in queries]\n",
    "index_image_names = [img for img, _ in sorted_images_by_count[n_queries:]]\n",
    "\n",
    "print(\"Number of queries: \", len(query_image_names))\n",
    "print(\"Number of index images: \", len(index_image_names))"
   ]
  },
  {
   "cell_type": "markdown",
   "metadata": {},
   "source": [
    "## Embedding Models"
   ]
  },
  {
   "cell_type": "code",
   "execution_count": 58,
   "metadata": {},
   "outputs": [
    {
     "name": "stdout",
     "output_type": "stream",
     "text": [
      "cpu\n"
     ]
    }
   ],
   "source": [
    "# Set up device\n",
    "if torch.cuda.is_available():\n",
    "    device = torch.device('cuda')\n",
    "else:\n",
    "    device = torch.device('cpu')\n",
    "\n",
    "print(device)"
   ]
  },
  {
   "cell_type": "markdown",
   "metadata": {},
   "source": [
    "### Load Computer Vision Model"
   ]
  },
  {
   "cell_type": "code",
   "execution_count": 72,
   "metadata": {},
   "outputs": [
    {
     "name": "stderr",
     "output_type": "stream",
     "text": [
      "/Users/naomi/miniconda3/envs/Lab2_env/lib/python3.10/site-packages/transformers/tokenization_utils_base.py:1601: FutureWarning: `clean_up_tokenization_spaces` was not set. It will be set to `True` by default. This behavior will be depracted in transformers v4.45, and will be then set to `False` by default. For more details check this issue: https://github.com/huggingface/transformers/issues/31884\n",
      "  warnings.warn(\n"
     ]
    }
   ],
   "source": [
    "# Load the pretrained CLIP model and processor from Hugging Face\n",
    "clip_model = CLIPModel.from_pretrained(\"openai/clip-vit-base-patch32\")\n",
    "clip_processor = CLIPProcessor.from_pretrained(\"openai/clip-vit-base-patch32\")\n",
    "\n",
    "# Set up the image transformation pipeline\n",
    "clip_transform = transforms.Compose([\n",
    "    transforms.Resize((128, 128)),\n",
    "    transforms.ToTensor()\n",
    "])\n"
   ]
  },
  {
   "cell_type": "markdown",
   "metadata": {},
   "source": [
    "### Load Fine-Tuned Model"
   ]
  },
  {
   "cell_type": "code",
   "execution_count": 63,
   "metadata": {},
   "outputs": [
    {
     "data": {
      "text/plain": [
       "<All keys matched successfully>"
      ]
     },
     "execution_count": 63,
     "metadata": {},
     "output_type": "execute_result"
    }
   ],
   "source": [
    "class SiameseNetworkEmbedder(nn.Module):\n",
    "    def __init__(self):\n",
    "        super(SiameseNetworkEmbedder, self).__init__()\n",
    "        self.fc1 = nn.Linear(512, 256)\n",
    "        self.fc3 = nn.Linear(256, 128)\n",
    "        self.relu = nn.ReLU()\n",
    "\n",
    "    def forward_one(self, x):\n",
    "        x = self.relu(self.fc1(x))\n",
    "        x = self.fc3(x)\n",
    "        return x\n",
    "\n",
    "    def forward(self, input1, input2):\n",
    "        output1 = self.forward_one(input1)\n",
    "        output2 = self.forward_one(input2)\n",
    "        return output1, output2\n",
    "    \n",
    "    def get_embedding(self, x):\n",
    "        return self.forward_one(x)\n",
    "\n",
    "siamese_model = SiameseNetworkEmbedder()\n",
    "siamese_model.load_state_dict(torch.load(\"active_learning_models/net_round4.pth\", map_location=torch.device(device)))"
   ]
  },
  {
   "cell_type": "markdown",
   "metadata": {},
   "source": [
    "## Embed Images"
   ]
  },
  {
   "cell_type": "code",
   "execution_count": 91,
   "metadata": {},
   "outputs": [],
   "source": [
    "# Function to load and preprocess an image\n",
    "def load_and_preprocess_image(image_path):\n",
    "    try:\n",
    "        image = Image.open(image_path).convert(\"RGB\")\n",
    "        return clip_transform(image)\n",
    "    except Exception as e:\n",
    "        raise IOError(f\"Error loading image '{image_path}': {e}\")\n",
    "\n",
    "# Function to tokenize and get vector representation of an image\n",
    "def get_image_vector_clip(image_tensor):\n",
    "    image_tensor = image_tensor.unsqueeze(0)\n",
    "    inputs = clip_processor(images=image_tensor, return_tensors=\"pt\")\n",
    "    with torch.no_grad():\n",
    "        image_features = clip_model.get_image_features(**inputs)\n",
    "    return image_features.cpu().numpy().flatten()\n",
    "\n",
    "def get_image_vector_siamese(image_tensor):\n",
    "    image_tensor = image_tensor.unsqueeze(0)\n",
    "    inputs = clip_processor(images=image_tensor, return_tensors=\"pt\")\n",
    "    with torch.no_grad():\n",
    "        image_features = clip_model.get_image_features(**inputs)\n",
    "    images_features = image_features.squeeze()\n",
    "\n",
    "    image_emb = siamese_model.get_embedding(images_features.to(device))\n",
    "    image_emb = image_emb.cpu().detach().numpy()\n",
    "    return image_emb\n",
    "\n",
    "def save_image_vectors(image_names, output_file_path):\n",
    "    clip_vectors_list = []\n",
    "    siamese_vectors_list = []\n",
    "\n",
    "    for image_name in tqdm(image_names):\n",
    "        image_path = os.path.join(image_folder, image_name)\n",
    "\n",
    "        # try:\n",
    "        image_tensor = load_and_preprocess_image(image_path)\n",
    "        image_vector_clip = get_image_vector_clip(image_tensor)\n",
    "        image_vector_siamese = get_image_vector_siamese(image_tensor)\n",
    "\n",
    "        clip_vectors_list.append(image_vector_clip)\n",
    "        siamese_vectors_list.append(image_vector_siamese)\n",
    "\n",
    "        # except Exception as e:\n",
    "        #     print(f\"Error processing image '{image_path}': {e}\")\n",
    "\n",
    "    clip_vectors = np.stack(clip_vectors_list)\n",
    "    siamese_vectors = np.stack(siamese_vectors_list)\n",
    "    \n",
    "    np.save(output_file_path + \"_clip.npy\", clip_vectors)\n",
    "    np.save(output_file_path + \"_siamese.npy\", siamese_vectors)\n",
    "    \n",
    "    return clip_vectors, siamese_vectors"
   ]
  },
  {
   "cell_type": "code",
   "execution_count": 92,
   "metadata": {},
   "outputs": [
    {
     "name": "stderr",
     "output_type": "stream",
     "text": [
      "100%|██████████| 50/50 [01:10<00:00,  1.41s/it]\n"
     ]
    },
    {
     "name": "stdout",
     "output_type": "stream",
     "text": [
      "50 clip image vectors saved, 50 siamese image vectors saved.\n"
     ]
    },
    {
     "name": "stderr",
     "output_type": "stream",
     "text": [
      "100%|██████████| 400/400 [08:13<00:00,  1.23s/it]"
     ]
    },
    {
     "name": "stdout",
     "output_type": "stream",
     "text": [
      "400 clip image vectors saved, 400 siamese image vectors saved.\n"
     ]
    },
    {
     "name": "stderr",
     "output_type": "stream",
     "text": [
      "\n"
     ]
    }
   ],
   "source": [
    "output_path = \"vector_dbs/house_styles/\"\n",
    "\n",
    "if os.path.exists(output_path):\n",
    "    print(\"Output path already exists.\")\n",
    "else:\n",
    "    query_vectors_clip, query_vectors_siamese = save_image_vectors(query_image_names, output_path + \"vectors_query\")\n",
    "    print(f\"{len(query_vectors_clip)} clip image vectors saved, {len(query_vectors_siamese)} siamese image vectors saved.\")\n",
    "\n",
    "    index_vectors_clip, index_vectors_siamese = save_image_vectors(index_image_names, output_path + \"vectors_index\")\n",
    "    print(f\"{len(index_vectors_clip)} clip image vectors saved, {len(index_vectors_siamese)} siamese image vectors saved.\")"
   ]
  },
  {
   "cell_type": "markdown",
   "metadata": {},
   "source": [
    "### Load Tokenized Images"
   ]
  },
  {
   "cell_type": "code",
   "execution_count": 4,
   "metadata": {},
   "outputs": [
    {
     "name": "stdout",
     "output_type": "stream",
     "text": [
      "Loaded 693 index vectors and 174 query vectors.\n"
     ]
    }
   ],
   "source": [
    "output_path = \"vector_dbs/house_styles/\"\n",
    "\n",
    "index_vectors_clip = np.load(output_path + \"vectors_index_clip.npy\")\n",
    "query_vectors_clip = np.load(output_path + \"vectors_query_clip.npy\")\n",
    "index_vectors_siamese = np.load(output_path + \"vectors_index_siamese.npy\")\n",
    "query_vectors_siamese = np.load(output_path + \"vectors_query_siamese.npy\")\n",
    "\n",
    "print(f\"Loaded {len(index_vectors_clip)} index image vectors and {len(query_vectors_clip)} query image vectors.\")\n",
    "print(f\"Loaded {len(index_vectors_siamese)} index image vectors and {len(query_vectors_siamese)} query image vectors.\")"
   ]
  },
  {
   "cell_type": "markdown",
   "metadata": {},
   "source": [
    "## Ground Truth"
   ]
  },
  {
   "cell_type": "code",
   "execution_count": 93,
   "metadata": {},
   "outputs": [],
   "source": [
    "# def semi_optimized_exhaustive_search(\n",
    "#         index_vectors: np.ndarray,\n",
    "#         query_vectors: np.ndarray,\n",
    "#         k: int,\n",
    "# ):\n",
    "#     \"\"\"\n",
    "#     This function performs an optimized exhaustive search.\n",
    "#     Args:\n",
    "#         index_vectors: An array of shape (n_index, dim) containing the index vectors.\n",
    "#         query_vectors: An array of shape (n_queries, dim) containing the query vectors. \n",
    "#         dim: The dimensionality of the vectors.\n",
    "#     Returns:\n",
    "#         An array of shape (n_queries, k) containing the indices of the k nearest neighbors for each query vector.\n",
    "#     \"\"\"\n",
    "#     ann_lists = []\n",
    "#     for query_vec in tqdm(query_vectors):\n",
    "#         # distances = np.linalg.norm(index_vectors - query_vec, axis=1)\n",
    "#         distances = np.dot(index_vectors, query_vec)\n",
    "#         ann_lists.append(list(np.argsort(distances)[:k]))\n",
    "#     return np.array(ann_lists)\n",
    "\n",
    "def compute_recall_at_k(\n",
    "        nn_gt: np.ndarray,\n",
    "        ann: np.ndarray,\n",
    "        k: int,\n",
    "):\n",
    "    \"\"\"\n",
    "    This function computes the recall@k.\n",
    "    Args:\n",
    "        nn_gt: The ground truth nearest neighbors.\n",
    "        ann: The approximate nearest neighbors.\n",
    "        k: The number of nearest neighbors to consider.\n",
    "    Returns:\n",
    "        The recall@k.\n",
    "    \"\"\"\n",
    "    return round(sum([len(set(ann[i]) & set(nn_gt[i])) / k for i in range(len(ann))])/len(ann), 3)"
   ]
  },
  {
   "cell_type": "markdown",
   "metadata": {},
   "source": [
    "## Faiss Index"
   ]
  },
  {
   "cell_type": "markdown",
   "metadata": {},
   "source": [
    "### Build Index"
   ]
  },
  {
   "cell_type": "code",
   "execution_count": 111,
   "metadata": {},
   "outputs": [],
   "source": [
    "def build_faiss_lsh_index(\n",
    "        index_vectors: np.ndarray,\n",
    "        dim: int,\n",
    "        nbits: int,\n",
    "):\n",
    "    \"\"\"\n",
    "    This function builds a Faiss LSH index.\n",
    "    Args:\n",
    "        index_vectors: An array of shape (n_index, dim) containing the index vectors.\n",
    "        dim: The dimensionality of the vectors. \n",
    "        nbits: The number of bits to use in the hash.\n",
    "    Returns:\n",
    "        A Faiss LSH index.\n",
    "    \"\"\"\n",
    "    index = faiss.IndexLSH(dim, nbits)\n",
    "    index.add(index_vectors)\n",
    "    return index\n",
    "\n",
    "def build_faiss_flatl2_index(\n",
    "        index_vectors: np.ndarray,\n",
    "        dim: int,\n",
    "):\n",
    "    \"\"\"\n",
    "    This function builds a Faiss flat L2 index.\n",
    "    Args:\n",
    "        index_vectors: An array of shape (n_index, dim) containing the index vectors.\n",
    "        dim: The dimensionality of the vectors. \n",
    "    Returns:\n",
    "        A Faiss flat L2 index.\n",
    "    \"\"\"\n",
    "    np.random.seed(42)\n",
    "    num_vectors = index_vectors.shape[0]\n",
    "    dim = index_vectors.shape[1]\n",
    "    norm_index_vectors = index_vectors / np.linalg.norm(index_vectors, axis=1, keepdims=True)\n",
    "\n",
    "    index = faiss.IndexFlatL2(dim)\n",
    "    index.add(norm_index_vectors)\n",
    "    return index\n",
    "\n",
    "def build_faiss_hnsw_index(\n",
    "        index_vectors: np.ndarray,\n",
    "        dim: int,\n",
    "        nlinks: int,\n",
    "):\n",
    "    \"\"\"\n",
    "    This function builds a Faiss HNSW index.\n",
    "    Args:\n",
    "        index_vectors: An array of shape (n_index, dim) containing the index vectors.\n",
    "        dim: The dimensionality of the vectors. \n",
    "        nlinks: The number of links to use in the graph.\n",
    "    Returns:\n",
    "        A Faiss HNSW index.\n",
    "    \"\"\"\n",
    "    index = faiss.IndexHNSWFlat(dim, nlinks, faiss.METRIC_L2)\n",
    "    index.add(index_vectors)\n",
    "    return index\n",
    "\n",
    "def faiss_search(\n",
    "        query_vectors: np.ndarray,\n",
    "        index: faiss.Index,\n",
    "        k: int,\n",
    "):\n",
    "    \"\"\"\n",
    "    This function uses a Faiss index to search for the k-nearest neighbors of query_vectors.\n",
    "    Args:\n",
    "        query_vectors: An array of shape (n_queries, dim) containing the query vectors. \n",
    "        index: A Faiss index.\n",
    "        k: The number of nearest neighbors to retrieve.\n",
    "    Returns:\n",
    "        An array of shape (, ) containing the indices of the k-nearest neighbors for each query vector.\n",
    "    \"\"\"\n",
    "    if not isinstance(index, faiss.Index):\n",
    "        raise ValueError(\"The index must be a Faiss index.\")\n",
    "    if isinstance(index, faiss.IndexFlatL2):\n",
    "        num_queries = query_vectors.shape[0]\n",
    "        dim = query_vectors.shape[1]\n",
    "        query_vectors = query_vectors / np.linalg.norm(query_vectors, axis=1, keepdims=True)\n",
    "\n",
    "    distances, indices = index.search(query_vectors, k)\n",
    "    return indices"
   ]
  },
  {
   "cell_type": "code",
   "execution_count": 96,
   "metadata": {},
   "outputs": [],
   "source": [
    "k=10\n",
    "dim = index_vectors_clip.shape[1]"
   ]
  },
  {
   "cell_type": "code",
   "execution_count": 98,
   "metadata": {},
   "outputs": [
    {
     "name": "stdout",
     "output_type": "stream",
     "text": [
      "CPU times: user 14 ms, sys: 18.4 ms, total: 32.4 ms\n",
      "Wall time: 12 ms\n"
     ]
    }
   ],
   "source": [
    "%%time\n",
    "faiss_lsh_index = build_faiss_lsh_index(index_vectors_clip, dim, nbits=100)"
   ]
  },
  {
   "cell_type": "code",
   "execution_count": 99,
   "metadata": {},
   "outputs": [
    {
     "name": "stdout",
     "output_type": "stream",
     "text": [
      "CPU times: user 1.02 ms, sys: 1.78 ms, total: 2.8 ms\n",
      "Wall time: 4.96 ms\n"
     ]
    }
   ],
   "source": [
    "%%time\n",
    "faiss_l2_index = build_faiss_flatl2_index(index_vectors_clip, dim)"
   ]
  },
  {
   "cell_type": "code",
   "execution_count": 112,
   "metadata": {},
   "outputs": [
    {
     "name": "stdout",
     "output_type": "stream",
     "text": [
      "CPU times: user 17.2 ms, sys: 5.42 ms, total: 22.6 ms\n",
      "Wall time: 6.56 ms\n"
     ]
    }
   ],
   "source": [
    "%%time\n",
    "faiss_hnsw_index = build_faiss_hnsw_index(index_vectors_clip, dim, nlinks=16)"
   ]
  },
  {
   "cell_type": "markdown",
   "metadata": {},
   "source": [
    "### Compare Index Recall Compared to Exact Search"
   ]
  },
  {
   "cell_type": "code",
   "execution_count": 102,
   "metadata": {},
   "outputs": [
    {
     "name": "stdout",
     "output_type": "stream",
     "text": [
      "CPU times: user 2.23 ms, sys: 2.49 ms, total: 4.72 ms\n",
      "Wall time: 1.81 ms\n"
     ]
    }
   ],
   "source": [
    "%%time\n",
    "faiss_l2_ann = faiss_search(query_vectors_clip, faiss_l2_index, k)"
   ]
  },
  {
   "cell_type": "code",
   "execution_count": 103,
   "metadata": {},
   "outputs": [
    {
     "name": "stdout",
     "output_type": "stream",
     "text": [
      "recall@10 for faiss_lsh_index: 0.09\n",
      "CPU times: user 2.17 ms, sys: 1.45 ms, total: 3.62 ms\n",
      "Wall time: 4.66 ms\n"
     ]
    }
   ],
   "source": [
    "%%time\n",
    "faiss_lsh_ann = faiss_search(query_vectors_clip, faiss_lsh_index, k)\n",
    "\n",
    "print(f\"recall@10 for faiss_lsh_index: {compute_recall_at_k(faiss_l2_ann, faiss_lsh_ann, k)}\")"
   ]
  },
  {
   "cell_type": "code",
   "execution_count": 113,
   "metadata": {},
   "outputs": [
    {
     "name": "stdout",
     "output_type": "stream",
     "text": [
      "recall@10 for faiss_l2_index: 1.0\n",
      "CPU times: user 2.28 ms, sys: 3.25 ms, total: 5.53 ms\n",
      "Wall time: 3.69 ms\n"
     ]
    }
   ],
   "source": [
    "%%time\n",
    "faiss_hnsw_ann = faiss_search(query_vectors_clip, faiss_l2_index, k)\n",
    "\n",
    "print(f\"recall@10 for faiss_l2_index: {compute_recall_at_k(faiss_l2_ann, faiss_hnsw_ann, k)}\")"
   ]
  },
  {
   "cell_type": "markdown",
   "metadata": {},
   "source": [
    "### Conclusions\n",
    "\n",
    "For vectors resulting from CLIP embeddings, we see the best performance in ANN compared to exact search in the -- Index. With a recall of --.\n",
    "\n",
    "We will use this index in the rest of out work and analysis."
   ]
  },
  {
   "cell_type": "markdown",
   "metadata": {},
   "source": [
    "## NMSLIB Index"
   ]
  },
  {
   "cell_type": "code",
   "execution_count": 1,
   "metadata": {},
   "outputs": [
    {
     "name": "stdout",
     "output_type": "stream",
     "text": [
      "Channels:\n",
      " - conda-forge\n",
      " - defaults\n",
      "Platform: osx-arm64\n",
      "Collecting package metadata (repodata.json): done\n",
      "Solving environment: done\n",
      "\n",
      "## Package Plan ##\n",
      "\n",
      "  environment location: /Users/naomi/miniconda3/envs/Lab2_env\n",
      "\n",
      "  added / updated specs:\n",
      "    - nmslib\n",
      "\n",
      "\n",
      "The following packages will be downloaded:\n",
      "\n",
      "    package                    |            build\n",
      "    ---------------------------|-----------------\n",
      "    ca-certificates-2024.8.30  |       hf0a4a13_0         155 KB  conda-forge\n",
      "    certifi-2024.7.4           |     pyhd8ed1ab_0         156 KB  conda-forge\n",
      "    nmslib-2.1.1               |  py310hb6aeb05_0         592 KB\n",
      "    pybind11-2.13.5            |  py310h7306fd8_0         189 KB  conda-forge\n",
      "    pybind11-global-2.13.5     |  py310h7306fd8_0         177 KB  conda-forge\n",
      "    ------------------------------------------------------------\n",
      "                                           Total:         1.2 MB\n",
      "\n",
      "The following NEW packages will be INSTALLED:\n",
      "\n",
      "  nmslib             pkgs/main/osx-arm64::nmslib-2.1.1-py310hb6aeb05_0 \n",
      "  pybind11           conda-forge/osx-arm64::pybind11-2.13.5-py310h7306fd8_0 \n",
      "  pybind11-global    conda-forge/osx-arm64::pybind11-global-2.13.5-py310h7306fd8_0 \n",
      "\n",
      "The following packages will be UPDATED:\n",
      "\n",
      "  ca-certificates    pkgs/main::ca-certificates-2024.7.2-h~ --> conda-forge::ca-certificates-2024.8.30-hf0a4a13_0 \n",
      "\n",
      "The following packages will be SUPERSEDED by a higher-priority channel:\n",
      "\n",
      "  certifi            pkgs/main/osx-arm64::certifi-2024.7.4~ --> conda-forge/noarch::certifi-2024.7.4-pyhd8ed1ab_0 \n",
      "\n",
      "\n",
      "\n",
      "Downloading and Extracting Packages:\n",
      "nmslib-2.1.1         | 592 KB    |                                       |   0% \n",
      "pybind11-2.13.5      | 189 KB    |                                       |   0% \u001b[A\n",
      "\n",
      "pybind11-global-2.13 | 177 KB    |                                       |   0% \u001b[A\u001b[A\n",
      "\n",
      "\n",
      "certifi-2024.7.4     | 156 KB    |                                       |   0% \u001b[A\u001b[A\u001b[A\n",
      "\n",
      "\n",
      "\n",
      "ca-certificates-2024 | 155 KB    |                                       |   0% \u001b[A\u001b[A\u001b[A\u001b[A\n",
      "\n",
      "\n",
      "certifi-2024.7.4     | 156 KB    | ##################################### | 100% \u001b[A\u001b[A\u001b[A\n",
      "\n",
      "\n",
      "certifi-2024.7.4     | 156 KB    | ##################################### | 100% \u001b[A\u001b[A\u001b[A\n",
      "\n",
      "\n",
      "\n",
      "ca-certificates-2024 | 155 KB    | ##############################6       |  83% \u001b[A\u001b[A\u001b[A\u001b[A\n",
      "\n",
      "\n",
      "\n",
      "ca-certificates-2024 | 155 KB    | ##################################### | 100% \u001b[A\u001b[A\u001b[A\u001b[A\n",
      "pybind11-2.13.5      | 189 KB    | ###1                                  |   8% \u001b[A\n",
      "\n",
      "nmslib-2.1.1         | 592 KB    | 9                                     |   3% \u001b[A\u001b[A\n",
      "\n",
      "pybind11-global-2.13 | 177 KB    | ##################################### | 100% \u001b[A\u001b[A\n",
      "pybind11-2.13.5      | 189 KB    | ##################################### | 100% \u001b[A\n",
      "                                                                                \u001b[A\n",
      "                                                                                \u001b[A\n",
      "\n",
      "                                                                                \u001b[A\u001b[A\n",
      "\n",
      "\n",
      "                                                                                \u001b[A\u001b[A\u001b[A\n",
      "\n",
      "\n",
      "\n",
      "                                                                                \u001b[A\u001b[A\u001b[A\u001b[A\n",
      "Preparing transaction: done\n",
      "Verifying transaction: done\n",
      "Executing transaction: done\n",
      "\n",
      "Note: you may need to restart the kernel to use updated packages.\n"
     ]
    }
   ],
   "source": [
    "%conda install -c conda-forge nmslib"
   ]
  },
  {
   "cell_type": "code",
   "execution_count": 15,
   "metadata": {},
   "outputs": [
    {
     "name": "stderr",
     "output_type": "stream",
     "text": [
      "\n",
      "0%   10   20   30   40   50   60   70   80   90   100%\n",
      "|----|----|----|----|----|----|----|----|----|----|\n",
      "***************************************************\n",
      "\n",
      "0%   10   20   30   40   50   60   70   80   90   100%\n",
      "|----|----|----|----|----|----|----|----|----|----|\n",
      "***************************************************"
     ]
    }
   ],
   "source": [
    "import nmslib\n",
    "\n",
    "# Example data\n",
    "data = np.random.random((1000, 128)).astype(np.float32)\n",
    "\n",
    "# Create an index using a custom distance function\n",
    "def custom_distance(vec1, vec2):\n",
    "    return np.sum(np.abs(vec1 - vec2))  # Example: Manhattan distance\n",
    "\n",
    "index = nmslib.init(method='hnsw', space='cosinesimil')\n",
    "index.addDataPointBatch(data)\n",
    "index.createIndex({'post': 2}, print_progress=True)\n",
    "\n",
    "# Query\n",
    "ids, distances = index.knnQuery(data[0], k=10)\n"
   ]
  },
  {
   "cell_type": "markdown",
   "metadata": {},
   "source": [
    "## PyNNDescent Index"
   ]
  },
  {
   "cell_type": "code",
   "execution_count": null,
   "metadata": {},
   "outputs": [],
   "source": [
    "### run this in Lab2_env:\n",
    "# conda install -c conda-forge pynndescent"
   ]
  },
  {
   "cell_type": "code",
   "execution_count": 5,
   "metadata": {},
   "outputs": [],
   "source": [
    "import pynndescent\n",
    "from numba import njit"
   ]
  },
  {
   "cell_type": "code",
   "execution_count": 6,
   "metadata": {},
   "outputs": [],
   "source": [
    "### Define a unique distance function and compile it with Numba:\n",
    "@njit\n",
    "def custom_distance(x, y):\n",
    "    return np.sum(np.abs(x - y))"
   ]
  },
  {
   "cell_type": "code",
   "execution_count": 8,
   "metadata": {},
   "outputs": [],
   "source": [
    "index = pynndescent.NNDescent(index_vectors, metric=custom_distance)"
   ]
  },
  {
   "cell_type": "code",
   "execution_count": 9,
   "metadata": {},
   "outputs": [],
   "source": [
    "indices, distances = index.query(query_vectors, k=5)"
   ]
  },
  {
   "cell_type": "markdown",
   "metadata": {},
   "source": [
    "### Experiments with Cosine Similarity"
   ]
  },
  {
   "cell_type": "code",
   "execution_count": 35,
   "metadata": {},
   "outputs": [],
   "source": [
    "k=20"
   ]
  },
  {
   "cell_type": "code",
   "execution_count": 41,
   "metadata": {},
   "outputs": [
    {
     "name": "stderr",
     "output_type": "stream",
     "text": [
      "100%|██████████| 174/174 [00:00<00:00, 4104.34it/s]"
     ]
    },
    {
     "name": "stdout",
     "output_type": "stream",
     "text": [
      "Exhaustive search time: 0.04 seconds\n"
     ]
    },
    {
     "name": "stderr",
     "output_type": "stream",
     "text": [
      "\n"
     ]
    }
   ],
   "source": [
    "### Exhaustive Search - Comparative Baseline ###\n",
    "start = time.time()\n",
    "gt_nn = semi_optimized_exhaustive_search(index_vectors, query_vectors, k)\n",
    "end = time.time()\n",
    "print(f\"Exhaustive search time: {end - start:.2f} seconds\")"
   ]
  },
  {
   "cell_type": "code",
   "execution_count": 37,
   "metadata": {},
   "outputs": [
    {
     "name": "stdout",
     "output_type": "stream",
     "text": [
      "Indexing time: 0.30 seconds\n"
     ]
    }
   ],
   "source": [
    "start = time.time()\n",
    "nndescent_index = pynndescent.NNDescent(index_vectors, metric='dot')\n",
    "end = time.time()\n",
    "print(f\"Indexing time: {end - start:.2f} seconds\")"
   ]
  },
  {
   "cell_type": "code",
   "execution_count": 38,
   "metadata": {},
   "outputs": [
    {
     "name": "stdout",
     "output_type": "stream",
     "text": [
      "Query time: 0.88 seconds\n"
     ]
    }
   ],
   "source": [
    "start = time.time()\n",
    "indices, distances = nndescent_index.query(query_vectors, k)\n",
    "end = time.time()\n",
    "print(f\"Query time: {end - start:.2f} seconds\")"
   ]
  },
  {
   "cell_type": "code",
   "execution_count": 42,
   "metadata": {},
   "outputs": [
    {
     "name": "stdout",
     "output_type": "stream",
     "text": [
      "recall@20 for pynndescent: 0.02\n"
     ]
    }
   ],
   "source": [
    "recall = compute_recall_at_k(gt_nn, indices, k)\n",
    "print(f\"recall@{k} for pynndescent: {recall}\")"
   ]
  }
 ],
 "metadata": {
  "kernelspec": {
   "display_name": "Lab2_env",
   "language": "python",
   "name": "python3"
  },
  "language_info": {
   "codemirror_mode": {
    "name": "ipython",
    "version": 3
   },
   "file_extension": ".py",
   "mimetype": "text/x-python",
   "name": "python",
   "nbconvert_exporter": "python",
   "pygments_lexer": "ipython3",
   "version": "3.10.14"
  }
 },
 "nbformat": 4,
 "nbformat_minor": 2
}
