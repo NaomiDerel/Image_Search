{
 "cells": [
  {
   "cell_type": "markdown",
   "metadata": {},
   "source": [
    "# Neural Network - Similiarity Function"
   ]
  },
  {
   "cell_type": "markdown",
   "metadata": {},
   "source": [
    "This notebook details the process of choosing the similarity function that determines the images that are similar to a given image.\n",
    "The implementation of the network is based on the Siamese network implementation. This class of networks is known to be more robust to class imbalance, so it fits the data on which we train."
   ]
  },
  {
   "cell_type": "code",
   "execution_count": 1,
   "metadata": {},
   "outputs": [
    {
     "name": "stderr",
     "output_type": "stream",
     "text": [
      "/anaconda/envs/azureml_py310_sdkv2/lib/python3.10/site-packages/tqdm/auto.py:21: TqdmWarning: IProgress not found. Please update jupyter and ipywidgets. See https://ipywidgets.readthedocs.io/en/stable/user_install.html\n",
      "  from .autonotebook import tqdm as notebook_tqdm\n"
     ]
    }
   ],
   "source": [
    "import os\n",
    "import numpy as np\n",
    "import matplotlib.pyplot as plt\n",
    "import pandas as pd\n",
    "import torch\n",
    "from torch import nn\n",
    "from torch import optim\n",
    "from torch.utils.data import DataLoader, Dataset\n",
    "from torchvision import datasets, transforms\n",
    "import torch.nn.functional as F\n",
    "from PIL import Image\n",
    "from tqdm import tqdm\n",
    "from transformers import CLIPModel, CLIPProcessor\n",
    "from sklearn.metrics import f1_score"
   ]
  },
  {
   "cell_type": "code",
   "execution_count": 2,
   "metadata": {},
   "outputs": [
    {
     "name": "stdout",
     "output_type": "stream",
     "text": [
      "                                         image1_path  \\\n",
      "0  (datasets/house_styles/all_images/045_9fea1e51...   \n",
      "1  (datasets/house_styles/all_images/245_579b3304...   \n",
      "2  (datasets/house_styles/all_images/138_03bf52ae...   \n",
      "3  (datasets/house_styles/all_images/105_1c926771...   \n",
      "4  (datasets/house_styles/all_images/103_e1440563...   \n",
      "\n",
      "                                         image2_path  similarity  \n",
      "0  (datasets/house_styles/all_images/138_03bf52ae...         2.0  \n",
      "1  (datasets/house_styles/all_images/201_edbb9f6e...         2.0  \n",
      "2  (datasets/house_styles/all_images/122_e44a0cb3...         1.0  \n",
      "3  (datasets/house_styles/all_images/094_c29b2dc0...         2.0  \n",
      "4  (datasets/house_styles/all_images/539_897f21ca...         1.0  \n"
     ]
    }
   ],
   "source": [
    "# load the data\n",
    "current_round = 2\n",
    "\n",
    "base_path = 'active_learning_labels/'\n",
    "full_data_paths = pd.read_csv(base_path + 'round_' + str(current_round) + '.csv')\n",
    "\n",
    "\n",
    "# if current_round > 0:\n",
    "#     for i in range(1, current_round):\n",
    "#         path = base_path + 'round_' + str(i) + '.csv'\n",
    "#         data = pd.read_csv(path)\n",
    "#         full_data_paths = pd.concat([full_data_paths, data], ignore_index=True)\n",
    "\n",
    "data_paths = full_data_paths[['image1_path', 'image2_path', 'similarity']]\n",
    "\n",
    "print(data_paths.head())"
   ]
  },
  {
   "cell_type": "code",
   "execution_count": 3,
   "metadata": {},
   "outputs": [
    {
     "name": "stdout",
     "output_type": "stream",
     "text": [
      "Train:  (384, 3) Eval:  (96, 3)\n"
     ]
    }
   ],
   "source": [
    "# split the data into training and testing\n",
    "train_data = data_paths.sample(frac=0.8, random_state=42)\n",
    "eval_data = data_paths.drop(train_data.index)\n",
    "\n",
    "print(\"Train: \", train_data.shape, \"Eval: \", eval_data.shape)"
   ]
  },
  {
   "cell_type": "markdown",
   "metadata": {},
   "source": [
    "### Load Computer Vision Model"
   ]
  },
  {
   "cell_type": "code",
   "execution_count": 4,
   "metadata": {},
   "outputs": [],
   "source": [
    "# Load the pretrained CLIP model and processor from Hugging Face\n",
    "model = CLIPModel.from_pretrained(\"openai/clip-vit-base-patch32\")\n",
    "processor = CLIPProcessor.from_pretrained(\"openai/clip-vit-base-patch32\")\n",
    "\n",
    "# Set up the image transformation pipeline\n",
    "clip_transform = transforms.Compose([\n",
    "    transforms.Resize((128, 128)),\n",
    "    transforms.ToTensor(),\n",
    "    # transforms.Normalize((0.48145466, 0.4578275, 0.40821073), (0.26862954, 0.26130258, 0.27577711))\n",
    "])\n",
    "\n",
    "# Define the dataset class\n",
    "augmentations = transforms.Compose([\n",
    "    transforms.RandomApply([transforms.RandomResizedCrop(224)], p=0.3),  # 20% chance of random resized crop\n",
    "    transforms.RandomApply([transforms.RandomHorizontalFlip()], p=0.3),  # 20% chance of horizontal flip\n",
    "    transforms.RandomApply([transforms.ColorJitter(brightness=0.2, contrast=0.2, saturation=0.2, hue=0.1)], p=0.3),  # 20% chance of color jitter\n",
    "    transforms.ToTensor(),  # Always apply ToTensor\n",
    "])\n"
   ]
  },
  {
   "cell_type": "code",
   "execution_count": 5,
   "metadata": {},
   "outputs": [],
   "source": [
    "class ImageSimilarityDataset(Dataset):\n",
    "    def __init__(self, dataframe, transform=clip_transform, augmentations=None):\n",
    "        self.data = dataframe\n",
    "        self.transform = transform\n",
    "        self.augmentations = augmentations\n",
    "        self.master_path = ''\n",
    "\n",
    "    def __len__(self):\n",
    "        return len(self.data)\n",
    "\n",
    "    def __getitem__(self, idx):\n",
    "        # Load images from the paths\n",
    "        image1_path = self.master_path + self.data.iloc[idx, 0].strip(\"()\")\n",
    "        image2_path = self.master_path + self.data.iloc[idx, 1].strip(\"()\")\n",
    "        \n",
    "        # Load images\n",
    "        image1 = Image.open(image1_path).convert(\"RGB\")\n",
    "        image2 = Image.open(image2_path).convert(\"RGB\")\n",
    "\n",
    "        # Apply augmentations if provided\n",
    "        if self.augmentations:\n",
    "            image1 = self.augmentations(image1)\n",
    "            image2 = self.augmentations(image2)\n",
    "\n",
    "        # # CLIP:\n",
    "        # images_features = []\n",
    "        # for img in [image1, image2]:\n",
    "        #     image_tensor = self.transform(img).unsqueeze(0)\n",
    "        #     inputs = processor(images=image_tensor, return_tensors=\"pt\")\n",
    "        #     with torch.no_grad():\n",
    "        #         image_features = model.get_image_features(**inputs)\n",
    "        #         #images_features.append(image_features.numpy().flatten())\n",
    "        #     images_features.append(image_features.squeeze())  # Ensure it's a 512-dimensional tensor\n",
    "\n",
    "        \n",
    "        # Apply CLIP transforms if provided (transforms should convert to tensor)\n",
    "        if self.transform:\n",
    "            image1 = self.transform(image1)  # Apply transforms including ToTensor\n",
    "            image2 = self.transform(image2)\n",
    "\n",
    "        # Get image features using CLIP\n",
    "        images_features = []\n",
    "        for img in [image1, image2]:\n",
    "            image_tensor = img.unsqueeze(0)  # Add batch dimension for processing\n",
    "            inputs = processor(images=image_tensor, return_tensors=\"pt\")\n",
    "            with torch.no_grad():\n",
    "                image_features = model.get_image_features(**inputs)\n",
    "            images_features.append(image_features.squeeze())  # Ensure it's a 512-dimensional tensor\n",
    "\n",
    "        # Get similarity score and label (1 for similar, 0 for dissimilar)\n",
    "        similarity = self.data.iloc[idx, 2]\n",
    "        label = 0 if similarity < 3 else 1\n",
    "        \n",
    "        return image1_path, image2_path, images_features[0], images_features[1], torch.tensor(label, dtype=torch.float32)\n"
   ]
  },
  {
   "cell_type": "code",
   "execution_count": 6,
   "metadata": {},
   "outputs": [
    {
     "name": "stdout",
     "output_type": "stream",
     "text": [
      "cuda\n"
     ]
    }
   ],
   "source": [
    "if torch.cuda.is_available():\n",
    "    device = torch.device('cuda')\n",
    "# elif torch.backends.mps.is_available():\n",
    "#     device = torch.device(\"mps\")\n",
    "else:\n",
    "    device = torch.device('cpu')\n",
    "\n",
    "print(device)"
   ]
  },
  {
   "cell_type": "code",
   "execution_count": 7,
   "metadata": {},
   "outputs": [],
   "source": [
    "# Create datasets\n",
    "train_dataset = ImageSimilarityDataset(train_data, transform=clip_transform, augmentations=None)\n",
    "eval_dataset = ImageSimilarityDataset(eval_data, transform=clip_transform, augmentations=None)\n",
    "\n",
    "# Create DataLoaders\n",
    "train_loader = DataLoader(train_dataset, batch_size=8, shuffle=True)\n",
    "eval_loader = DataLoader(eval_dataset, batch_size=1, shuffle=False)"
   ]
  },
  {
   "cell_type": "code",
   "execution_count": 8,
   "metadata": {},
   "outputs": [],
   "source": [
    "class SiameseNetwork(nn.Module):\n",
    "    def __init__(self):\n",
    "        super(SiameseNetwork, self).__init__()\n",
    "        self.fc1 = nn.Linear(512, 256)\n",
    "        # self.fc2 = nn.Linear(256, 256)\n",
    "        self.fc3 = nn.Linear(256, 128)  # Keep larger dimension here\n",
    "        self.relu = nn.ReLU()\n",
    "\n",
    "    def forward_one(self, x):\n",
    "        x = self.relu(self.fc1(x))\n",
    "        # x = self.relu(self.fc2(x))\n",
    "        x = self.fc3(x) \n",
    "        return x\n",
    "\n",
    "    def forward(self, input1, input2):\n",
    "        output1 = self.forward_one(input1)\n",
    "        output2 = self.forward_one(input2)\n",
    "        return output1, output2\n"
   ]
  },
  {
   "cell_type": "code",
   "execution_count": 9,
   "metadata": {},
   "outputs": [],
   "source": [
    "# define the loss function\n",
    "class ContrastiveLoss(torch.nn.Module):\n",
    "    \"\"\"\n",
    "    Contrastive loss function.\n",
    "    Based on:\n",
    "    \"\"\"\n",
    "\n",
    "    def __init__(self, margin=1.0):\n",
    "        super(ContrastiveLoss, self).__init__()\n",
    "        self.margin = margin\n",
    "\n",
    "    def forward(self, x0, x1, y):\n",
    "        ### Binary:\n",
    "        # euclidian distance\n",
    "        # diff = x0 - x1\n",
    "        # dist_sq = torch.sum(torch.pow(diff, 2), 1)\n",
    "        # if torch.any(dist_sq < 0):\n",
    "        #     print('the value of dist_sq is negative: ' + dist_sq)\n",
    "        # # dist = torch.sqrt(torch.abs(dist_sq))\n",
    "        # dist = torch.sqrt(dist_sq + 1e-6)\n",
    "        # mdist = self.margin - dist\n",
    "        # dist = torch.clamp(mdist, min=0.0)\n",
    "        # loss = y * dist_sq + (1 - y) * torch.pow(dist, 2)\n",
    "        # loss = torch.sum(loss) / 2.0 / x0.size()[0]\n",
    "\n",
    "        label = y #binary?\n",
    "        euclidean_distance = nn.functional.pairwise_distance(x0, x1)\n",
    "        loss_contrastive = torch.mean((label) * torch.pow(euclidean_distance, 2) + # similar\n",
    "                                (1 - label) * torch.pow(torch.clamp(self.margin - euclidean_distance, min=0.0), 2)) # dissimilar\n",
    "        return loss_contrastive\n",
    "        \n",
    "        "
   ]
  },
  {
   "cell_type": "code",
   "execution_count": 10,
   "metadata": {},
   "outputs": [],
   "source": [
    "def train_siamese_network(model, train_loader, eval_loader, criterion, optimizer, num_epochs):\n",
    "    model.train()  # Set the model to training mode\n",
    "    max_acc = 0\n",
    "    min_loss = np.inf\n",
    "    max_f1_score = 0\n",
    "    best_model = None\n",
    "\n",
    "    for epoch in range(num_epochs):\n",
    "        model.train()\n",
    "        running_loss = 0.0\n",
    "        correct = 0\n",
    "        tp, fp, tn, fn = 0, 0, 0, 0\n",
    "        \n",
    "        for i, (img1_path, img2_path, img1, img2, labels) in tqdm(enumerate(train_loader)):\n",
    "            # Move tensors to the appropriate device\n",
    "            img1, img2, labels = img1.to(device), img2.to(device), labels.to(device)\n",
    "\n",
    "            # Zero the parameter gradients\n",
    "            optimizer.zero_grad()\n",
    "\n",
    "            # Forward pass\n",
    "            output1, output2 = model(img1, img2)\n",
    "            loss = criterion(output1, output2, labels)\n",
    "\n",
    "            # Backward pass and optimization\n",
    "            loss.backward()\n",
    "            optimizer.step()\n",
    "            running_loss += loss.item()\n",
    "\n",
    "            # Accuracy\n",
    "            dist = F.pairwise_distance(output1, output2)\n",
    "            predicted = (dist < 1.0).float()\n",
    "            correct += (predicted == labels).sum().item()\n",
    "\n",
    "            # F1 score\n",
    "            tp += ((predicted == 1) & (labels == 1)).sum().item()\n",
    "            fp += ((predicted == 1) & (labels == 0)).sum().item()\n",
    "            tn += ((predicted == 0) & (labels == 0)).sum().item()\n",
    "            fn += ((predicted == 0) & (labels == 1)).sum().item()\n",
    "\n",
    "            # running F1 score\n",
    "            # running_F1_score = f1_score(labels.cpu().numpy(), predicted.cpu().numpy())\n",
    "            # Print statistics\n",
    "            # if (i + 1) % 10 == 0:  # Print every 5 batches\n",
    "            #     print(f\"Epoch [{epoch + 1}/{num_epochs}], Step [{i + 1}/{len(train_loader)}], Loss: {running_loss / 10:.4f}\")\n",
    "            #     running_loss = 0.0\n",
    "\n",
    "        f1 = 2 * tp / (2 * tp + fp + fn)\n",
    "        print(f\"Epoch [{epoch + 1}/{num_epochs}], Loss: {running_loss / len(train_loader):.4f}, Train Accuracy: {correct / len(train_loader.dataset):.2f}, F1 Score: {f1:.2f}\")\n",
    "\n",
    "        # if running_loss < min_loss:\n",
    "        #     min_loss = running_loss\n",
    "        #     best_model = model.state_dict()\n",
    "        #     print(\"Best model updated\")\n",
    "        \n",
    "        if f1 >= max_f1_score:\n",
    "            max_f1_score = f1\n",
    "            best_model = model.state_dict()\n",
    "            print(\"Best model updated\")\n",
    "        \n",
    "\n",
    "        # Evaluate the model\n",
    "        # if (epoch + 1) % 5 == 0:\n",
    "        #     model.eval()\n",
    "        #     correct = 0\n",
    "        #     with torch.no_grad():\n",
    "        #         for img1_path, img2_path, img1, img2, labels in eval_loader:\n",
    "        #             img1, img2, labels = img1.to(device), img2.to(device), labels.to(device)\n",
    "        #             output1, output2 = model(img1, img2)\n",
    "        #             dist = F.pairwise_distance(output1, output2)\n",
    "        #             predicted = (dist < 1.0).float()\n",
    "        #             correct += (predicted == labels).sum().item()\n",
    "        #     eval_acc = correct / len(eval_loader.dataset)\n",
    "        #     print(f\"Evaluation Accuracy: {eval_acc:.2f}\")\n",
    "\n",
    "        #     # Save the model with the best evaluation accuracy\n",
    "        #     if eval_acc >= max_acc:\n",
    "        #         max_acc = eval_acc\n",
    "        #         best_model = model.state_dict()\n",
    "        #         print(\"Best model updated\")\n",
    "\n",
    "    return model, best_model"
   ]
  },
  {
   "cell_type": "code",
   "execution_count": 20,
   "metadata": {},
   "outputs": [
    {
     "name": "stderr",
     "output_type": "stream",
     "text": [
      "/tmp/ipykernel_90041/2224964062.py:7: FutureWarning: You are using `torch.load` with `weights_only=False` (the current default value), which uses the default pickle module implicitly. It is possible to construct malicious pickle data which will execute arbitrary code during unpickling (See https://github.com/pytorch/pytorch/blob/main/SECURITY.md#untrusted-models for more details). In a future release, the default value for `weights_only` will be flipped to `True`. This limits the functions that could be executed during unpickling. Arbitrary objects will no longer be allowed to be loaded via this mode unless they are explicitly allowlisted by the user via `torch.serialization.add_safe_globals`. We recommend you start setting `weights_only=True` for any use case where you don't have full control of the loaded file. Please open an issue on GitHub for any issues related to this experimental feature.\n",
      "  siamese_net.load_state_dict(torch.load('active_learning_models/net_round2_4.pth'))\n"
     ]
    },
    {
     "data": {
      "text/plain": [
       "<All keys matched successfully>"
      ]
     },
     "execution_count": 20,
     "metadata": {},
     "output_type": "execute_result"
    }
   ],
   "source": [
    "siamese_net = SiameseNetwork().to(device)\n",
    "criterion = ContrastiveLoss(margin=1.0)\n",
    "optimizer = optim.Adam(siamese_net.parameters(), lr=0.01)\n",
    "num_epochs = 100\n",
    "\n",
    "# Start from last trained model:\n",
    "siamese_net.load_state_dict(torch.load('active_learning_models/net_round2_4.pth'))\n",
    "# optimizer.load_state_dict(torch.load('active_learning_models/optimizer_round2_4.pth'))"
   ]
  },
  {
   "cell_type": "code",
   "execution_count": 21,
   "metadata": {},
   "outputs": [
    {
     "name": "stderr",
     "output_type": "stream",
     "text": [
      "48it [01:00,  1.25s/it]\n"
     ]
    },
    {
     "name": "stdout",
     "output_type": "stream",
     "text": [
      "Epoch [1/100], Loss: 0.1663, Train Accuracy: 0.79, F1 Score: 0.07\n",
      "Best model updated\n"
     ]
    },
    {
     "name": "stderr",
     "output_type": "stream",
     "text": [
      "48it [01:01,  1.29s/it]\n"
     ]
    },
    {
     "name": "stdout",
     "output_type": "stream",
     "text": [
      "Epoch [2/100], Loss: 0.1153, Train Accuracy: 0.76, F1 Score: 0.15\n",
      "Best model updated\n"
     ]
    },
    {
     "name": "stderr",
     "output_type": "stream",
     "text": [
      "48it [01:01,  1.27s/it]\n"
     ]
    },
    {
     "name": "stdout",
     "output_type": "stream",
     "text": [
      "Epoch [3/100], Loss: 0.0869, Train Accuracy: 0.75, F1 Score: 0.24\n",
      "Best model updated\n"
     ]
    },
    {
     "name": "stderr",
     "output_type": "stream",
     "text": [
      "48it [01:02,  1.30s/it]\n"
     ]
    },
    {
     "name": "stdout",
     "output_type": "stream",
     "text": [
      "Epoch [4/100], Loss: 0.0598, Train Accuracy: 0.79, F1 Score: 0.24\n",
      "Best model updated\n"
     ]
    },
    {
     "name": "stderr",
     "output_type": "stream",
     "text": [
      "48it [00:59,  1.24s/it]\n"
     ]
    },
    {
     "name": "stdout",
     "output_type": "stream",
     "text": [
      "Epoch [5/100], Loss: 0.0603, Train Accuracy: 0.79, F1 Score: 0.25\n",
      "Best model updated\n"
     ]
    },
    {
     "name": "stderr",
     "output_type": "stream",
     "text": [
      "48it [01:00,  1.26s/it]\n"
     ]
    },
    {
     "name": "stdout",
     "output_type": "stream",
     "text": [
      "Epoch [6/100], Loss: 0.0504, Train Accuracy: 0.85, F1 Score: 0.37\n",
      "Best model updated\n"
     ]
    },
    {
     "name": "stderr",
     "output_type": "stream",
     "text": [
      "48it [01:02,  1.29s/it]\n"
     ]
    },
    {
     "name": "stdout",
     "output_type": "stream",
     "text": [
      "Epoch [7/100], Loss: 0.0498, Train Accuracy: 0.84, F1 Score: 0.32\n"
     ]
    },
    {
     "name": "stderr",
     "output_type": "stream",
     "text": [
      "48it [01:00,  1.26s/it]\n"
     ]
    },
    {
     "name": "stdout",
     "output_type": "stream",
     "text": [
      "Epoch [8/100], Loss: 0.0374, Train Accuracy: 0.82, F1 Score: 0.35\n"
     ]
    },
    {
     "name": "stderr",
     "output_type": "stream",
     "text": [
      "48it [01:01,  1.28s/it]\n"
     ]
    },
    {
     "name": "stdout",
     "output_type": "stream",
     "text": [
      "Epoch [9/100], Loss: 0.0337, Train Accuracy: 0.82, F1 Score: 0.35\n"
     ]
    },
    {
     "name": "stderr",
     "output_type": "stream",
     "text": [
      "48it [01:01,  1.28s/it]\n"
     ]
    },
    {
     "name": "stdout",
     "output_type": "stream",
     "text": [
      "Epoch [10/100], Loss: 0.0615, Train Accuracy: 0.83, F1 Score: 0.36\n"
     ]
    },
    {
     "name": "stderr",
     "output_type": "stream",
     "text": [
      "48it [01:00,  1.25s/it]\n"
     ]
    },
    {
     "name": "stdout",
     "output_type": "stream",
     "text": [
      "Epoch [11/100], Loss: 0.1144, Train Accuracy: 0.89, F1 Score: 0.36\n"
     ]
    },
    {
     "name": "stderr",
     "output_type": "stream",
     "text": [
      "48it [01:02,  1.30s/it]\n"
     ]
    },
    {
     "name": "stdout",
     "output_type": "stream",
     "text": [
      "Epoch [12/100], Loss: 0.1198, Train Accuracy: 0.90, F1 Score: 0.30\n"
     ]
    },
    {
     "name": "stderr",
     "output_type": "stream",
     "text": [
      "48it [01:01,  1.28s/it]\n"
     ]
    },
    {
     "name": "stdout",
     "output_type": "stream",
     "text": [
      "Epoch [13/100], Loss: 0.0515, Train Accuracy: 0.85, F1 Score: 0.32\n"
     ]
    },
    {
     "name": "stderr",
     "output_type": "stream",
     "text": [
      "48it [01:02,  1.30s/it]\n"
     ]
    },
    {
     "name": "stdout",
     "output_type": "stream",
     "text": [
      "Epoch [14/100], Loss: 0.0276, Train Accuracy: 0.86, F1 Score: 0.43\n",
      "Best model updated\n"
     ]
    },
    {
     "name": "stderr",
     "output_type": "stream",
     "text": [
      "48it [01:03,  1.32s/it]\n"
     ]
    },
    {
     "name": "stdout",
     "output_type": "stream",
     "text": [
      "Epoch [15/100], Loss: 0.0308, Train Accuracy: 0.89, F1 Score: 0.47\n",
      "Best model updated\n"
     ]
    },
    {
     "name": "stderr",
     "output_type": "stream",
     "text": [
      "48it [01:00,  1.26s/it]\n"
     ]
    },
    {
     "name": "stdout",
     "output_type": "stream",
     "text": [
      "Epoch [16/100], Loss: 0.0205, Train Accuracy: 0.92, F1 Score: 0.56\n",
      "Best model updated\n"
     ]
    },
    {
     "name": "stderr",
     "output_type": "stream",
     "text": [
      "48it [01:01,  1.29s/it]\n"
     ]
    },
    {
     "name": "stdout",
     "output_type": "stream",
     "text": [
      "Epoch [17/100], Loss: 0.0138, Train Accuracy: 0.92, F1 Score: 0.59\n",
      "Best model updated\n"
     ]
    },
    {
     "name": "stderr",
     "output_type": "stream",
     "text": [
      "48it [01:01,  1.28s/it]\n"
     ]
    },
    {
     "name": "stdout",
     "output_type": "stream",
     "text": [
      "Epoch [18/100], Loss: 0.0105, Train Accuracy: 0.91, F1 Score: 0.54\n"
     ]
    },
    {
     "name": "stderr",
     "output_type": "stream",
     "text": [
      "48it [00:59,  1.24s/it]\n"
     ]
    },
    {
     "name": "stdout",
     "output_type": "stream",
     "text": [
      "Epoch [19/100], Loss: 0.0082, Train Accuracy: 0.93, F1 Score: 0.61\n",
      "Best model updated\n"
     ]
    },
    {
     "name": "stderr",
     "output_type": "stream",
     "text": [
      "48it [01:01,  1.28s/it]\n"
     ]
    },
    {
     "name": "stdout",
     "output_type": "stream",
     "text": [
      "Epoch [20/100], Loss: 0.0096, Train Accuracy: 0.90, F1 Score: 0.53\n"
     ]
    },
    {
     "name": "stderr",
     "output_type": "stream",
     "text": [
      "48it [01:01,  1.28s/it]\n"
     ]
    },
    {
     "name": "stdout",
     "output_type": "stream",
     "text": [
      "Epoch [21/100], Loss: 0.0116, Train Accuracy: 0.94, F1 Score: 0.64\n",
      "Best model updated\n"
     ]
    },
    {
     "name": "stderr",
     "output_type": "stream",
     "text": [
      "48it [01:01,  1.29s/it]\n"
     ]
    },
    {
     "name": "stdout",
     "output_type": "stream",
     "text": [
      "Epoch [22/100], Loss: 0.0196, Train Accuracy: 0.91, F1 Score: 0.53\n"
     ]
    },
    {
     "name": "stderr",
     "output_type": "stream",
     "text": [
      "48it [00:59,  1.24s/it]\n"
     ]
    },
    {
     "name": "stdout",
     "output_type": "stream",
     "text": [
      "Epoch [23/100], Loss: 0.0124, Train Accuracy: 0.95, F1 Score: 0.69\n",
      "Best model updated\n"
     ]
    },
    {
     "name": "stderr",
     "output_type": "stream",
     "text": [
      "48it [01:00,  1.26s/it]\n"
     ]
    },
    {
     "name": "stdout",
     "output_type": "stream",
     "text": [
      "Epoch [24/100], Loss: 0.0239, Train Accuracy: 0.89, F1 Score: 0.49\n"
     ]
    },
    {
     "name": "stderr",
     "output_type": "stream",
     "text": [
      "48it [01:01,  1.28s/it]\n"
     ]
    },
    {
     "name": "stdout",
     "output_type": "stream",
     "text": [
      "Epoch [25/100], Loss: 0.0260, Train Accuracy: 0.95, F1 Score: 0.64\n"
     ]
    },
    {
     "name": "stderr",
     "output_type": "stream",
     "text": [
      "48it [01:00,  1.26s/it]\n"
     ]
    },
    {
     "name": "stdout",
     "output_type": "stream",
     "text": [
      "Epoch [26/100], Loss: 0.0471, Train Accuracy: 0.92, F1 Score: 0.53\n"
     ]
    },
    {
     "name": "stderr",
     "output_type": "stream",
     "text": [
      "48it [00:59,  1.24s/it]\n"
     ]
    },
    {
     "name": "stdout",
     "output_type": "stream",
     "text": [
      "Epoch [27/100], Loss: 0.0752, Train Accuracy: 0.91, F1 Score: 0.45\n"
     ]
    },
    {
     "name": "stderr",
     "output_type": "stream",
     "text": [
      "48it [01:00,  1.26s/it]\n"
     ]
    },
    {
     "name": "stdout",
     "output_type": "stream",
     "text": [
      "Epoch [28/100], Loss: 0.7314, Train Accuracy: 0.94, F1 Score: 0.33\n"
     ]
    },
    {
     "name": "stderr",
     "output_type": "stream",
     "text": [
      "48it [01:00,  1.26s/it]\n"
     ]
    },
    {
     "name": "stdout",
     "output_type": "stream",
     "text": [
      "Epoch [29/100], Loss: 16.9901, Train Accuracy: 0.95, F1 Score: 0.00\n"
     ]
    },
    {
     "name": "stderr",
     "output_type": "stream",
     "text": [
      "48it [00:58,  1.22s/it]\n"
     ]
    },
    {
     "name": "stdout",
     "output_type": "stream",
     "text": [
      "Epoch [30/100], Loss: 24.2384, Train Accuracy: 0.95, F1 Score: 0.00\n"
     ]
    },
    {
     "name": "stderr",
     "output_type": "stream",
     "text": [
      "48it [01:01,  1.27s/it]\n"
     ]
    },
    {
     "name": "stdout",
     "output_type": "stream",
     "text": [
      "Epoch [31/100], Loss: 3.3244, Train Accuracy: 0.95, F1 Score: 0.00\n"
     ]
    },
    {
     "name": "stderr",
     "output_type": "stream",
     "text": [
      "48it [01:00,  1.27s/it]\n"
     ]
    },
    {
     "name": "stdout",
     "output_type": "stream",
     "text": [
      "Epoch [32/100], Loss: 0.4091, Train Accuracy: 0.95, F1 Score: 0.16\n"
     ]
    },
    {
     "name": "stderr",
     "output_type": "stream",
     "text": [
      "48it [01:00,  1.27s/it]\n"
     ]
    },
    {
     "name": "stdout",
     "output_type": "stream",
     "text": [
      "Epoch [33/100], Loss: 0.1413, Train Accuracy: 0.96, F1 Score: 0.50\n"
     ]
    },
    {
     "name": "stderr",
     "output_type": "stream",
     "text": [
      "48it [01:01,  1.28s/it]\n"
     ]
    },
    {
     "name": "stdout",
     "output_type": "stream",
     "text": [
      "Epoch [34/100], Loss: 0.1316, Train Accuracy: 0.95, F1 Score: 0.38\n"
     ]
    },
    {
     "name": "stderr",
     "output_type": "stream",
     "text": [
      "48it [00:59,  1.25s/it]\n"
     ]
    },
    {
     "name": "stdout",
     "output_type": "stream",
     "text": [
      "Epoch [35/100], Loss: 0.0669, Train Accuracy: 0.96, F1 Score: 0.60\n"
     ]
    },
    {
     "name": "stderr",
     "output_type": "stream",
     "text": [
      "48it [01:01,  1.29s/it]\n"
     ]
    },
    {
     "name": "stdout",
     "output_type": "stream",
     "text": [
      "Epoch [36/100], Loss: 0.0468, Train Accuracy: 0.95, F1 Score: 0.55\n"
     ]
    },
    {
     "name": "stderr",
     "output_type": "stream",
     "text": [
      "48it [01:01,  1.28s/it]\n"
     ]
    },
    {
     "name": "stdout",
     "output_type": "stream",
     "text": [
      "Epoch [37/100], Loss: 0.0492, Train Accuracy: 0.96, F1 Score: 0.68\n"
     ]
    },
    {
     "name": "stderr",
     "output_type": "stream",
     "text": [
      "48it [01:02,  1.30s/it]\n"
     ]
    },
    {
     "name": "stdout",
     "output_type": "stream",
     "text": [
      "Epoch [38/100], Loss: 0.0337, Train Accuracy: 0.95, F1 Score: 0.65\n"
     ]
    },
    {
     "name": "stderr",
     "output_type": "stream",
     "text": [
      "48it [01:01,  1.29s/it]\n"
     ]
    },
    {
     "name": "stdout",
     "output_type": "stream",
     "text": [
      "Epoch [39/100], Loss: 0.0302, Train Accuracy: 0.95, F1 Score: 0.67\n"
     ]
    },
    {
     "name": "stderr",
     "output_type": "stream",
     "text": [
      "48it [00:59,  1.25s/it]\n"
     ]
    },
    {
     "name": "stdout",
     "output_type": "stream",
     "text": [
      "Epoch [40/100], Loss: 0.0291, Train Accuracy: 0.96, F1 Score: 0.68\n"
     ]
    },
    {
     "name": "stderr",
     "output_type": "stream",
     "text": [
      "48it [01:00,  1.26s/it]\n"
     ]
    },
    {
     "name": "stdout",
     "output_type": "stream",
     "text": [
      "Epoch [41/100], Loss: 0.0184, Train Accuracy: 0.95, F1 Score: 0.70\n",
      "Best model updated\n"
     ]
    },
    {
     "name": "stderr",
     "output_type": "stream",
     "text": [
      "48it [00:58,  1.22s/it]\n"
     ]
    },
    {
     "name": "stdout",
     "output_type": "stream",
     "text": [
      "Epoch [42/100], Loss: 0.0180, Train Accuracy: 0.94, F1 Score: 0.66\n"
     ]
    },
    {
     "name": "stderr",
     "output_type": "stream",
     "text": [
      "48it [01:00,  1.26s/it]\n"
     ]
    },
    {
     "name": "stdout",
     "output_type": "stream",
     "text": [
      "Epoch [43/100], Loss: 0.0209, Train Accuracy: 0.95, F1 Score: 0.69\n"
     ]
    },
    {
     "name": "stderr",
     "output_type": "stream",
     "text": [
      "48it [01:00,  1.25s/it]\n"
     ]
    },
    {
     "name": "stdout",
     "output_type": "stream",
     "text": [
      "Epoch [44/100], Loss: 0.0176, Train Accuracy: 0.95, F1 Score: 0.69\n"
     ]
    },
    {
     "name": "stderr",
     "output_type": "stream",
     "text": [
      "48it [01:00,  1.26s/it]\n"
     ]
    },
    {
     "name": "stdout",
     "output_type": "stream",
     "text": [
      "Epoch [45/100], Loss: 0.0182, Train Accuracy: 0.94, F1 Score: 0.65\n"
     ]
    },
    {
     "name": "stderr",
     "output_type": "stream",
     "text": [
      "48it [00:59,  1.24s/it]\n"
     ]
    },
    {
     "name": "stdout",
     "output_type": "stream",
     "text": [
      "Epoch [46/100], Loss: 0.0116, Train Accuracy: 0.94, F1 Score: 0.65\n"
     ]
    },
    {
     "name": "stderr",
     "output_type": "stream",
     "text": [
      "48it [00:58,  1.22s/it]\n"
     ]
    },
    {
     "name": "stdout",
     "output_type": "stream",
     "text": [
      "Epoch [47/100], Loss: 0.0123, Train Accuracy: 0.93, F1 Score: 0.60\n"
     ]
    },
    {
     "name": "stderr",
     "output_type": "stream",
     "text": [
      "48it [00:59,  1.25s/it]\n"
     ]
    },
    {
     "name": "stdout",
     "output_type": "stream",
     "text": [
      "Epoch [48/100], Loss: 0.0089, Train Accuracy: 0.94, F1 Score: 0.64\n"
     ]
    },
    {
     "name": "stderr",
     "output_type": "stream",
     "text": [
      "48it [00:58,  1.21s/it]\n"
     ]
    },
    {
     "name": "stdout",
     "output_type": "stream",
     "text": [
      "Epoch [49/100], Loss: 0.0094, Train Accuracy: 0.95, F1 Score: 0.68\n"
     ]
    },
    {
     "name": "stderr",
     "output_type": "stream",
     "text": [
      "48it [01:00,  1.26s/it]\n"
     ]
    },
    {
     "name": "stdout",
     "output_type": "stream",
     "text": [
      "Epoch [50/100], Loss: 0.0130, Train Accuracy: 0.96, F1 Score: 0.75\n",
      "Best model updated\n"
     ]
    },
    {
     "name": "stderr",
     "output_type": "stream",
     "text": [
      "48it [01:00,  1.25s/it]\n"
     ]
    },
    {
     "name": "stdout",
     "output_type": "stream",
     "text": [
      "Epoch [51/100], Loss: 0.0094, Train Accuracy: 0.95, F1 Score: 0.67\n"
     ]
    },
    {
     "name": "stderr",
     "output_type": "stream",
     "text": [
      "48it [01:00,  1.27s/it]\n"
     ]
    },
    {
     "name": "stdout",
     "output_type": "stream",
     "text": [
      "Epoch [52/100], Loss: 0.0085, Train Accuracy: 0.96, F1 Score: 0.72\n"
     ]
    },
    {
     "name": "stderr",
     "output_type": "stream",
     "text": [
      "48it [01:01,  1.27s/it]\n"
     ]
    },
    {
     "name": "stdout",
     "output_type": "stream",
     "text": [
      "Epoch [53/100], Loss: 0.0151, Train Accuracy: 0.96, F1 Score: 0.71\n"
     ]
    },
    {
     "name": "stderr",
     "output_type": "stream",
     "text": [
      "48it [00:59,  1.24s/it]\n"
     ]
    },
    {
     "name": "stdout",
     "output_type": "stream",
     "text": [
      "Epoch [54/100], Loss: 0.0178, Train Accuracy: 0.96, F1 Score: 0.71\n"
     ]
    },
    {
     "name": "stderr",
     "output_type": "stream",
     "text": [
      "48it [00:59,  1.25s/it]\n"
     ]
    },
    {
     "name": "stdout",
     "output_type": "stream",
     "text": [
      "Epoch [55/100], Loss: 0.0207, Train Accuracy: 0.95, F1 Score: 0.66\n"
     ]
    },
    {
     "name": "stderr",
     "output_type": "stream",
     "text": [
      "48it [01:02,  1.30s/it]\n"
     ]
    },
    {
     "name": "stdout",
     "output_type": "stream",
     "text": [
      "Epoch [56/100], Loss: 0.0106, Train Accuracy: 0.96, F1 Score: 0.71\n"
     ]
    },
    {
     "name": "stderr",
     "output_type": "stream",
     "text": [
      "48it [01:00,  1.25s/it]\n"
     ]
    },
    {
     "name": "stdout",
     "output_type": "stream",
     "text": [
      "Epoch [57/100], Loss: 0.0110, Train Accuracy: 0.97, F1 Score: 0.76\n",
      "Best model updated\n"
     ]
    },
    {
     "name": "stderr",
     "output_type": "stream",
     "text": [
      "48it [00:59,  1.24s/it]\n"
     ]
    },
    {
     "name": "stdout",
     "output_type": "stream",
     "text": [
      "Epoch [58/100], Loss: 0.0106, Train Accuracy: 0.95, F1 Score: 0.70\n"
     ]
    },
    {
     "name": "stderr",
     "output_type": "stream",
     "text": [
      "48it [00:59,  1.25s/it]\n"
     ]
    },
    {
     "name": "stdout",
     "output_type": "stream",
     "text": [
      "Epoch [59/100], Loss: 0.0152, Train Accuracy: 0.96, F1 Score: 0.75\n"
     ]
    },
    {
     "name": "stderr",
     "output_type": "stream",
     "text": [
      "48it [01:00,  1.26s/it]\n"
     ]
    },
    {
     "name": "stdout",
     "output_type": "stream",
     "text": [
      "Epoch [60/100], Loss: 0.0108, Train Accuracy: 0.96, F1 Score: 0.74\n"
     ]
    },
    {
     "name": "stderr",
     "output_type": "stream",
     "text": [
      "48it [01:00,  1.26s/it]\n"
     ]
    },
    {
     "name": "stdout",
     "output_type": "stream",
     "text": [
      "Epoch [61/100], Loss: 0.0103, Train Accuracy: 0.95, F1 Score: 0.69\n"
     ]
    },
    {
     "name": "stderr",
     "output_type": "stream",
     "text": [
      "48it [00:58,  1.22s/it]\n"
     ]
    },
    {
     "name": "stdout",
     "output_type": "stream",
     "text": [
      "Epoch [62/100], Loss: 0.0058, Train Accuracy: 0.95, F1 Score: 0.67\n"
     ]
    },
    {
     "name": "stderr",
     "output_type": "stream",
     "text": [
      "48it [01:00,  1.25s/it]\n"
     ]
    },
    {
     "name": "stdout",
     "output_type": "stream",
     "text": [
      "Epoch [63/100], Loss: 0.0121, Train Accuracy: 0.95, F1 Score: 0.67\n"
     ]
    },
    {
     "name": "stderr",
     "output_type": "stream",
     "text": [
      "48it [01:00,  1.27s/it]\n"
     ]
    },
    {
     "name": "stdout",
     "output_type": "stream",
     "text": [
      "Epoch [64/100], Loss: 0.0137, Train Accuracy: 0.95, F1 Score: 0.69\n"
     ]
    },
    {
     "name": "stderr",
     "output_type": "stream",
     "text": [
      "48it [01:00,  1.25s/it]\n"
     ]
    },
    {
     "name": "stdout",
     "output_type": "stream",
     "text": [
      "Epoch [65/100], Loss: 0.0084, Train Accuracy: 0.95, F1 Score: 0.69\n"
     ]
    },
    {
     "name": "stderr",
     "output_type": "stream",
     "text": [
      "48it [01:00,  1.25s/it]\n"
     ]
    },
    {
     "name": "stdout",
     "output_type": "stream",
     "text": [
      "Epoch [66/100], Loss: 0.0188, Train Accuracy: 0.96, F1 Score: 0.70\n"
     ]
    },
    {
     "name": "stderr",
     "output_type": "stream",
     "text": [
      "48it [00:59,  1.25s/it]\n"
     ]
    },
    {
     "name": "stdout",
     "output_type": "stream",
     "text": [
      "Epoch [67/100], Loss: 0.0134, Train Accuracy: 0.97, F1 Score: 0.76\n",
      "Best model updated\n"
     ]
    },
    {
     "name": "stderr",
     "output_type": "stream",
     "text": [
      "48it [00:59,  1.24s/it]\n"
     ]
    },
    {
     "name": "stdout",
     "output_type": "stream",
     "text": [
      "Epoch [68/100], Loss: 0.0075, Train Accuracy: 0.96, F1 Score: 0.72\n"
     ]
    },
    {
     "name": "stderr",
     "output_type": "stream",
     "text": [
      "48it [01:00,  1.26s/it]\n"
     ]
    },
    {
     "name": "stdout",
     "output_type": "stream",
     "text": [
      "Epoch [69/100], Loss: 0.0057, Train Accuracy: 0.97, F1 Score: 0.78\n",
      "Best model updated\n"
     ]
    },
    {
     "name": "stderr",
     "output_type": "stream",
     "text": [
      "48it [01:00,  1.27s/it]\n"
     ]
    },
    {
     "name": "stdout",
     "output_type": "stream",
     "text": [
      "Epoch [70/100], Loss: 0.0044, Train Accuracy: 0.95, F1 Score: 0.70\n"
     ]
    },
    {
     "name": "stderr",
     "output_type": "stream",
     "text": [
      "48it [01:00,  1.27s/it]\n"
     ]
    },
    {
     "name": "stdout",
     "output_type": "stream",
     "text": [
      "Epoch [71/100], Loss: 0.0040, Train Accuracy: 0.96, F1 Score: 0.72\n"
     ]
    },
    {
     "name": "stderr",
     "output_type": "stream",
     "text": [
      "48it [00:59,  1.24s/it]\n"
     ]
    },
    {
     "name": "stdout",
     "output_type": "stream",
     "text": [
      "Epoch [72/100], Loss: 0.0129, Train Accuracy: 0.97, F1 Score: 0.76\n"
     ]
    },
    {
     "name": "stderr",
     "output_type": "stream",
     "text": [
      "48it [00:58,  1.21s/it]\n"
     ]
    },
    {
     "name": "stdout",
     "output_type": "stream",
     "text": [
      "Epoch [73/100], Loss: 0.0090, Train Accuracy: 0.96, F1 Score: 0.75\n"
     ]
    },
    {
     "name": "stderr",
     "output_type": "stream",
     "text": [
      "48it [00:59,  1.24s/it]\n"
     ]
    },
    {
     "name": "stdout",
     "output_type": "stream",
     "text": [
      "Epoch [74/100], Loss: 0.0082, Train Accuracy: 0.98, F1 Score: 0.82\n",
      "Best model updated\n"
     ]
    },
    {
     "name": "stderr",
     "output_type": "stream",
     "text": [
      "48it [00:59,  1.24s/it]\n"
     ]
    },
    {
     "name": "stdout",
     "output_type": "stream",
     "text": [
      "Epoch [75/100], Loss: 0.0619, Train Accuracy: 0.96, F1 Score: 0.65\n"
     ]
    },
    {
     "name": "stderr",
     "output_type": "stream",
     "text": [
      "48it [01:00,  1.25s/it]\n"
     ]
    },
    {
     "name": "stdout",
     "output_type": "stream",
     "text": [
      "Epoch [76/100], Loss: 0.0949, Train Accuracy: 0.96, F1 Score: 0.60\n"
     ]
    },
    {
     "name": "stderr",
     "output_type": "stream",
     "text": [
      "48it [01:00,  1.25s/it]\n"
     ]
    },
    {
     "name": "stdout",
     "output_type": "stream",
     "text": [
      "Epoch [77/100], Loss: 0.0525, Train Accuracy: 0.96, F1 Score: 0.67\n"
     ]
    },
    {
     "name": "stderr",
     "output_type": "stream",
     "text": [
      "48it [00:59,  1.23s/it]\n"
     ]
    },
    {
     "name": "stdout",
     "output_type": "stream",
     "text": [
      "Epoch [78/100], Loss: 0.0357, Train Accuracy: 0.96, F1 Score: 0.67\n"
     ]
    },
    {
     "name": "stderr",
     "output_type": "stream",
     "text": [
      "48it [00:59,  1.24s/it]\n"
     ]
    },
    {
     "name": "stdout",
     "output_type": "stream",
     "text": [
      "Epoch [79/100], Loss: 0.0087, Train Accuracy: 0.96, F1 Score: 0.74\n"
     ]
    },
    {
     "name": "stderr",
     "output_type": "stream",
     "text": [
      "48it [00:59,  1.23s/it]\n"
     ]
    },
    {
     "name": "stdout",
     "output_type": "stream",
     "text": [
      "Epoch [80/100], Loss: 0.0052, Train Accuracy: 0.96, F1 Score: 0.72\n"
     ]
    },
    {
     "name": "stderr",
     "output_type": "stream",
     "text": [
      "48it [01:01,  1.28s/it]\n"
     ]
    },
    {
     "name": "stdout",
     "output_type": "stream",
     "text": [
      "Epoch [81/100], Loss: 0.0394, Train Accuracy: 0.95, F1 Score: 0.67\n"
     ]
    },
    {
     "name": "stderr",
     "output_type": "stream",
     "text": [
      "48it [00:59,  1.24s/it]\n"
     ]
    },
    {
     "name": "stdout",
     "output_type": "stream",
     "text": [
      "Epoch [82/100], Loss: 0.0156, Train Accuracy: 0.97, F1 Score: 0.78\n"
     ]
    },
    {
     "name": "stderr",
     "output_type": "stream",
     "text": [
      "48it [00:59,  1.24s/it]\n"
     ]
    },
    {
     "name": "stdout",
     "output_type": "stream",
     "text": [
      "Epoch [83/100], Loss: 0.0219, Train Accuracy: 0.96, F1 Score: 0.74\n"
     ]
    },
    {
     "name": "stderr",
     "output_type": "stream",
     "text": [
      "48it [00:59,  1.23s/it]\n"
     ]
    },
    {
     "name": "stdout",
     "output_type": "stream",
     "text": [
      "Epoch [84/100], Loss: 0.0238, Train Accuracy: 0.96, F1 Score: 0.67\n"
     ]
    },
    {
     "name": "stderr",
     "output_type": "stream",
     "text": [
      "48it [01:00,  1.27s/it]\n"
     ]
    },
    {
     "name": "stdout",
     "output_type": "stream",
     "text": [
      "Epoch [85/100], Loss: 0.0078, Train Accuracy: 0.96, F1 Score: 0.75\n"
     ]
    },
    {
     "name": "stderr",
     "output_type": "stream",
     "text": [
      "48it [00:58,  1.23s/it]\n"
     ]
    },
    {
     "name": "stdout",
     "output_type": "stream",
     "text": [
      "Epoch [86/100], Loss: 0.0101, Train Accuracy: 0.96, F1 Score: 0.73\n"
     ]
    },
    {
     "name": "stderr",
     "output_type": "stream",
     "text": [
      "48it [01:00,  1.26s/it]\n"
     ]
    },
    {
     "name": "stdout",
     "output_type": "stream",
     "text": [
      "Epoch [87/100], Loss: 0.0221, Train Accuracy: 0.97, F1 Score: 0.80\n"
     ]
    },
    {
     "name": "stderr",
     "output_type": "stream",
     "text": [
      "48it [00:59,  1.23s/it]\n"
     ]
    },
    {
     "name": "stdout",
     "output_type": "stream",
     "text": [
      "Epoch [88/100], Loss: 0.0169, Train Accuracy: 0.98, F1 Score: 0.82\n"
     ]
    },
    {
     "name": "stderr",
     "output_type": "stream",
     "text": [
      "48it [00:59,  1.24s/it]\n"
     ]
    },
    {
     "name": "stdout",
     "output_type": "stream",
     "text": [
      "Epoch [89/100], Loss: 0.0376, Train Accuracy: 0.96, F1 Score: 0.71\n"
     ]
    },
    {
     "name": "stderr",
     "output_type": "stream",
     "text": [
      "48it [01:00,  1.27s/it]\n"
     ]
    },
    {
     "name": "stdout",
     "output_type": "stream",
     "text": [
      "Epoch [90/100], Loss: 0.0367, Train Accuracy: 0.95, F1 Score: 0.67\n"
     ]
    },
    {
     "name": "stderr",
     "output_type": "stream",
     "text": [
      "48it [00:59,  1.24s/it]\n"
     ]
    },
    {
     "name": "stdout",
     "output_type": "stream",
     "text": [
      "Epoch [91/100], Loss: 0.0408, Train Accuracy: 0.95, F1 Score: 0.64\n"
     ]
    },
    {
     "name": "stderr",
     "output_type": "stream",
     "text": [
      "48it [00:59,  1.24s/it]\n"
     ]
    },
    {
     "name": "stdout",
     "output_type": "stream",
     "text": [
      "Epoch [92/100], Loss: 0.0368, Train Accuracy: 0.97, F1 Score: 0.76\n"
     ]
    },
    {
     "name": "stderr",
     "output_type": "stream",
     "text": [
      "48it [01:01,  1.28s/it]\n"
     ]
    },
    {
     "name": "stdout",
     "output_type": "stream",
     "text": [
      "Epoch [93/100], Loss: 0.1761, Train Accuracy: 0.96, F1 Score: 0.62\n"
     ]
    },
    {
     "name": "stderr",
     "output_type": "stream",
     "text": [
      "48it [01:02,  1.30s/it]\n"
     ]
    },
    {
     "name": "stdout",
     "output_type": "stream",
     "text": [
      "Epoch [94/100], Loss: 0.0422, Train Accuracy: 0.96, F1 Score: 0.72\n"
     ]
    },
    {
     "name": "stderr",
     "output_type": "stream",
     "text": [
      "48it [00:59,  1.24s/it]\n"
     ]
    },
    {
     "name": "stdout",
     "output_type": "stream",
     "text": [
      "Epoch [95/100], Loss: 0.0317, Train Accuracy: 0.95, F1 Score: 0.65\n"
     ]
    },
    {
     "name": "stderr",
     "output_type": "stream",
     "text": [
      "48it [01:01,  1.28s/it]\n"
     ]
    },
    {
     "name": "stdout",
     "output_type": "stream",
     "text": [
      "Epoch [96/100], Loss: 0.0074, Train Accuracy: 0.94, F1 Score: 0.62\n"
     ]
    },
    {
     "name": "stderr",
     "output_type": "stream",
     "text": [
      "48it [01:00,  1.27s/it]\n"
     ]
    },
    {
     "name": "stdout",
     "output_type": "stream",
     "text": [
      "Epoch [97/100], Loss: 0.0031, Train Accuracy: 0.94, F1 Score: 0.64\n"
     ]
    },
    {
     "name": "stderr",
     "output_type": "stream",
     "text": [
      "48it [01:01,  1.28s/it]\n"
     ]
    },
    {
     "name": "stdout",
     "output_type": "stream",
     "text": [
      "Epoch [98/100], Loss: 0.0022, Train Accuracy: 0.95, F1 Score: 0.67\n"
     ]
    },
    {
     "name": "stderr",
     "output_type": "stream",
     "text": [
      "48it [01:00,  1.26s/it]\n"
     ]
    },
    {
     "name": "stdout",
     "output_type": "stream",
     "text": [
      "Epoch [99/100], Loss: 0.0015, Train Accuracy: 0.94, F1 Score: 0.66\n"
     ]
    },
    {
     "name": "stderr",
     "output_type": "stream",
     "text": [
      "48it [01:02,  1.30s/it]"
     ]
    },
    {
     "name": "stdout",
     "output_type": "stream",
     "text": [
      "Epoch [100/100], Loss: 0.0017, Train Accuracy: 0.95, F1 Score: 0.69\n"
     ]
    },
    {
     "name": "stderr",
     "output_type": "stream",
     "text": [
      "\n"
     ]
    }
   ],
   "source": [
    "trained_model, best_f1_trained_model = train_siamese_network(siamese_net, train_loader, eval_loader, criterion, optimizer, num_epochs)"
   ]
  },
  {
   "cell_type": "code",
   "execution_count": 23,
   "metadata": {},
   "outputs": [
    {
     "name": "stdout",
     "output_type": "stream",
     "text": [
      "Model saved\n"
     ]
    }
   ],
   "source": [
    "# Save the trained model\n",
    "save_path = 'active_learning_models/net_round3_2_final.pth'\n",
    "\n",
    "if os.path.exists(save_path):\n",
    "    print(\"Model already exists\")\n",
    "else:\n",
    "    # torch.save(best_f1_trained_model, save_path)\n",
    "    torch.save(trained_model.state_dict(), save_path)\n",
    "    # torch.save(optimizer.state_dict(), 'active_learning_models/optimizer_round3_1.pth')\n",
    "    print(\"Model saved\")"
   ]
  },
  {
   "cell_type": "code",
   "execution_count": 29,
   "metadata": {},
   "outputs": [
    {
     "name": "stderr",
     "output_type": "stream",
     "text": [
      "/tmp/ipykernel_90041/1503098969.py:3: FutureWarning: You are using `torch.load` with `weights_only=False` (the current default value), which uses the default pickle module implicitly. It is possible to construct malicious pickle data which will execute arbitrary code during unpickling (See https://github.com/pytorch/pytorch/blob/main/SECURITY.md#untrusted-models for more details). In a future release, the default value for `weights_only` will be flipped to `True`. This limits the functions that could be executed during unpickling. Arbitrary objects will no longer be allowed to be loaded via this mode unless they are explicitly allowlisted by the user via `torch.serialization.add_safe_globals`. We recommend you start setting `weights_only=True` for any use case where you don't have full control of the loaded file. Please open an issue on GitHub for any issues related to this experimental feature.\n",
      "  loaded_model.load_state_dict(torch.load('active_learning_models/net_round3_2_best.pth', map_location=torch.device(device)))\n",
      "/tmp/ipykernel_90041/1503098969.py:6: FutureWarning: You are using `torch.load` with `weights_only=False` (the current default value), which uses the default pickle module implicitly. It is possible to construct malicious pickle data which will execute arbitrary code during unpickling (See https://github.com/pytorch/pytorch/blob/main/SECURITY.md#untrusted-models for more details). In a future release, the default value for `weights_only` will be flipped to `True`. This limits the functions that could be executed during unpickling. Arbitrary objects will no longer be allowed to be loaded via this mode unless they are explicitly allowlisted by the user via `torch.serialization.add_safe_globals`. We recommend you start setting `weights_only=True` for any use case where you don't have full control of the loaded file. Please open an issue on GitHub for any issues related to this experimental feature.\n",
      "  trained_model.load_state_dict(torch.load('active_learning_models/net_round3_2_final.pth', map_location=torch.device(device)))\n"
     ]
    },
    {
     "data": {
      "text/plain": [
       "<All keys matched successfully>"
      ]
     },
     "execution_count": 29,
     "metadata": {},
     "output_type": "execute_result"
    }
   ],
   "source": [
    "# Load the trained model\n",
    "loaded_model = SiameseNetwork().to(device)\n",
    "loaded_model.load_state_dict(torch.load('active_learning_models/net_round3_2_best.pth', map_location=torch.device(device)))\n",
    "\n",
    "trained_model = SiameseNetwork().to(device)\n",
    "trained_model.load_state_dict(torch.load('active_learning_models/net_round3_2_final.pth', map_location=torch.device(device)))"
   ]
  },
  {
   "cell_type": "code",
   "execution_count": 17,
   "metadata": {},
   "outputs": [],
   "source": [
    "from sklearn.metrics import confusion_matrix\n",
    "import seaborn as sns\n",
    "from sklearn.metrics import f1_score\n",
    "\n",
    "def test_siamese_network(model, test_loader):\n",
    "    model.eval()  # Set the model to evaluation mode\n",
    "    correct = 0\n",
    "    total = 0\n",
    "    all_labels = []\n",
    "    all_predictions = []\n",
    "\n",
    "    with torch.no_grad():\n",
    "        for i, (img1_path, img2_path, img1, img2, labels) in enumerate(test_loader):\n",
    "            # Move tensors to the appropriate device\n",
    "            img1, img2, labels = img1.to(device), img2.to(device), labels.to(device)\n",
    "\n",
    "            # Forward pass\n",
    "            output1, output2 = model(img1, img2)\n",
    "\n",
    "            # Calculate the euclidean distance between the outputs\n",
    "            dist = F.pairwise_distance(output1, output2)\n",
    "\n",
    "            # Get predictions\n",
    "            predicted = (dist < 1.0).float()\n",
    "            total += labels.size(0)\n",
    "            correct += (predicted == labels).sum().item()\n",
    "\n",
    "            all_labels.extend(labels)\n",
    "            all_predictions.extend(predicted)\n",
    "\n",
    "            # print(f\"Dist: {dist}, Predicted: {predicted}, Actual: {labels}\")\n",
    "\n",
    "            # if i == 10:\n",
    "            #     break\n",
    "\n",
    "    # accuracy:\n",
    "    accuracy = correct / total\n",
    "    print(f\"Evaluation Accuracy: {accuracy:.4f}\")\n",
    "\n",
    "    # move to cpu:\n",
    "    all_labels = [label.cpu().numpy() for label in all_labels]\n",
    "    all_predictions = [prediction.cpu().numpy() for prediction in all_predictions]\n",
    "\n",
    "    # f1 score:\n",
    "    f1 = f1_score(all_labels, all_predictions)\n",
    "    print(f\"Test F1 Score: {f1:.4f}\")\n",
    "\n",
    "    # confusion matrix:\n",
    "    matrix = confusion_matrix(all_labels, all_predictions)\n",
    "    plt.figure(figsize=(6, 5))\n",
    "    sns.heatmap(matrix, annot=True, fmt='g', cmap='Blues')\n",
    "    plt.xlabel('Predicted labels')\n",
    "    plt.ylabel('True labels')\n",
    "    plt.show()"
   ]
  },
  {
   "cell_type": "code",
   "execution_count": 30,
   "metadata": {},
   "outputs": [
    {
     "name": "stdout",
     "output_type": "stream",
     "text": [
      "Evaluation Accuracy: 0.8438\n",
      "Test F1 Score: 0.1176\n"
     ]
    },
    {
     "data": {
      "image/png": "[encoded data removed]",
      "text/plain": [
       "<Figure size 600x500 with 2 Axes>"
      ]
     },
     "metadata": {},
     "output_type": "display_data"
    }
   ],
   "source": [
    "test_siamese_network(trained_model, eval_loader)"
   ]
  },
  {
   "cell_type": "code",
   "execution_count": 31,
   "metadata": {},
   "outputs": [
    {
     "name": "stdout",
     "output_type": "stream",
     "text": [
      "Evaluation Accuracy: 0.8438\n",
      "Test F1 Score: 0.1176\n"
     ]
    },
    {
     "data": {
      "image/png": "[encoded data removed]",
      "text/plain": [
       "<Figure size 600x500 with 2 Axes>"
      ]
     },
     "metadata": {},
     "output_type": "display_data"
    }
   ],
   "source": [
    "test_siamese_network(loaded_model, eval_loader)"
   ]
  },
  {
   "cell_type": "code",
   "execution_count": 32,
   "metadata": {},
   "outputs": [
    {
     "name": "stdout",
     "output_type": "stream",
     "text": [
      "Evaluation Accuracy: 0.9583\n",
      "Test F1 Score: 0.7241\n"
     ]
    },
    {
     "data": {
      "image/png": "[encoded data removed]",
      "text/plain": [
       "<Figure size 600x500 with 2 Axes>"
      ]
     },
     "metadata": {},
     "output_type": "display_data"
    }
   ],
   "source": [
    "test_siamese_network(trained_model, train_loader)"
   ]
  },
  {
   "cell_type": "code",
   "execution_count": 33,
   "metadata": {},
   "outputs": [
    {
     "name": "stdout",
     "output_type": "stream",
     "text": [
      "Evaluation Accuracy: 0.9583\n",
      "Test F1 Score: 0.7241\n"
     ]
    },
    {
     "data": {
      "image/png": "[encoded data removed]",
      "text/plain": [
       "<Figure size 600x500 with 2 Axes>"
      ]
     },
     "metadata": {},
     "output_type": "display_data"
    }
   ],
   "source": [
    "test_siamese_network(loaded_model, train_loader)"
   ]
  },
  {
   "cell_type": "code",
   "execution_count": null,
   "metadata": {},
   "outputs": [],
   "source": [
    "# pca of the output:\n",
    "from sklearn.decomposition import PCA\n",
    "\n",
    "# Get the output of the model\n",
    "outputs = []\n",
    "labels = []\n",
    "\n",
    "with torch.no_grad():\n",
    "    for img1, img2, label in eval_loader:\n",
    "        output1, output2 = trained_model(img1, img2)\n",
    "        outputs.append(output1)\n",
    "        labels.append(label)\n",
    "\n",
    "outputs = torch.cat(outputs, dim=0)\n",
    "labels = torch.cat(labels, dim=0)\n",
    "\n",
    "# Perform PCA\n",
    "pca = PCA(n_components=2)\n",
    "pca_outputs = pca.fit_transform(outputs)\n",
    "\n",
    "# Plot the PCA\n",
    "plt.figure(figsize=(8, 6))\n",
    "sns.scatterplot(x=pca_outputs[:, 0], y=pca_outputs[:, 1], hue=labels, palette='viridis')\n",
    "plt.title('PCA of the Siamese Network Output')\n",
    "plt.xlabel('Principal Component 1')\n",
    "plt.ylabel('Principal Component 2')\n",
    "plt.show()\n"
   ]
  },
  {
   "cell_type": "markdown",
   "metadata": {},
   "source": [
    "## Active Learning Setup"
   ]
  },
  {
   "cell_type": "code",
   "execution_count": 35,
   "metadata": {},
   "outputs": [
    {
     "name": "stdout",
     "output_type": "stream",
     "text": [
      "Unlabeled rows:  (33188, 5)\n"
     ]
    }
   ],
   "source": [
    "path_data_pool = \"datasets/house_styles/sampled_paired_labels_shuffled.csv\"\n",
    "data_pool = pd.read_csv(path_data_pool)\n",
    "unlabeled_rows = data_pool[data_pool['similarity'].isna()]\n",
    "print(\"Unlabeled rows: \", unlabeled_rows.shape)"
   ]
  },
  {
   "cell_type": "code",
   "execution_count": 36,
   "metadata": {},
   "outputs": [],
   "source": [
    "unlabeled_rows = unlabeled_rows[['image1_path', 'image2_path', 'similarity']].sample(10000)\n",
    "unlabeled_dataset = ImageSimilarityDataset(unlabeled_rows, transform=clip_transform)\n",
    "data_loader = DataLoader(unlabeled_dataset, batch_size=8, shuffle=False)\n",
    "\n",
    "def active_learning_confident_samples(model, dataloader, margin=1.0, budget=120):\n",
    "    \"\"\"\n",
    "    Identify the least confident samples from the model.\n",
    "    \n",
    "    Args:\n",
    "        model: Trained Siamese network.\n",
    "        dataloader: DataLoader for the dataset you want to evaluate.\n",
    "        margin: The margin used in the contrastive loss.\n",
    "        top_k: Number of least confident samples to return.\n",
    "    \n",
    "    Returns:\n",
    "        A list of the top_k least confident samples (input pairs and distances).\n",
    "    \"\"\"\n",
    "    model.eval()  # Set model to evaluation mode\n",
    "    least_confident_samples = []\n",
    "\n",
    "    with torch.no_grad():  # Disable gradient calculation for evaluation\n",
    "        for img1_path, img2_path, img1, img2, labels in tqdm(dataloader):\n",
    "            # Move tensors to the appropriate device\n",
    "            img1, img2, label = img1.to(device), img2.to(device), labels.to(device)\n",
    "\n",
    "            # Get the model outputs for both images\n",
    "            output1, output2 = model(img1, img2)\n",
    "            \n",
    "            # Calculate pairwise distance\n",
    "            distances = F.pairwise_distance(output1, output2)\n",
    "            \n",
    "            # Calculate confidence score (distance from the margin)\n",
    "            confidence_scores = torch.abs(distances - margin)\n",
    "\n",
    "            # Collect the least confident samples (small confidence score means high uncertainty)\n",
    "            for i in range(len(confidence_scores)):\n",
    "                least_confident_samples.append((img1_path[i], img2_path[i], distances[i].item(), confidence_scores[i].item()))\n",
    "\n",
    "    # Sort samples by confidence score (ascending, to get least confident samples)\n",
    "    least_confident_samples.sort(key=lambda x: x[3])\n",
    "\n",
    "    # Return the top_k least confident samples\n",
    "    return least_confident_samples[:budget]\n"
   ]
  },
  {
   "cell_type": "code",
   "execution_count": 37,
   "metadata": {},
   "outputs": [
    {
     "name": "stderr",
     "output_type": "stream",
     "text": [
      "100%|██████████| 1250/1250 [25:55<00:00,  1.24s/it]"
     ]
    },
    {
     "name": "stdout",
     "output_type": "stream",
     "text": [
      "[('datasets/house_styles/all_images/045_9fea1e51.jpg', 'datasets/house_styles/all_images/138_03bf52ae.jpg', 1.0000176429748535, 1.7642974853515625e-05), ('datasets/house_styles/all_images/245_579b3304.jpg', 'datasets/house_styles/all_images/201_edbb9f6e.jpg', 1.000321388244629, 0.00032138824462890625), ('datasets/house_styles/all_images/138_03bf52ae.jpg', 'datasets/house_styles/all_images/122_e44a0cb3.jpg', 1.0003819465637207, 0.0003819465637207031), ('datasets/house_styles/all_images/105_1c926771.jpg', 'datasets/house_styles/all_images/094_c29b2dc0.jpg', 1.0004119873046875, 0.0004119873046875), ('datasets/house_styles/all_images/103_e1440563.jpg', 'datasets/house_styles/all_images/539_897f21ca.jpg', 0.999511182308197, 0.0004888176918029785), ('datasets/house_styles/all_images/133_91a1133a.jpg', 'datasets/house_styles/all_images/130_3436e91b.jpg', 1.000489592552185, 0.0004895925521850586), ('datasets/house_styles/all_images/430_4e0ee28c.jpg', 'datasets/house_styles/all_images/115_bcdaf595.jpg', 1.0005707740783691, 0.0005707740783691406), ('datasets/house_styles/all_images/009_f852438c.jpg', 'datasets/house_styles/all_images/206_08d285c6.jpg', 0.9990666508674622, 0.0009333491325378418), ('datasets/house_styles/all_images/079_3da41703.jpg', 'datasets/house_styles/all_images/164_45199ef9.jpg', 0.9990426301956177, 0.0009573698043823242), ('datasets/house_styles/all_images/456_fc7312d5.jpg', 'datasets/house_styles/all_images/021_083b8fe4.jpg', 1.001216173171997, 0.0012161731719970703), ('datasets/house_styles/all_images/388_fbd9baa1.jpg', 'datasets/house_styles/all_images/294_3260f65d.jpg', 1.0016368627548218, 0.0016368627548217773), ('datasets/house_styles/all_images/343_354bff03.jpg', 'datasets/house_styles/all_images/415_4b0724cb.jpg', 1.001680612564087, 0.001680612564086914), ('datasets/house_styles/all_images/112_f21e8af7.jpg', 'datasets/house_styles/all_images/043_0c48915e.jpg', 1.0017372369766235, 0.0017372369766235352), ('datasets/house_styles/all_images/021_25ad37e4.jpg', 'datasets/house_styles/all_images/041_d7474487.jpg', 0.9980425834655762, 0.001957416534423828), ('datasets/house_styles/all_images/042_06b56791.jpg', 'datasets/house_styles/all_images/108_c76f77e2.jpg', 0.9979052543640137, 0.002094745635986328), ('datasets/house_styles/all_images/114_74c3329d.jpg', 'datasets/house_styles/all_images/504_06424815.jpg', 1.0022356510162354, 0.0022356510162353516), ('datasets/house_styles/all_images/021_25ad37e4.jpg', 'datasets/house_styles/all_images/453_d7b5d246.jpg', 0.9976853728294373, 0.002314627170562744), ('datasets/house_styles/all_images/106_253755c1.jpg', 'datasets/house_styles/all_images/037_326d0815.jpg', 0.9974963665008545, 0.002503633499145508), ('datasets/house_styles/all_images/245_1557cb25.jpg', 'datasets/house_styles/all_images/184_4eb75826.jpg', 1.0025194883346558, 0.0025194883346557617), ('datasets/house_styles/all_images/258_560ea146.jpg', 'datasets/house_styles/all_images/241_0a49bf59.jpg', 1.0027706623077393, 0.002770662307739258), ('datasets/house_styles/all_images/167_65150acf.jpg', 'datasets/house_styles/all_images/055_55fbf3ef.jpg', 1.0030488967895508, 0.0030488967895507812), ('datasets/house_styles/all_images/067_c93d4864.jpg', 'datasets/house_styles/all_images/279_0a7ee454.jpg', 0.9963192343711853, 0.0036807656288146973), ('datasets/house_styles/all_images/091_1e37e2fa.jpg', 'datasets/house_styles/all_images/122_e44a0cb3.jpg', 0.9962542057037354, 0.0037457942962646484), ('datasets/house_styles/all_images/055_55fbf3ef.jpg', 'datasets/house_styles/all_images/252_222859bd.jpg', 0.996082603931427, 0.003917396068572998), ('datasets/house_styles/all_images/007_64a3e2e9.jpg', 'datasets/house_styles/all_images/428_d2a99125.jpg', 1.0041029453277588, 0.004102945327758789), ('datasets/house_styles/all_images/202_55578dea.jpg', 'datasets/house_styles/all_images/012_f438db3a.jpg', 0.9956726431846619, 0.004327356815338135), ('datasets/house_styles/all_images/182_b43618bc.jpg', 'datasets/house_styles/all_images/132_8e5fa493.jpg', 0.9955185651779175, 0.0044814348220825195), ('datasets/house_styles/all_images/280_78fc43a1.jpg', 'datasets/house_styles/all_images/017_ffb23173.jpg', 0.9954081177711487, 0.004591882228851318), ('datasets/house_styles/all_images/389_08eeac29.jpg', 'datasets/house_styles/all_images/420_dc34f8c6.jpg', 0.9953877329826355, 0.004612267017364502), ('datasets/house_styles/all_images/493_2782a145.jpg', 'datasets/house_styles/all_images/366_6a85a605.jpg', 0.9951456785202026, 0.004854321479797363), ('datasets/house_styles/all_images/057_28786773.jpg', 'datasets/house_styles/all_images/175_d61edc30.jpg', 1.0048701763153076, 0.004870176315307617), ('datasets/house_styles/all_images/067_c93d4864.jpg', 'datasets/house_styles/all_images/485_1c18da79.jpg', 0.9949965476989746, 0.005003452301025391), ('datasets/house_styles/all_images/180_ea16e99b.jpg', 'datasets/house_styles/all_images/216_8570669c.jpg', 1.0051677227020264, 0.005167722702026367), ('datasets/house_styles/all_images/155_732ad883.jpg', 'datasets/house_styles/all_images/485_1c18da79.jpg', 1.0051757097244263, 0.0051757097244262695), ('datasets/house_styles/all_images/168_73a8fa29.jpg', 'datasets/house_styles/all_images/394_8fc176b2.jpg', 1.0054235458374023, 0.005423545837402344), ('datasets/house_styles/all_images/105_decde90f.jpg', 'datasets/house_styles/all_images/060_26c18ddf.jpg', 1.0054454803466797, 0.0054454803466796875), ('datasets/house_styles/all_images/095_0a434ed3.jpg', 'datasets/house_styles/all_images/060_26c18ddf.jpg', 1.0054454803466797, 0.0054454803466796875), ('datasets/house_styles/all_images/041_d7474487.jpg', 'datasets/house_styles/all_images/208_78b28f8b.jpg', 1.005474328994751, 0.0054743289947509766), ('datasets/house_styles/all_images/080_1bdfee05.jpg', 'datasets/house_styles/all_images/154_dc6f5bd3.jpg', 0.9943786859512329, 0.00562131404876709), ('datasets/house_styles/all_images/147_579b3c29.jpg', 'datasets/house_styles/all_images/202_55578dea.jpg', 0.9936373829841614, 0.006362617015838623), ('datasets/house_styles/all_images/164_45199ef9.jpg', 'datasets/house_styles/all_images/069_d3bedc1f.jpg', 0.9936034083366394, 0.006396591663360596), ('datasets/house_styles/all_images/131_1251d4eb.jpg', 'datasets/house_styles/all_images/061_0e8f4935.jpg', 1.0065053701400757, 0.006505370140075684), ('datasets/house_styles/all_images/167_65150acf.jpg', 'datasets/house_styles/all_images/353_003f4000.jpg', 1.0068250894546509, 0.006825089454650879), ('datasets/house_styles/all_images/257_f1b4cd5b.jpg', 'datasets/house_styles/all_images/208_78b28f8b.jpg', 1.0069631338119507, 0.006963133811950684), ('datasets/house_styles/all_images/021_25ad37e4.jpg', 'datasets/house_styles/all_images/100_b2a006af.jpg', 1.0072507858276367, 0.007250785827636719), ('datasets/house_styles/all_images/260_ff34f4ba.jpg', 'datasets/house_styles/all_images/019_61d9365b.jpg', 1.0073097944259644, 0.0073097944259643555), ('datasets/house_styles/all_images/014_459a0075.jpg', 'datasets/house_styles/all_images/252_222859bd.jpg', 1.0074377059936523, 0.007437705993652344), ('datasets/house_styles/all_images/105_1c926771.jpg', 'datasets/house_styles/all_images/245_579b3304.jpg', 1.0074574947357178, 0.0074574947357177734), ('datasets/house_styles/all_images/419_b4f308b3.jpg', 'datasets/house_styles/all_images/415_4b0724cb.jpg', 0.9924127459526062, 0.007587254047393799), ('datasets/house_styles/all_images/061_b65cd27e.jpg', 'datasets/house_styles/all_images/501_bcd7edcd.jpg', 0.9921897649765015, 0.007810235023498535), ('datasets/house_styles/all_images/078_9e2d5f02.jpg', 'datasets/house_styles/all_images/043_0c48915e.jpg', 1.0079001188278198, 0.007900118827819824), ('datasets/house_styles/all_images/342_9ee8b214.jpg', 'datasets/house_styles/all_images/205_0ec9560b.jpg', 0.9919719696044922, 0.008028030395507812), ('datasets/house_styles/all_images/428_d2a99125.jpg', 'datasets/house_styles/all_images/510_95629ee6.jpg', 1.0082911252975464, 0.008291125297546387), ('datasets/house_styles/all_images/023_5efdbc2d.jpg', 'datasets/house_styles/all_images/194_a66427af.jpg', 0.9915521144866943, 0.008447885513305664), ('datasets/house_styles/all_images/350_ff091a99.jpg', 'datasets/house_styles/all_images/005_dbecd9c4.jpg', 1.0086075067520142, 0.00860750675201416), ('datasets/house_styles/all_images/487_6af5bc71.jpg', 'datasets/house_styles/all_images/219_d4a22bde.jpg', 1.0086123943328857, 0.008612394332885742), ('datasets/house_styles/all_images/093_a5e0acc5.jpg', 'datasets/house_styles/all_images/254_1355cae0.jpg', 1.0088450908660889, 0.008845090866088867), ('datasets/house_styles/all_images/012_f438db3a.jpg', 'datasets/house_styles/all_images/035_6e7ff66b.jpg', 1.0090380907058716, 0.009038090705871582), ('datasets/house_styles/all_images/180_ea16e99b.jpg', 'datasets/house_styles/all_images/187_f9d3cf18.jpg', 1.009061574935913, 0.009061574935913086), ('datasets/house_styles/all_images/130_1d93de4f.jpg', 'datasets/house_styles/all_images/048_0a8b5dde.jpg', 0.9908764362335205, 0.009123563766479492), ('datasets/house_styles/all_images/193_365009dc.jpg', 'datasets/house_styles/all_images/092_0cd80084.jpg', 0.9908015131950378, 0.009198486804962158), ('datasets/house_styles/all_images/180_ea16e99b.jpg', 'datasets/house_styles/all_images/175_d61edc30.jpg', 1.009371280670166, 0.009371280670166016), ('datasets/house_styles/all_images/023_5efdbc2d.jpg', 'datasets/house_styles/all_images/097_41e7ad48.jpg', 1.0094376802444458, 0.0094376802444458), ('datasets/house_styles/all_images/086_80f8f853.jpg', 'datasets/house_styles/all_images/254_1355cae0.jpg', 1.0094821453094482, 0.009482145309448242), ('datasets/house_styles/all_images/117_d5ce16c2.jpg', 'datasets/house_styles/all_images/254_1355cae0.jpg', 1.0094821453094482, 0.009482145309448242), ('datasets/house_styles/all_images/112_e6cb24b4.jpg', 'datasets/house_styles/all_images/504_06424815.jpg', 1.0095869302749634, 0.009586930274963379), ('datasets/house_styles/all_images/273_95a29a86.jpg', 'datasets/house_styles/all_images/041_d7474487.jpg', 0.9902343153953552, 0.009765684604644775), ('datasets/house_styles/all_images/262_8a21b6d1.jpg', 'datasets/house_styles/all_images/272_3262745c.jpg', 0.9901190996170044, 0.009880900382995605), ('datasets/house_styles/all_images/020_c8201633.jpg', 'datasets/house_styles/all_images/158_0e3358fe.jpg', 0.9899829030036926, 0.010017096996307373), ('datasets/house_styles/all_images/053_9f014739.jpg', 'datasets/house_styles/all_images/175_d61edc30.jpg', 1.0100622177124023, 0.010062217712402344), ('datasets/house_styles/all_images/197_3ef925ed.jpg', 'datasets/house_styles/all_images/128_841a4e49.jpg', 0.9899006485939026, 0.010099351406097412), ('datasets/house_styles/all_images/299_6f2be194.jpg', 'datasets/house_styles/all_images/078_9e2d5f02.jpg', 0.9897093176841736, 0.010290682315826416), ('datasets/house_styles/all_images/177_3216f03e.jpg', 'datasets/house_styles/all_images/113_3b341645.jpg', 0.9896752834320068, 0.010324716567993164), ('datasets/house_styles/all_images/001_d2c7428a.jpg', 'datasets/house_styles/all_images/196_4a29195b.jpg', 0.9895658493041992, 0.010434150695800781), ('datasets/house_styles/all_images/137_038f978a.jpg', 'datasets/house_styles/all_images/058_7f8c2954.jpg', 0.9893186092376709, 0.010681390762329102), ('datasets/house_styles/all_images/304_7774d253.jpg', 'datasets/house_styles/all_images/005_dbecd9c4.jpg', 0.9892973899841309, 0.01070261001586914), ('datasets/house_styles/all_images/168_73a8fa29.jpg', 'datasets/house_styles/all_images/441_56cba3a9.jpg', 1.0107147693634033, 0.01071476936340332), ('datasets/house_styles/all_images/018_d675e0cc.jpg', 'datasets/house_styles/all_images/156_55935f6b.jpg', 1.0109591484069824, 0.010959148406982422), ('datasets/house_styles/all_images/524_adfc8645.jpg', 'datasets/house_styles/all_images/112_e6cb24b4.jpg', 1.0110797882080078, 0.011079788208007812), ('datasets/house_styles/all_images/172_f807dd8b.jpg', 'datasets/house_styles/all_images/156_55935f6b.jpg', 0.9886400103569031, 0.011359989643096924), ('datasets/house_styles/all_images/137_16e3cfb6.jpg', 'datasets/house_styles/all_images/163_83960f4c.jpg', 0.98853600025177, 0.01146399974822998), ('datasets/house_styles/all_images/481_2d314672.jpg', 'datasets/house_styles/all_images/318_8eeda507.jpg', 1.0114765167236328, 0.011476516723632812), ('datasets/house_styles/all_images/439_ac9a7940.jpg', 'datasets/house_styles/all_images/349_60f37449.jpg', 0.9882878065109253, 0.011712193489074707), ('datasets/house_styles/all_images/227_33071f4b.jpg', 'datasets/house_styles/all_images/103_cd0a617c.jpg', 0.9882628321647644, 0.011737167835235596), ('datasets/house_styles/all_images/128_841a4e49.jpg', 'datasets/house_styles/all_images/212_aea88577.jpg', 1.0117655992507935, 0.011765599250793457), ('datasets/house_styles/all_images/141_965cfe04.jpg', 'datasets/house_styles/all_images/136_9f1a39c1.jpg', 0.9879369139671326, 0.012063086032867432), ('datasets/house_styles/all_images/406_e5e906d6.jpg', 'datasets/house_styles/all_images/487_6af5bc71.jpg', 0.9879184365272522, 0.012081563472747803), ('datasets/house_styles/all_images/168_73a8fa29.jpg', 'datasets/house_styles/all_images/501_bcd7edcd.jpg', 0.9876179099082947, 0.012382090091705322), ('datasets/house_styles/all_images/310_10bdb154.jpg', 'datasets/house_styles/all_images/474_ebf934b6.jpg', 1.0127928256988525, 0.012792825698852539), ('datasets/house_styles/all_images/294_3260f65d.jpg', 'datasets/house_styles/all_images/474_ebf934b6.jpg', 1.0127928256988525, 0.012792825698852539), ('datasets/house_styles/all_images/227_33071f4b.jpg', 'datasets/house_styles/all_images/078_9e2d5f02.jpg', 0.9868351817131042, 0.013164818286895752), ('datasets/house_styles/all_images/474_ebf934b6.jpg', 'datasets/house_styles/all_images/394_8fc176b2.jpg', 1.0132994651794434, 0.01329946517944336), ('datasets/house_styles/all_images/406_e5e906d6.jpg', 'datasets/house_styles/all_images/346_e98ba7a9.jpg', 1.0135167837142944, 0.013516783714294434), ('datasets/house_styles/all_images/018_64add206.jpg', 'datasets/house_styles/all_images/257_f1b4cd5b.jpg', 0.9864807724952698, 0.013519227504730225), ('datasets/house_styles/all_images/078_d09c7ede.jpg', 'datasets/house_styles/all_images/058_7f8c2954.jpg', 0.9862697720527649, 0.013730227947235107), ('datasets/house_styles/all_images/443_c3788bc5.jpg', 'datasets/house_styles/all_images/410_43ec7ac3.jpg', 0.9861223697662354, 0.013877630233764648), ('datasets/house_styles/all_images/419_b4f308b3.jpg', 'datasets/house_styles/all_images/043_0c48915e.jpg', 0.9858031272888184, 0.01419687271118164), ('datasets/house_styles/all_images/342_9ee8b214.jpg', 'datasets/house_styles/all_images/219_d4a22bde.jpg', 1.0144133567810059, 0.01441335678100586), ('datasets/house_styles/all_images/151_cffbc324.jpg', 'datasets/house_styles/all_images/035_7b4de4fd.jpg', 0.985490620136261, 0.014509379863739014), ('datasets/house_styles/all_images/159_f211f05e.jpg', 'datasets/house_styles/all_images/017_ffb23173.jpg', 1.0145370960235596, 0.01453709602355957), ('datasets/house_styles/all_images/301_b73b9663.jpg', 'datasets/house_styles/all_images/123_d5fed066.jpg', 1.014643907546997, 0.01464390754699707), ('datasets/house_styles/all_images/428_d2a99125.jpg', 'datasets/house_styles/all_images/041_9c259b38.jpg', 1.0148998498916626, 0.014899849891662598), ('datasets/house_styles/all_images/225_25606f44.jpg', 'datasets/house_styles/all_images/131_c09d4a3f.jpg', 1.0149385929107666, 0.014938592910766602), ('datasets/house_styles/all_images/009_f852438c.jpg', 'datasets/house_styles/all_images/035_6e7ff66b.jpg', 0.9849284887313843, 0.015071511268615723), ('datasets/house_styles/all_images/294_f336ba11.jpg', 'datasets/house_styles/all_images/125_b3f68f40.jpg', 1.0151474475860596, 0.01514744758605957), ('datasets/house_styles/all_images/349_60f37449.jpg', 'datasets/house_styles/all_images/357_27ab49c8.jpg', 1.0151599645614624, 0.015159964561462402), ('datasets/house_styles/all_images/187_f9d3cf18.jpg', 'datasets/house_styles/all_images/204_c24a248a.jpg', 0.9848065972328186, 0.015193402767181396), ('datasets/house_styles/all_images/100_b2a006af.jpg', 'datasets/house_styles/all_images/360_28ef686b.jpg', 1.015195608139038, 0.015195608139038086), ('datasets/house_styles/all_images/125_b3f68f40.jpg', 'datasets/house_styles/all_images/250_27aa4502.jpg', 1.0153334140777588, 0.015333414077758789), ('datasets/house_styles/all_images/147_579b3c29.jpg', 'datasets/house_styles/all_images/086_80f8f853.jpg', 0.984656810760498, 0.015343189239501953), ('datasets/house_styles/all_images/284_1d326f0c.jpg', 'datasets/house_styles/all_images/043_0c48915e.jpg', 0.9842743277549744, 0.015725672245025635), ('datasets/house_styles/all_images/094_0a543599.jpg', 'datasets/house_styles/all_images/136_9f1a39c1.jpg', 0.9842113852500916, 0.015788614749908447), ('datasets/house_styles/all_images/108_c76f77e2.jpg', 'datasets/house_styles/all_images/122_e44a0cb3.jpg', 0.98394376039505, 0.01605623960494995), ('datasets/house_styles/all_images/021_6cb715ac.jpg', 'datasets/house_styles/all_images/221_cbdbfa68.jpg', 1.0163336992263794, 0.016333699226379395), ('datasets/house_styles/all_images/262_8a21b6d1.jpg', 'datasets/house_styles/all_images/366_6a85a605.jpg', 1.0163865089416504, 0.01638650894165039), ('datasets/house_styles/all_images/096_788887ff.jpg', 'datasets/house_styles/all_images/054_37cbf3d3.jpg', 1.0164469480514526, 0.016446948051452637), ('datasets/house_styles/all_images/001_d2c7428a.jpg', 'datasets/house_styles/all_images/130_1d93de4f.jpg', 0.9834569692611694, 0.016543030738830566), ('datasets/house_styles/all_images/121_62c24d44.jpg', 'datasets/house_styles/all_images/181_7a55eb4a.jpg', 1.0169665813446045, 0.016966581344604492), ('datasets/house_styles/all_images/022_f8c73e27.jpg', 'datasets/house_styles/all_images/108_c76f77e2.jpg', 0.9829954504966736, 0.017004549503326416), ('datasets/house_styles/all_images/180_ea16e99b.jpg', 'datasets/house_styles/all_images/093_a5e0acc5.jpg', 0.98296719789505, 0.01703280210494995)]\n"
     ]
    },
    {
     "name": "stderr",
     "output_type": "stream",
     "text": [
      "\n"
     ]
    }
   ],
   "source": [
    "least_confident_samples = active_learning_confident_samples(trained_model, data_loader, margin=1.0, budget=120)\n",
    "print(least_confident_samples)"
   ]
  },
  {
   "cell_type": "code",
   "execution_count": 39,
   "metadata": {},
   "outputs": [
    {
     "name": "stderr",
     "output_type": "stream",
     "text": [
      "100%|██████████| 1250/1250 [26:14<00:00,  1.26s/it]"
     ]
    },
    {
     "name": "stdout",
     "output_type": "stream",
     "text": [
      "[('datasets/house_styles/all_images/304_7774d253.jpg', 'datasets/house_styles/all_images/114_74c3329d.jpg', 1.0001115798950195, 0.00011157989501953125), ('datasets/house_styles/all_images/201_edbb9f6e.jpg', 'datasets/house_styles/all_images/006_ec7e3943.jpg', 1.0003690719604492, 0.00036907196044921875), ('datasets/house_styles/all_images/199_e4e5df84.jpg', 'datasets/house_styles/all_images/006_ec7e3943.jpg', 1.0003690719604492, 0.00036907196044921875), ('datasets/house_styles/all_images/414_ee23c62f.jpg', 'datasets/house_styles/all_images/125_743047fb.jpg', 1.000537633895874, 0.0005376338958740234), ('datasets/house_styles/all_images/291_93109531.jpg', 'datasets/house_styles/all_images/010_84618064.jpg', 1.0005396604537964, 0.0005396604537963867), ('datasets/house_styles/all_images/469_1ad24162.jpg', 'datasets/house_styles/all_images/187_f9d3cf18.jpg', 1.0005619525909424, 0.0005619525909423828), ('datasets/house_styles/all_images/168_73a8fa29.jpg', 'datasets/house_styles/all_images/094_0a543599.jpg', 0.9991692304611206, 0.0008307695388793945), ('datasets/house_styles/all_images/250_27aa4502.jpg', 'datasets/house_styles/all_images/402_edb89d69.jpg', 0.9990842342376709, 0.0009157657623291016), ('datasets/house_styles/all_images/252_222859bd.jpg', 'datasets/house_styles/all_images/103_615e0fa4.jpg', 1.0009253025054932, 0.0009253025054931641), ('datasets/house_styles/all_images/357_27ab49c8.jpg', 'datasets/house_styles/all_images/052_f4f97004.jpg', 0.9990651607513428, 0.0009348392486572266), ('datasets/house_styles/all_images/419_b4f308b3.jpg', 'datasets/house_styles/all_images/112_e6cb24b4.jpg', 0.998855710029602, 0.0011442899703979492), ('datasets/house_styles/all_images/454_3180c2dd.jpg', 'datasets/house_styles/all_images/018_d675e0cc.jpg', 1.001189947128296, 0.0011899471282958984), ('datasets/house_styles/all_images/125_b3f68f40.jpg', 'datasets/house_styles/all_images/141_965cfe04.jpg', 1.001192331314087, 0.001192331314086914), ('datasets/house_styles/all_images/153_acb5cd48.jpg', 'datasets/house_styles/all_images/035_6e7ff66b.jpg', 0.9988049864768982, 0.0011950135231018066), ('datasets/house_styles/all_images/257_f1b4cd5b.jpg', 'datasets/house_styles/all_images/394_8fc176b2.jpg', 1.0012261867523193, 0.001226186752319336), ('datasets/house_styles/all_images/001_d2c7428a.jpg', 'datasets/house_styles/all_images/067_c93d4864.jpg', 0.9986201524734497, 0.001379847526550293), ('datasets/house_styles/all_images/245_1557cb25.jpg', 'datasets/house_styles/all_images/388_fbd9baa1.jpg', 0.998545229434967, 0.001454770565032959), ('datasets/house_styles/all_images/339_c832b6cc.jpg', 'datasets/house_styles/all_images/096_0dc661af.jpg', 0.9985357522964478, 0.001464247703552246), ('datasets/house_styles/all_images/040_6ddfd3e7.jpg', 'datasets/house_styles/all_images/098_cff86baa.jpg', 0.9981327652931213, 0.0018672347068786621), ('datasets/house_styles/all_images/245_1557cb25.jpg', 'datasets/house_styles/all_images/079_3da41703.jpg', 0.9980865120887756, 0.0019134879112243652), ('datasets/house_styles/all_images/357_27ab49c8.jpg', 'datasets/house_styles/all_images/382_761139e9.jpg', 1.00206458568573, 0.0020645856857299805), ('datasets/house_styles/all_images/043_0c48915e.jpg', 'datasets/house_styles/all_images/129_50e2e0b5.jpg', 1.0020846128463745, 0.0020846128463745117), ('datasets/house_styles/all_images/115_bcdaf595.jpg', 'datasets/house_styles/all_images/172_f807dd8b.jpg', 1.0021579265594482, 0.002157926559448242), ('datasets/house_styles/all_images/019_61d9365b.jpg', 'datasets/house_styles/all_images/002_8cdb5424.jpg', 0.9977126717567444, 0.0022873282432556152), ('datasets/house_styles/all_images/428_5c14629a.jpg', 'datasets/house_styles/all_images/097_41e7ad48.jpg', 0.9976906776428223, 0.0023093223571777344), ('datasets/house_styles/all_images/175_9c8306c2.jpg', 'datasets/house_styles/all_images/164_45199ef9.jpg', 0.9976183176040649, 0.0023816823959350586), ('datasets/house_styles/all_images/040_6ddfd3e7.jpg', 'datasets/house_styles/all_images/097_41e7ad48.jpg', 0.9971479773521423, 0.002852022647857666), ('datasets/house_styles/all_images/280_78fc43a1.jpg', 'datasets/house_styles/all_images/002_8cdb5424.jpg', 0.9969549179077148, 0.0030450820922851562), ('datasets/house_styles/all_images/428_5c14629a.jpg', 'datasets/house_styles/all_images/080_1bdfee05.jpg', 0.9967101216316223, 0.0032898783683776855), ('datasets/house_styles/all_images/388_aa0bd42a.jpg', 'datasets/house_styles/all_images/477_5cdcd6bf.jpg', 1.0032920837402344, 0.003292083740234375), ('datasets/house_styles/all_images/229_f79304e9.jpg', 'datasets/house_styles/all_images/093_a5e0acc5.jpg', 0.9967043399810791, 0.0032956600189208984), ('datasets/house_styles/all_images/383_2e64dee6.jpg', 'datasets/house_styles/all_images/081_156ea596.jpg', 1.0033546686172485, 0.003354668617248535), ('datasets/house_styles/all_images/245_1557cb25.jpg', 'datasets/house_styles/all_images/196_95e8f791.jpg', 1.0036799907684326, 0.003679990768432617), ('datasets/house_styles/all_images/084_dae155bc.jpg', 'datasets/house_styles/all_images/128_841a4e49.jpg', 0.9962374567985535, 0.003762543201446533), ('datasets/house_styles/all_images/267_4433e7a0.jpg', 'datasets/house_styles/all_images/026_01045d0b.jpg', 1.0037895441055298, 0.003789544105529785), ('datasets/house_styles/all_images/151_cffbc324.jpg', 'datasets/house_styles/all_images/035_6e7ff66b.jpg', 1.0038881301879883, 0.0038881301879882812), ('datasets/house_styles/all_images/227_33071f4b.jpg', 'datasets/house_styles/all_images/168_73a8fa29.jpg', 0.9960963129997253, 0.003903687000274658), ('datasets/house_styles/all_images/260_ff34f4ba.jpg', 'datasets/house_styles/all_images/012_f438db3a.jpg', 0.9959260821342468, 0.004073917865753174), ('datasets/house_styles/all_images/094_c29b2dc0.jpg', 'datasets/house_styles/all_images/004_cabd9dfd.jpg', 1.0041569471359253, 0.004156947135925293), ('datasets/house_styles/all_images/291_87a33ca7.jpg', 'datasets/house_styles/all_images/164_45199ef9.jpg', 1.0043913125991821, 0.004391312599182129), ('datasets/house_styles/all_images/432_81c52798.jpg', 'datasets/house_styles/all_images/113_a877aa66.jpg', 1.0044587850570679, 0.004458785057067871), ('datasets/house_styles/all_images/227_33071f4b.jpg', 'datasets/house_styles/all_images/105_decde90f.jpg', 0.9954760074615479, 0.0045239925384521484), ('datasets/house_styles/all_images/227_33071f4b.jpg', 'datasets/house_styles/all_images/095_0a434ed3.jpg', 0.9954760074615479, 0.0045239925384521484), ('datasets/house_styles/all_images/238_223f3e13.jpg', 'datasets/house_styles/all_images/410_43ec7ac3.jpg', 0.9950155019760132, 0.004984498023986816), ('datasets/house_styles/all_images/487_6af5bc71.jpg', 'datasets/house_styles/all_images/112_e6cb24b4.jpg', 1.005000114440918, 0.005000114440917969), ('datasets/house_styles/all_images/005_dbecd9c4.jpg', 'datasets/house_styles/all_images/105_1c926771.jpg', 0.9949350953102112, 0.005064904689788818), ('datasets/house_styles/all_images/378_8983cba2.jpg', 'datasets/house_styles/all_images/005_eda52226.jpg', 1.005316138267517, 0.00531613826751709), ('datasets/house_styles/all_images/041_d7474487.jpg', 'datasets/house_styles/all_images/133_91a1133a.jpg', 0.9946491718292236, 0.005350828170776367), ('datasets/house_styles/all_images/415_4b0724cb.jpg', 'datasets/house_styles/all_images/410_43ec7ac3.jpg', 0.9944037199020386, 0.005596280097961426), ('datasets/house_styles/all_images/360_96bf2f72.jpg', 'datasets/house_styles/all_images/009_f852438c.jpg', 1.005606770515442, 0.0056067705154418945), ('datasets/house_styles/all_images/094_c29b2dc0.jpg', 'datasets/house_styles/all_images/091_1e37e2fa.jpg', 0.9940340518951416, 0.0059659481048583984), ('datasets/house_styles/all_images/428_5c14629a.jpg', 'datasets/house_styles/all_images/132_8e5fa493.jpg', 1.0060235261917114, 0.006023526191711426), ('datasets/house_styles/all_images/260_ff34f4ba.jpg', 'datasets/house_styles/all_images/206_08d285c6.jpg', 1.0061490535736084, 0.0061490535736083984), ('datasets/house_styles/all_images/349_60f37449.jpg', 'datasets/house_styles/all_images/087_24c73d10.jpg', 1.0062187910079956, 0.0062187910079956055), ('datasets/house_styles/all_images/428_5c14629a.jpg', 'datasets/house_styles/all_images/079_3da41703.jpg', 1.0063276290893555, 0.006327629089355469), ('datasets/house_styles/all_images/112_e6cb24b4.jpg', 'datasets/house_styles/all_images/141_965cfe04.jpg', 0.9935972094535828, 0.006402790546417236), ('datasets/house_styles/all_images/280_8efc2963.jpg', 'datasets/house_styles/all_images/035_6e7ff66b.jpg', 1.006605863571167, 0.006605863571166992), ('datasets/house_styles/all_images/252_222859bd.jpg', 'datasets/house_styles/all_images/388_fbd9baa1.jpg', 1.0067822933197021, 0.0067822933197021484), ('datasets/house_styles/all_images/113_3b341645.jpg', 'datasets/house_styles/all_images/096_0dc661af.jpg', 1.0071499347686768, 0.007149934768676758), ('datasets/house_styles/all_images/229_c8c54b60.jpg', 'datasets/house_styles/all_images/159_7b4fd689.jpg', 0.9926935434341431, 0.007306456565856934), ('datasets/house_styles/all_images/349_60f37449.jpg', 'datasets/house_styles/all_images/197_3ef925ed.jpg', 1.0073598623275757, 0.007359862327575684), ('datasets/house_styles/all_images/487_6af5bc71.jpg', 'datasets/house_styles/all_images/310_10bdb154.jpg', 1.0076041221618652, 0.007604122161865234), ('datasets/house_styles/all_images/142_12fc668a.jpg', 'datasets/house_styles/all_images/164_45199ef9.jpg', 1.0078941583633423, 0.007894158363342285), ('datasets/house_styles/all_images/137_16e3cfb6.jpg', 'datasets/house_styles/all_images/245_579b3304.jpg', 1.0079929828643799, 0.007992982864379883), ('datasets/house_styles/all_images/260_ff34f4ba.jpg', 'datasets/house_styles/all_images/194_a66427af.jpg', 1.0082759857177734, 0.008275985717773438), ('datasets/house_styles/all_images/487_6af5bc71.jpg', 'datasets/house_styles/all_images/382_761139e9.jpg', 0.991657018661499, 0.008342981338500977), ('datasets/house_styles/all_images/415_4b0724cb.jpg', 'datasets/house_styles/all_images/125_743047fb.jpg', 0.9914510250091553, 0.008548974990844727), ('datasets/house_styles/all_images/112_f21e8af7.jpg', 'datasets/house_styles/all_images/019_61d9365b.jpg', 1.0085712671279907, 0.008571267127990723), ('datasets/house_styles/all_images/516_8a0a07fe.jpg', 'datasets/house_styles/all_images/142_a3bbdd3d.jpg', 1.0086860656738281, 0.008686065673828125), ('datasets/house_styles/all_images/443_c3788bc5.jpg', 'datasets/house_styles/all_images/080_1bdfee05.jpg', 0.9912493824958801, 0.008750617504119873), ('datasets/house_styles/all_images/477_5cdcd6bf.jpg', 'datasets/house_styles/all_images/002_8cdb5424.jpg', 1.0087745189666748, 0.008774518966674805), ('datasets/house_styles/all_images/474_ebf934b6.jpg', 'datasets/house_styles/all_images/023_5efdbc2d.jpg', 0.990898847579956, 0.009101152420043945), ('datasets/house_styles/all_images/078_9e2d5f02.jpg', 'datasets/house_styles/all_images/103_e1440563.jpg', 1.009459376335144, 0.009459376335144043), ('datasets/house_styles/all_images/346_e98ba7a9.jpg', 'datasets/house_styles/all_images/067_6de6b577.jpg', 0.9904577136039734, 0.009542286396026611), ('datasets/house_styles/all_images/149_0d19bc77.jpg', 'datasets/house_styles/all_images/053_9f014739.jpg', 1.009562611579895, 0.00956261157989502), ('datasets/house_styles/all_images/449_f4fc9f5c.jpg', 'datasets/house_styles/all_images/136_9f1a39c1.jpg', 0.9902422428131104, 0.009757757186889648), ('datasets/house_styles/all_images/149_0d19bc77.jpg', 'datasets/house_styles/all_images/262_8a21b6d1.jpg', 0.9901672601699829, 0.00983273983001709), ('datasets/house_styles/all_images/432_81c52798.jpg', 'datasets/house_styles/all_images/092_0cd80084.jpg', 1.0098903179168701, 0.009890317916870117), ('datasets/house_styles/all_images/356_efd8fc80.jpg', 'datasets/house_styles/all_images/135_8c978f4e.jpg', 0.9896065592765808, 0.01039344072341919), ('datasets/house_styles/all_images/355_a1185a91.jpg', 'datasets/house_styles/all_images/260_ff34f4ba.jpg', 1.0106674432754517, 0.01066744327545166), ('datasets/house_styles/all_images/539_897f21ca.jpg', 'datasets/house_styles/all_images/034_ad26fac6.jpg', 1.0108226537704468, 0.010822653770446777), ('datasets/house_styles/all_images/131_1251d4eb.jpg', 'datasets/house_styles/all_images/156_55935f6b.jpg', 1.0108754634857178, 0.010875463485717773), ('datasets/house_styles/all_images/172_fb1c801f.jpg', 'datasets/house_styles/all_images/005_eda52226.jpg', 0.9890826344490051, 0.010917365550994873), ('datasets/house_styles/all_images/388_aa0bd42a.jpg', 'datasets/house_styles/all_images/084_dae155bc.jpg', 0.9889276623725891, 0.011072337627410889), ('datasets/house_styles/all_images/363_12412886.jpg', 'datasets/house_styles/all_images/432_81c52798.jpg', 0.988295316696167, 0.011704683303833008), ('datasets/house_styles/all_images/094_c29b2dc0.jpg', 'datasets/house_styles/all_images/194_a66427af.jpg', 0.9880828857421875, 0.0119171142578125), ('datasets/house_styles/all_images/253_4be9d181.jpg', 'datasets/house_styles/all_images/118_d035210b.jpg', 0.9879869222640991, 0.012013077735900879), ('datasets/house_styles/all_images/339_c832b6cc.jpg', 'datasets/house_styles/all_images/216_8570669c.jpg', 1.0121278762817383, 0.012127876281738281), ('datasets/house_styles/all_images/324_b65d6469.jpg', 'datasets/house_styles/all_images/089_23d6d672.jpg', 0.9875168204307556, 0.012483179569244385), ('datasets/house_styles/all_images/245_579b3304.jpg', 'datasets/house_styles/all_images/017_d780b748.jpg', 1.0126433372497559, 0.01264333724975586), ('datasets/house_styles/all_images/068_dc83e73a.jpg', 'datasets/house_styles/all_images/474_ebf934b6.jpg', 1.0126755237579346, 0.01267552375793457), ('datasets/house_styles/all_images/212_af89d52d.jpg', 'datasets/house_styles/all_images/164_45199ef9.jpg', 0.9870429635047913, 0.01295703649520874), ('datasets/house_styles/all_images/044_d4a75e1b.jpg', 'datasets/house_styles/all_images/223_ad04fd37.jpg', 1.0132009983062744, 0.013200998306274414), ('datasets/house_styles/all_images/153_acb5cd48.jpg', 'datasets/house_styles/all_images/034_ad26fac6.jpg', 0.9866845607757568, 0.013315439224243164), ('datasets/house_styles/all_images/406_e5e906d6.jpg', 'datasets/house_styles/all_images/356_efd8fc80.jpg', 0.9861880540847778, 0.013811945915222168), ('datasets/house_styles/all_images/389_08eeac29.jpg', 'datasets/house_styles/all_images/272_3262745c.jpg', 1.0138916969299316, 0.01389169692993164), ('datasets/house_styles/all_images/163_83960f4c.jpg', 'datasets/house_styles/all_images/095_0a434ed3.jpg', 0.9858876466751099, 0.014112353324890137), ('datasets/house_styles/all_images/406_e5e906d6.jpg', 'datasets/house_styles/all_images/104_0b145adc.jpg', 1.0142061710357666, 0.014206171035766602), ('datasets/house_styles/all_images/272_3262745c.jpg', 'datasets/house_styles/all_images/221_cbdbfa68.jpg', 0.9857873916625977, 0.014212608337402344), ('datasets/house_styles/all_images/184_4eb75826.jpg', 'datasets/house_styles/all_images/105_1c926771.jpg', 0.9856536984443665, 0.014346301555633545), ('datasets/house_styles/all_images/061_b65cd27e.jpg', 'datasets/house_styles/all_images/193_365009dc.jpg', 1.0143966674804688, 0.01439666748046875), ('datasets/house_styles/all_images/061_b65cd27e.jpg', 'datasets/house_styles/all_images/202_55578dea.jpg', 1.0143966674804688, 0.01439666748046875), ('datasets/house_styles/all_images/166_cb292a05.jpg', 'datasets/house_styles/all_images/295_cf4856da.jpg', 1.0144332647323608, 0.01443326473236084), ('datasets/house_styles/all_images/144_cb90f7ea.jpg', 'datasets/house_styles/all_images/080_1bdfee05.jpg', 1.0145329236984253, 0.014532923698425293), ('datasets/house_styles/all_images/137_16e3cfb6.jpg', 'datasets/house_styles/all_images/136_976f1a71.jpg', 1.014551043510437, 0.014551043510437012), ('datasets/house_styles/all_images/384_7bba4266.jpg', 'datasets/house_styles/all_images/027_07aeccc3.jpg', 0.9853866100311279, 0.01461338996887207), ('datasets/house_styles/all_images/360_28ef686b.jpg', 'datasets/house_styles/all_images/156_55935f6b.jpg', 0.9853159785270691, 0.014684021472930908), ('datasets/house_styles/all_images/273_95a29a86.jpg', 'datasets/house_styles/all_images/155_732ad883.jpg', 0.9850156307220459, 0.014984369277954102), ('datasets/house_styles/all_images/184_4eb75826.jpg', 'datasets/house_styles/all_images/008_a0cf2e04.jpg', 1.0151339769363403, 0.015133976936340332), ('datasets/house_styles/all_images/153_acb5cd48.jpg', 'datasets/house_styles/all_images/175_d61edc30.jpg', 0.9846898913383484, 0.015310108661651611), ('datasets/house_styles/all_images/441_56cba3a9.jpg', 'datasets/house_styles/all_images/156_55935f6b.jpg', 1.0153766870498657, 0.015376687049865723), ('datasets/house_styles/all_images/454_3180c2dd.jpg', 'datasets/house_styles/all_images/002_8cdb5424.jpg', 0.9841897487640381, 0.015810251235961914), ('datasets/house_styles/all_images/233_ca38f1ee.jpg', 'datasets/house_styles/all_images/003_4600a7ff.jpg', 0.9840376377105713, 0.01596236228942871), ('datasets/house_styles/all_images/453_d7b5d246.jpg', 'datasets/house_styles/all_images/215_23b53307.jpg', 0.9839301109313965, 0.016069889068603516), ('datasets/house_styles/all_images/155_732ad883.jpg', 'datasets/house_styles/all_images/188_9b067c58.jpg', 0.9833710193634033, 0.01662898063659668), ('datasets/house_styles/all_images/078_9e2d5f02.jpg', 'datasets/house_styles/all_images/034_ad26fac6.jpg', 1.0166869163513184, 0.01668691635131836), ('datasets/house_styles/all_images/338_ad39cc5d.jpg', 'datasets/house_styles/all_images/122_ddafaefd.jpg', 0.983200192451477, 0.01679980754852295), ('datasets/house_styles/all_images/043_0c48915e.jpg', 'datasets/house_styles/all_images/136_9f1a39c1.jpg', 1.0168079137802124, 0.016807913780212402), ('datasets/house_styles/all_images/121_62c24d44.jpg', 'datasets/house_styles/all_images/105_1c926771.jpg', 1.016827940940857, 0.016827940940856934), ('datasets/house_styles/all_images/219_d4a22bde.jpg', 'datasets/house_styles/all_images/114_dd2dcd98.jpg', 1.0168706178665161, 0.016870617866516113), ('datasets/house_styles/all_images/123_d5fed066.jpg', 'datasets/house_styles/all_images/057_28786773.jpg', 1.0169334411621094, 0.016933441162109375), ('datasets/house_styles/all_images/121_62c24d44.jpg', 'datasets/house_styles/all_images/234_25b7959b.jpg', 0.9828673601150513, 0.01713263988494873), ('datasets/house_styles/all_images/294_3260f65d.jpg', 'datasets/house_styles/all_images/130_3436e91b.jpg', 1.0172667503356934, 0.01726675033569336), ('datasets/house_styles/all_images/084_dae155bc.jpg', 'datasets/house_styles/all_images/080_1bdfee05.jpg', 0.9824830889701843, 0.017516911029815674), ('datasets/house_styles/all_images/233_ca38f1ee.jpg', 'datasets/house_styles/all_images/199_e4e5df84.jpg', 0.9824246168136597, 0.017575383186340332), ('datasets/house_styles/all_images/225_25606f44.jpg', 'datasets/house_styles/all_images/284_404c75b4.jpg', 1.0177795886993408, 0.01777958869934082), ('datasets/house_styles/all_images/031_a6f9a9fe.jpg', 'datasets/house_styles/all_images/245_579b3304.jpg', 0.9818906784057617, 0.01810932159423828), ('datasets/house_styles/all_images/121_62c24d44.jpg', 'datasets/house_styles/all_images/093_94e91f0f.jpg', 0.9818359017372131, 0.018164098262786865), ('datasets/house_styles/all_images/386_03e0eca7.jpg', 'datasets/house_styles/all_images/027_07aeccc3.jpg', 1.0185991525650024, 0.01859915256500244), ('datasets/house_styles/all_images/394_8fc176b2.jpg', 'datasets/house_styles/all_images/077_fd3da9e2.jpg', 1.0186436176300049, 0.018643617630004883), ('datasets/house_styles/all_images/112_f21e8af7.jpg', 'datasets/house_styles/all_images/087_24c73d10.jpg', 0.9809560775756836, 0.019043922424316406), ('datasets/house_styles/all_images/539_897f21ca.jpg', 'datasets/house_styles/all_images/087_24c73d10.jpg', 1.0191699266433716, 0.019169926643371582), ('datasets/house_styles/all_images/041_d7474487.jpg', 'datasets/house_styles/all_images/061_b65cd27e.jpg', 1.0194051265716553, 0.019405126571655273), ('datasets/house_styles/all_images/299_6f2be194.jpg', 'datasets/house_styles/all_images/292_4b1685e4.jpg', 1.0194733142852783, 0.01947331428527832), ('datasets/house_styles/all_images/477_5cdcd6bf.jpg', 'datasets/house_styles/all_images/096_0dc661af.jpg', 1.019577145576477, 0.01957714557647705), ('datasets/house_styles/all_images/041_d7474487.jpg', 'datasets/house_styles/all_images/172_f807dd8b.jpg', 1.0196819305419922, 0.019681930541992188), ('datasets/house_styles/all_images/252_222859bd.jpg', 'datasets/house_styles/all_images/035_6e7ff66b.jpg', 0.9801687002182007, 0.019831299781799316), ('datasets/house_styles/all_images/166_cb292a05.jpg', 'datasets/house_styles/all_images/465_fcc8719d.jpg', 0.9801403284072876, 0.019859671592712402), ('datasets/house_styles/all_images/297_e9c8dc5c.jpg', 'datasets/house_styles/all_images/164_45199ef9.jpg', 0.980054497718811, 0.019945502281188965), ('datasets/house_styles/all_images/267_4433e7a0.jpg', 'datasets/house_styles/all_images/093_a5e0acc5.jpg', 0.9799507260322571, 0.02004927396774292), ('datasets/house_styles/all_images/368_20d72c3b.jpg', 'datasets/house_styles/all_images/069_3a6f2b43.jpg', 0.9797102212905884, 0.02028977870941162), ('datasets/house_styles/all_images/284_1d326f0c.jpg', 'datasets/house_styles/all_images/129_50e2e0b5.jpg', 1.0204228162765503, 0.020422816276550293), ('datasets/house_styles/all_images/050_ffb00e12.jpg', 'datasets/house_styles/all_images/080_1bdfee05.jpg', 0.9795551896095276, 0.020444810390472412), ('datasets/house_styles/all_images/507_7d484885.jpg', 'datasets/house_styles/all_images/193_365009dc.jpg', 1.0205814838409424, 0.020581483840942383), ('datasets/house_styles/all_images/018_64add206.jpg', 'datasets/house_styles/all_images/026_01045d0b.jpg', 0.9792582988739014, 0.020741701126098633), ('datasets/house_styles/all_images/233_ca38f1ee.jpg', 'datasets/house_styles/all_images/255_c44d1f35.jpg', 0.9791203141212463, 0.020879685878753662), ('datasets/house_styles/all_images/048_0a8b5dde.jpg', 'datasets/house_styles/all_images/155_732ad883.jpg', 1.0212130546569824, 0.021213054656982422), ('datasets/house_styles/all_images/172_fb1c801f.jpg', 'datasets/house_styles/all_images/184_ad1b48b8.jpg', 0.9786192774772644, 0.021380722522735596), ('datasets/house_styles/all_images/280_8efc2963.jpg', 'datasets/house_styles/all_images/382_761139e9.jpg', 1.0214391946792603, 0.021439194679260254), ('datasets/house_styles/all_images/136_976f1a71.jpg', 'datasets/house_styles/all_images/093_a5e0acc5.jpg', 1.0215493440628052, 0.021549344062805176), ('datasets/house_styles/all_images/441_56cba3a9.jpg', 'datasets/house_styles/all_images/032_1fae6650.jpg', 0.9784063100814819, 0.021593689918518066), ('datasets/house_styles/all_images/419_b4f308b3.jpg', 'datasets/house_styles/all_images/060_26c18ddf.jpg', 1.0218734741210938, 0.02187347412109375), ('datasets/house_styles/all_images/419_b4f308b3.jpg', 'datasets/house_styles/all_images/504_06424815.jpg', 1.0219464302062988, 0.021946430206298828), ('datasets/house_styles/all_images/291_87a33ca7.jpg', 'datasets/house_styles/all_images/432_81c52798.jpg', 0.9780232310295105, 0.021976768970489502), ('datasets/house_styles/all_images/252_222859bd.jpg', 'datasets/house_styles/all_images/002_8cdb5424.jpg', 1.0219961404800415, 0.021996140480041504), ('datasets/house_styles/all_images/021_25ad37e4.jpg', 'datasets/house_styles/all_images/172_f807dd8b.jpg', 1.0220693349838257, 0.022069334983825684), ('datasets/house_styles/all_images/137_16e3cfb6.jpg', 'datasets/house_styles/all_images/469_1ad24162.jpg', 0.9778753519058228, 0.022124648094177246), ('datasets/house_styles/all_images/054_37cbf3d3.jpg', 'datasets/house_styles/all_images/021_6cb715ac.jpg', 1.0222749710083008, 0.02227497100830078), ('datasets/house_styles/all_images/190_48347536.jpg', 'datasets/house_styles/all_images/022_f8c73e27.jpg', 0.9775469303131104, 0.02245306968688965), ('datasets/house_styles/all_images/131_1251d4eb.jpg', 'datasets/house_styles/all_images/012_f438db3a.jpg', 0.9775177240371704, 0.02248227596282959), ('datasets/house_styles/all_images/055_55fbf3ef.jpg', 'datasets/house_styles/all_images/141_965cfe04.jpg', 0.9774647951126099, 0.022535204887390137), ('datasets/house_styles/all_images/167_65150acf.jpg', 'datasets/house_styles/all_images/077_fd3da9e2.jpg', 1.0225988626480103, 0.022598862648010254), ('datasets/house_styles/all_images/105_1c926771.jpg', 'datasets/house_styles/all_images/132_8e5fa493.jpg', 1.0226376056671143, 0.022637605667114258), ('datasets/house_styles/all_images/524_adfc8645.jpg', 'datasets/house_styles/all_images/009_f852438c.jpg', 0.9772316217422485, 0.022768378257751465), ('datasets/house_styles/all_images/227_33071f4b.jpg', 'datasets/house_styles/all_images/021_6cb715ac.jpg', 1.0229274034500122, 0.022927403450012207), ('datasets/house_styles/all_images/149_0d19bc77.jpg', 'datasets/house_styles/all_images/310_10bdb154.jpg', 1.0235408544540405, 0.023540854454040527), ('datasets/house_styles/all_images/100_b2a006af.jpg', 'datasets/house_styles/all_images/439_cbec03f0.jpg', 0.9764313697814941, 0.02356863021850586), ('datasets/house_styles/all_images/376_3473d618.jpg', 'datasets/house_styles/all_images/315_59373113.jpg', 1.0239980220794678, 0.023998022079467773), ('datasets/house_styles/all_images/389_08eeac29.jpg', 'datasets/house_styles/all_images/045_9fea1e51.jpg', 1.0240328311920166, 0.0240328311920166), ('datasets/house_styles/all_images/229_c8c54b60.jpg', 'datasets/house_styles/all_images/194_a66427af.jpg', 0.9754642844200134, 0.024535715579986572), ('datasets/house_styles/all_images/121_62c24d44.jpg', 'datasets/house_styles/all_images/067_c93d4864.jpg', 1.0245894193649292, 0.0245894193649292), ('datasets/house_styles/all_images/227_33071f4b.jpg', 'datasets/house_styles/all_images/045_9fea1e51.jpg', 1.0255037546157837, 0.02550375461578369), ('datasets/house_styles/all_images/116_32f01ef6.jpg', 'datasets/house_styles/all_images/057_28786773.jpg', 0.9743266105651855, 0.025673389434814453), ('datasets/house_styles/all_images/136_976f1a71.jpg', 'datasets/house_styles/all_images/067_6de6b577.jpg', 1.025740385055542, 0.025740385055541992), ('datasets/house_styles/all_images/007_64a3e2e9.jpg', 'datasets/house_styles/all_images/154_dc6f5bd3.jpg', 1.0257457494735718, 0.025745749473571777), ('datasets/house_styles/all_images/041_9c259b38.jpg', 'datasets/house_styles/all_images/132_8e5fa493.jpg', 1.025947093963623, 0.025947093963623047), ('datasets/house_styles/all_images/516_8a0a07fe.jpg', 'datasets/house_styles/all_images/175_d61edc30.jpg', 1.0260119438171387, 0.026011943817138672), ('datasets/house_styles/all_images/294_f336ba11.jpg', 'datasets/house_styles/all_images/098_cff86baa.jpg', 0.9739627838134766, 0.026037216186523438), ('datasets/house_styles/all_images/202_698495e0.jpg', 'datasets/house_styles/all_images/133_91a1133a.jpg', 0.9738213419914246, 0.02617865800857544), ('datasets/house_styles/all_images/050_ffb00e12.jpg', 'datasets/house_styles/all_images/021_6cb715ac.jpg', 1.0269197225570679, 0.02691972255706787), ('datasets/house_styles/all_images/068_b5fe6a9b.jpg', 'datasets/house_styles/all_images/108_c76f77e2.jpg', 1.026981234550476, 0.026981234550476074), ('datasets/house_styles/all_images/339_c832b6cc.jpg', 'datasets/house_styles/all_images/053_9f014739.jpg', 1.027626395225525, 0.027626395225524902), ('datasets/house_styles/all_images/376_3473d618.jpg', 'datasets/house_styles/all_images/079_3da41703.jpg', 1.0278441905975342, 0.02784419059753418), ('datasets/house_styles/all_images/272_3262745c.jpg', 'datasets/house_styles/all_images/206_08d285c6.jpg', 0.9717590808868408, 0.02824091911315918), ('datasets/house_styles/all_images/041_d7474487.jpg', 'datasets/house_styles/all_images/223_ad04fd37.jpg', 1.0282940864562988, 0.028294086456298828), ('datasets/house_styles/all_images/208_78b28f8b.jpg', 'datasets/house_styles/all_images/106_253755c1.jpg', 1.028323769569397, 0.028323769569396973), ('datasets/house_styles/all_images/130_1d93de4f.jpg', 'datasets/house_styles/all_images/018_d675e0cc.jpg', 1.0285691022872925, 0.02856910228729248), ('datasets/house_styles/all_images/394_8fc176b2.jpg', 'datasets/house_styles/all_images/206_08d285c6.jpg', 0.9712576270103455, 0.02874237298965454), ('datasets/house_styles/all_images/342_9ee8b214.jpg', 'datasets/house_styles/all_images/006_ec7e3943.jpg', 1.0288689136505127, 0.028868913650512695), ('datasets/house_styles/all_images/355_a1185a91.jpg', 'datasets/house_styles/all_images/251_a8ad17be.jpg', 0.9710479378700256, 0.028952062129974365), ('datasets/house_styles/all_images/238_223f3e13.jpg', 'datasets/house_styles/all_images/184_ad1b48b8.jpg', 0.9705033302307129, 0.02949666976928711), ('datasets/house_styles/all_images/386_03e0eca7.jpg', 'datasets/house_styles/all_images/182_b43618bc.jpg', 1.029570460319519, 0.029570460319519043), ('datasets/house_styles/all_images/389_08eeac29.jpg', 'datasets/house_styles/all_images/018_d675e0cc.jpg', 0.9703015685081482, 0.029698431491851807), ('datasets/house_styles/all_images/163_83960f4c.jpg', 'datasets/house_styles/all_images/164_45199ef9.jpg', 0.9702343344688416, 0.029765665531158447), ('datasets/house_styles/all_images/252_222859bd.jpg', 'datasets/house_styles/all_images/012_f438db3a.jpg', 0.9699013829231262, 0.03009861707687378), ('datasets/house_styles/all_images/360_28ef686b.jpg', 'datasets/house_styles/all_images/009_f852438c.jpg', 0.9698614478111267, 0.03013855218887329), ('datasets/house_styles/all_images/001_d2c7428a.jpg', 'datasets/house_styles/all_images/095_0a434ed3.jpg', 1.0305677652359009, 0.03056776523590088), ('datasets/house_styles/all_images/348_c8533d76.jpg', 'datasets/house_styles/all_images/132_8e5fa493.jpg', 1.03061842918396, 0.03061842918395996), ('datasets/house_styles/all_images/144_cb90f7ea.jpg', 'datasets/house_styles/all_images/190_c9f886f6.jpg', 1.030686616897583, 0.030686616897583008), ('datasets/house_styles/all_images/280_8efc2963.jpg', 'datasets/house_styles/all_images/108_c76f77e2.jpg', 0.9692670106887817, 0.03073298931121826), ('datasets/house_styles/all_images/213_80e87065.jpg', 'datasets/house_styles/all_images/061_b65cd27e.jpg', 0.9692524075508118, 0.030747592449188232), ('datasets/house_styles/all_images/050_ffb00e12.jpg', 'datasets/house_styles/all_images/028_977e3b62.jpg', 1.0308409929275513, 0.03084099292755127), ('datasets/house_styles/all_images/142_12fc668a.jpg', 'datasets/house_styles/all_images/077_fd3da9e2.jpg', 0.96903395652771, 0.03096604347229004), ('datasets/house_styles/all_images/384_7bba4266.jpg', 'datasets/house_styles/all_images/172_fb1c801f.jpg', 1.0310108661651611, 0.031010866165161133), ('datasets/house_styles/all_images/250_27aa4502.jpg', 'datasets/house_styles/all_images/034_ad26fac6.jpg', 0.9688814282417297, 0.031118571758270264), ('datasets/house_styles/all_images/048_0a8b5dde.jpg', 'datasets/house_styles/all_images/147_579b3c29.jpg', 1.0312737226486206, 0.031273722648620605), ('datasets/house_styles/all_images/284_1d326f0c.jpg', 'datasets/house_styles/all_images/106_253755c1.jpg', 0.9687077403068542, 0.03129225969314575), ('datasets/house_styles/all_images/295_cf4856da.jpg', 'datasets/house_styles/all_images/107_01540c65.jpg', 0.9686513543128967, 0.03134864568710327), ('datasets/house_styles/all_images/005_dbecd9c4.jpg', 'datasets/house_styles/all_images/394_8fc176b2.jpg', 0.9685912132263184, 0.03140878677368164), ('datasets/house_styles/all_images/048_0a8b5dde.jpg', 'datasets/house_styles/all_images/516_8a0a07fe.jpg', 0.9683347940444946, 0.03166520595550537), ('datasets/house_styles/all_images/208_78b28f8b.jpg', 'datasets/house_styles/all_images/086_80f8f853.jpg', 0.9682571887969971, 0.03174281120300293), ('datasets/house_styles/all_images/280_8efc2963.jpg', 'datasets/house_styles/all_images/136_9f1a39c1.jpg', 1.0318338871002197, 0.03183388710021973), ('datasets/house_styles/all_images/343_354bff03.jpg', 'datasets/house_styles/all_images/272_3262745c.jpg', 1.032002568244934, 0.03200256824493408), ('datasets/house_styles/all_images/043_0c48915e.jpg', 'datasets/house_styles/all_images/053_9f014739.jpg', 0.967976450920105, 0.03202354907989502), ('datasets/house_styles/all_images/477_5cdcd6bf.jpg', 'datasets/house_styles/all_images/011_a7b790e1.jpg', 1.032151222229004, 0.032151222229003906), ('datasets/house_styles/all_images/005_dbecd9c4.jpg', 'datasets/house_styles/all_images/356_efd8fc80.jpg', 1.0321755409240723, 0.032175540924072266), ('datasets/house_styles/all_images/131_1251d4eb.jpg', 'datasets/house_styles/all_images/476_018c324b.jpg', 0.9677601456642151, 0.03223985433578491), ('datasets/house_styles/all_images/042_636dd3d3.jpg', 'datasets/house_styles/all_images/234_25b7959b.jpg', 1.0325285196304321, 0.03252851963043213), ('datasets/house_styles/all_images/388_fbd9baa1.jpg', 'datasets/house_styles/all_images/067_6de6b577.jpg', 1.0328468084335327, 0.032846808433532715), ('datasets/house_styles/all_images/068_b5fe6a9b.jpg', 'datasets/house_styles/all_images/001_beaee5fe.jpg', 1.0334290266036987, 0.03342902660369873), ('datasets/house_styles/all_images/380_05c909d1.jpg', 'datasets/house_styles/all_images/001_beaee5fe.jpg', 1.0335609912872314, 0.033560991287231445), ('datasets/house_styles/all_images/123_d5fed066.jpg', 'datasets/house_styles/all_images/151_d0e35309.jpg', 0.9663055539131165, 0.033694446086883545), ('datasets/house_styles/all_images/238_223f3e13.jpg', 'datasets/house_styles/all_images/294_3260f65d.jpg', 0.9661650061607361, 0.033834993839263916), ('datasets/house_styles/all_images/112_f21e8af7.jpg', 'datasets/house_styles/all_images/155_732ad883.jpg', 1.0338995456695557, 0.033899545669555664), ('datasets/house_styles/all_images/123_d5fed066.jpg', 'datasets/house_styles/all_images/485_1c18da79.jpg', 1.0339361429214478, 0.033936142921447754), ('datasets/house_styles/all_images/010_0e38a333.jpg', 'datasets/house_styles/all_images/082_40db5260.jpg', 1.034021258354187, 0.03402125835418701), ('datasets/house_styles/all_images/388_fbd9baa1.jpg', 'datasets/house_styles/all_images/257_f69240b9.jpg', 1.0340934991836548, 0.034093499183654785), ('datasets/house_styles/all_images/125_b3f68f40.jpg', 'datasets/house_styles/all_images/216_8570669c.jpg', 0.9656388163566589, 0.034361183643341064), ('datasets/house_styles/all_images/376_3473d618.jpg', 'datasets/house_styles/all_images/018_d675e0cc.jpg', 1.0345921516418457, 0.0345921516418457), ('datasets/house_styles/all_images/366_08eff319.jpg', 'datasets/house_styles/all_images/069_d3bedc1f.jpg', 1.0349066257476807, 0.034906625747680664), ('datasets/house_styles/all_images/075_7b7e25b1.jpg', 'datasets/house_styles/all_images/105_1c926771.jpg', 1.0351696014404297, 0.03516960144042969), ('datasets/house_styles/all_images/245_579b3304.jpg', 'datasets/house_styles/all_images/193_365009dc.jpg', 1.0352494716644287, 0.03524947166442871), ('datasets/house_styles/all_images/130_1d93de4f.jpg', 'datasets/house_styles/all_images/067_c93d4864.jpg', 0.9647186994552612, 0.03528130054473877), ('datasets/house_styles/all_images/167_65150acf.jpg', 'datasets/house_styles/all_images/212_aea88577.jpg', 0.964579164981842, 0.03542083501815796), ('datasets/house_styles/all_images/021_25ad37e4.jpg', 'datasets/house_styles/all_images/004_cabd9dfd.jpg', 1.0357483625411987, 0.03574836254119873), ('datasets/house_styles/all_images/467_834e3436.jpg', 'datasets/house_styles/all_images/026_01045d0b.jpg', 0.9641627669334412, 0.03583723306655884), ('datasets/house_styles/all_images/181_7a55eb4a.jpg', 'datasets/house_styles/all_images/180_ea16e99b.jpg', 1.0358457565307617, 0.03584575653076172), ('datasets/house_styles/all_images/021_25ad37e4.jpg', 'datasets/house_styles/all_images/260_ff34f4ba.jpg', 0.9640931487083435, 0.035906851291656494), ('datasets/house_styles/all_images/041_d7474487.jpg', 'datasets/house_styles/all_images/018_d675e0cc.jpg', 0.9640817642211914, 0.035918235778808594), ('datasets/house_styles/all_images/368_20d72c3b.jpg', 'datasets/house_styles/all_images/159_7b4fd689.jpg', 1.0362067222595215, 0.036206722259521484), ('datasets/house_styles/all_images/123_d5fed066.jpg', 'datasets/house_styles/all_images/006_ec7e3943.jpg', 0.9637038111686707, 0.036296188831329346), ('datasets/house_styles/all_images/357_27ab49c8.jpg', 'datasets/house_styles/all_images/069_3a6f2b43.jpg', 1.0364352464675903, 0.03643524646759033), ('datasets/house_styles/all_images/113_3b341645.jpg', 'datasets/house_styles/all_images/221_cbdbfa68.jpg', 1.0365484952926636, 0.036548495292663574), ('datasets/house_styles/all_images/181_7a55eb4a.jpg', 'datasets/house_styles/all_images/053_9f014739.jpg', 1.036669135093689, 0.036669135093688965), ('datasets/house_styles/all_images/094_c29b2dc0.jpg', 'datasets/house_styles/all_images/079_3da41703.jpg', 1.0369384288787842, 0.03693842887878418), ('datasets/house_styles/all_images/524_adfc8645.jpg', 'datasets/house_styles/all_images/069_d3bedc1f.jpg', 1.0370824337005615, 0.03708243370056152), ('datasets/house_styles/all_images/394_8fc176b2.jpg', 'datasets/house_styles/all_images/002_8cdb5424.jpg', 1.0371521711349487, 0.03715217113494873), ('datasets/house_styles/all_images/184_4eb75826.jpg', 'datasets/house_styles/all_images/454_3180c2dd.jpg', 1.037489652633667, 0.03748965263366699), ('datasets/house_styles/all_images/443_c3788bc5.jpg', 'datasets/house_styles/all_images/147_579b3c29.jpg', 0.9623755812644958, 0.03762441873550415), ('datasets/house_styles/all_images/184_33cd0b2b.jpg', 'datasets/house_styles/all_images/190_c9f886f6.jpg', 0.9623498916625977, 0.037650108337402344), ('datasets/house_styles/all_images/017_ffb23173.jpg', 'datasets/house_styles/all_images/147_579b3c29.jpg', 1.0376900434494019, 0.037690043449401855), ('datasets/house_styles/all_images/004_7a46c013.jpg', 'datasets/house_styles/all_images/108_c76f77e2.jpg', 1.0376935005187988, 0.03769350051879883), ('datasets/house_styles/all_images/004_7a46c013.jpg', 'datasets/house_styles/all_images/098_cff86baa.jpg', 1.0376935005187988, 0.03769350051879883), ('datasets/house_styles/all_images/334_493d0c20.jpg', 'datasets/house_styles/all_images/432_81c52798.jpg', 1.0378283262252808, 0.03782832622528076), ('datasets/house_styles/all_images/061_0e8f4935.jpg', 'datasets/house_styles/all_images/114_dd2dcd98.jpg', 1.0383909940719604, 0.03839099407196045), ('datasets/house_styles/all_images/084_dae155bc.jpg', 'datasets/house_styles/all_images/004_cabd9dfd.jpg', 1.0384562015533447, 0.03845620155334473), ('datasets/house_styles/all_images/346_e98ba7a9.jpg', 'datasets/house_styles/all_images/132_8e5fa493.jpg', 1.0386438369750977, 0.038643836975097656), ('datasets/house_styles/all_images/118_8b40a003.jpg', 'datasets/house_styles/all_images/280_78fc43a1.jpg', 1.038732647895813, 0.03873264789581299), ('datasets/house_styles/all_images/077_7688f758.jpg', 'datasets/house_styles/all_images/028_977e3b62.jpg', 1.0390230417251587, 0.03902304172515869), ('datasets/house_styles/all_images/453_d7b5d246.jpg', 'datasets/house_styles/all_images/004_cabd9dfd.jpg', 0.9608144760131836, 0.039185523986816406), ('datasets/house_styles/all_images/125_b3f68f40.jpg', 'datasets/house_styles/all_images/087_24c73d10.jpg', 1.0393767356872559, 0.03937673568725586), ('datasets/house_styles/all_images/415_4b0724cb.jpg', 'datasets/house_styles/all_images/069_3a6f2b43.jpg', 0.9604716300964355, 0.03952836990356445), ('datasets/house_styles/all_images/284_1d326f0c.jpg', 'datasets/house_styles/all_images/394_8fc176b2.jpg', 1.0396355390548706, 0.039635539054870605), ('datasets/house_styles/all_images/040_6ddfd3e7.jpg', 'datasets/house_styles/all_images/117_d5ce16c2.jpg', 0.9599490761756897, 0.0400509238243103), ('datasets/house_styles/all_images/235_9d901e22.jpg', 'datasets/house_styles/all_images/524_adfc8645.jpg', 1.040053367614746, 0.040053367614746094), ('datasets/house_styles/all_images/196_4a29195b.jpg', 'datasets/house_styles/all_images/089_23d6d672.jpg', 1.0401158332824707, 0.0401158332824707), ('datasets/house_styles/all_images/123_d5fed066.jpg', 'datasets/house_styles/all_images/042_636dd3d3.jpg', 1.040116786956787, 0.04011678695678711), ('datasets/house_styles/all_images/178_63fd8a7b.jpg', 'datasets/house_styles/all_images/338_91aaae44.jpg', 0.959736168384552, 0.040263831615448), ('datasets/house_styles/all_images/227_33071f4b.jpg', 'datasets/house_styles/all_images/338_91aaae44.jpg', 0.959736168384552, 0.040263831615448), ('datasets/house_styles/all_images/389_08eeac29.jpg', 'datasets/house_styles/all_images/138_03bf52ae.jpg', 1.0404307842254639, 0.04043078422546387), ('datasets/house_styles/all_images/149_0d19bc77.jpg', 'datasets/house_styles/all_images/094_0a543599.jpg', 1.0404709577560425, 0.04047095775604248), ('datasets/house_styles/all_images/151_cffbc324.jpg', 'datasets/house_styles/all_images/098_cff86baa.jpg', 1.0404770374298096, 0.04047703742980957), ('datasets/house_styles/all_images/368_20d72c3b.jpg', 'datasets/house_styles/all_images/410_43ec7ac3.jpg', 0.9594648480415344, 0.040535151958465576), ('datasets/house_styles/all_images/334_493d0c20.jpg', 'datasets/house_styles/all_images/272_3262745c.jpg', 0.9593890905380249, 0.0406109094619751), ('datasets/house_styles/all_images/238_223f3e13.jpg', 'datasets/house_styles/all_images/478_b9c722d9.jpg', 1.0407516956329346, 0.04075169563293457), ('datasets/house_styles/all_images/060_8fb534d5.jpg', 'datasets/house_styles/all_images/284_404c75b4.jpg', 0.9592450261116028, 0.04075497388839722), ('datasets/house_styles/all_images/212_af89d52d.jpg', 'datasets/house_styles/all_images/125_743047fb.jpg', 0.9590617418289185, 0.04093825817108154), ('datasets/house_styles/all_images/153_acb5cd48.jpg', 'datasets/house_styles/all_images/158_0e3358fe.jpg', 1.0414786338806152, 0.041478633880615234), ('datasets/house_styles/all_images/301_3ae75cf5.jpg', 'datasets/house_styles/all_images/158_0e3358fe.jpg', 0.9583359956741333, 0.0416640043258667), ('datasets/house_styles/all_images/166_cb292a05.jpg', 'datasets/house_styles/all_images/270_b478d734.jpg', 1.041732668876648, 0.04173266887664795), ('datasets/house_styles/all_images/019_61d9365b.jpg', 'datasets/house_styles/all_images/125_743047fb.jpg', 0.9582116007804871, 0.04178839921951294), ('datasets/house_styles/all_images/487_6af5bc71.jpg', 'datasets/house_styles/all_images/201_936151d8.jpg', 0.9578607082366943, 0.042139291763305664), ('datasets/house_styles/all_images/007_64a3e2e9.jpg', 'datasets/house_styles/all_images/060_26c18ddf.jpg', 0.9577041268348694, 0.042295873165130615), ('datasets/house_styles/all_images/004_7a46c013.jpg', 'datasets/house_styles/all_images/035_6e7ff66b.jpg', 0.9576490521430969, 0.042350947856903076), ('datasets/house_styles/all_images/250_27aa4502.jpg', 'datasets/house_styles/all_images/037_326d0815.jpg', 1.0425642728805542, 0.0425642728805542), ('datasets/house_styles/all_images/078_abdcd606.jpg', 'datasets/house_styles/all_images/086_80f8f853.jpg', 0.9574332237243652, 0.042566776275634766), ('datasets/house_styles/all_images/151_cffbc324.jpg', 'datasets/house_styles/all_images/133_91a1133a.jpg', 0.957396388053894, 0.04260361194610596), ('datasets/house_styles/all_images/368_20d72c3b.jpg', 'datasets/house_styles/all_images/077_fd3da9e2.jpg', 0.9573227763175964, 0.042677223682403564), ('datasets/house_styles/all_images/125_b3f68f40.jpg', 'datasets/house_styles/all_images/052_f4f97004.jpg', 1.042698860168457, 0.04269886016845703), ('datasets/house_styles/all_images/144_cb90f7ea.jpg', 'datasets/house_styles/all_images/044_12d72bf2.jpg', 1.0427868366241455, 0.04278683662414551), ('datasets/house_styles/all_images/121_62c24d44.jpg', 'datasets/house_styles/all_images/443_c3788bc5.jpg', 1.0429339408874512, 0.04293394088745117), ('datasets/house_styles/all_images/199_e4e5df84.jpg', 'datasets/house_styles/all_images/118_d035210b.jpg', 1.042985200881958, 0.04298520088195801), ('datasets/house_styles/all_images/415_4b0724cb.jpg', 'datasets/house_styles/all_images/180_ea16e99b.jpg', 1.0432779788970947, 0.04327797889709473), ('datasets/house_styles/all_images/031_a6f9a9fe.jpg', 'datasets/house_styles/all_images/004_cabd9dfd.jpg', 0.9563859105110168, 0.043614089488983154), ('datasets/house_styles/all_images/068_dc83e73a.jpg', 'datasets/house_styles/all_images/221_cbdbfa68.jpg', 1.0436716079711914, 0.043671607971191406), ('datasets/house_styles/all_images/443_c3788bc5.jpg', 'datasets/house_styles/all_images/136_9f1a39c1.jpg', 0.9563038945198059, 0.04369610548019409), ('datasets/house_styles/all_images/368_20d72c3b.jpg', 'datasets/house_styles/all_images/272_3262745c.jpg', 1.0440484285354614, 0.044048428535461426), ('datasets/house_styles/all_images/252_222859bd.jpg', 'datasets/house_styles/all_images/356_efd8fc80.jpg', 1.044079065322876, 0.04407906532287598), ('datasets/house_styles/all_images/121_62c24d44.jpg', 'datasets/house_styles/all_images/050_ffb00e12.jpg', 1.0443155765533447, 0.04431557655334473), ('datasets/house_styles/all_images/078_9e2d5f02.jpg', 'datasets/house_styles/all_images/141_965cfe04.jpg', 0.9556610584259033, 0.04433894157409668), ('datasets/house_styles/all_images/196_4a29195b.jpg', 'datasets/house_styles/all_images/052_f4f97004.jpg', 1.0443427562713623, 0.044342756271362305), ('datasets/house_styles/all_images/017_ffb23173.jpg', 'datasets/house_styles/all_images/021_6cb715ac.jpg', 0.9556463956832886, 0.044353604316711426), ('datasets/house_styles/all_images/004_7a46c013.jpg', 'datasets/house_styles/all_images/194_a66427af.jpg', 0.9556336998939514, 0.044366300106048584), ('datasets/house_styles/all_images/474_ebf934b6.jpg', 'datasets/house_styles/all_images/152_3e513879.jpg', 0.9555531144142151, 0.04444688558578491), ('datasets/house_styles/all_images/073_d9fb51c3.jpg', 'datasets/house_styles/all_images/168_bbf12d12.jpg', 0.955422580242157, 0.04457741975784302), ('datasets/house_styles/all_images/062_a5891b74.jpg', 'datasets/house_styles/all_images/081_156ea596.jpg', 1.0447094440460205, 0.04470944404602051), ('datasets/house_styles/all_images/347_e3edd904.jpg', 'datasets/house_styles/all_images/089_23d6d672.jpg', 0.9549674391746521, 0.0450325608253479), ('datasets/house_styles/all_images/346_e98ba7a9.jpg', 'datasets/house_styles/all_images/007_64a3e2e9.jpg', 0.9547429084777832, 0.0452570915222168), ('datasets/house_styles/all_images/236_8b82502f.jpg', 'datasets/house_styles/all_images/132_8e5fa493.jpg', 0.9545930027961731, 0.045406997203826904), ('datasets/house_styles/all_images/005_dbecd9c4.jpg', 'datasets/house_styles/all_images/095_0a434ed3.jpg', 0.9544693827629089, 0.045530617237091064), ('datasets/house_styles/all_images/103_e1440563.jpg', 'datasets/house_styles/all_images/097_41e7ad48.jpg', 0.9544351100921631, 0.045564889907836914), ('datasets/house_styles/all_images/273_95a29a86.jpg', 'datasets/house_styles/all_images/113_3b341645.jpg', 1.0455960035324097, 0.04559600353240967), ('datasets/house_styles/all_images/067_c93d4864.jpg', 'datasets/house_styles/all_images/077_fd3da9e2.jpg', 1.0457547903060913, 0.04575479030609131), ('datasets/house_styles/all_images/167_65150acf.jpg', 'datasets/house_styles/all_images/187_f9d3cf18.jpg', 1.0458199977874756, 0.045819997787475586), ('datasets/house_styles/all_images/136_976f1a71.jpg', 'datasets/house_styles/all_images/201_936151d8.jpg', 1.0458533763885498, 0.045853376388549805), ('datasets/house_styles/all_images/225_25606f44.jpg', 'datasets/house_styles/all_images/067_6de6b577.jpg', 1.046375036239624, 0.04637503623962402), ('datasets/house_styles/all_images/357_27ab49c8.jpg', 'datasets/house_styles/all_images/023_5efdbc2d.jpg', 1.04646635055542, 0.04646635055541992), ('datasets/house_styles/all_images/186_ab31fc0e.jpg', 'datasets/house_styles/all_images/061_b65cd27e.jpg', 1.0465468168258667, 0.0465468168258667), ('datasets/house_styles/all_images/167_65150acf.jpg', 'datasets/house_styles/all_images/394_8fc176b2.jpg', 0.9533121585845947, 0.04668784141540527), ('datasets/house_styles/all_images/349_60f37449.jpg', 'datasets/house_styles/all_images/083_1941f4a1.jpg', 0.9532864093780518, 0.04671359062194824), ('datasets/house_styles/all_images/349_60f37449.jpg', 'datasets/house_styles/all_images/103_615e0fa4.jpg', 0.9532864093780518, 0.04671359062194824), ('datasets/house_styles/all_images/130_1d93de4f.jpg', 'datasets/house_styles/all_images/035_6e7ff66b.jpg', 0.9530581831932068, 0.04694181680679321), ('datasets/house_styles/all_images/382_761139e9.jpg', 'datasets/house_styles/all_images/133_91a1133a.jpg', 0.9530395865440369, 0.046960413455963135), ('datasets/house_styles/all_images/041_d7474487.jpg', 'datasets/house_styles/all_images/136_976f1a71.jpg', 1.0473240613937378, 0.04732406139373779), ('datasets/house_styles/all_images/299_6f2be194.jpg', 'datasets/house_styles/all_images/068_b5fe6a9b.jpg', 0.952445924282074, 0.047554075717926025), ('datasets/house_styles/all_images/178_63fd8a7b.jpg', 'datasets/house_styles/all_images/105_1c926771.jpg', 1.0477627515792847, 0.04776275157928467), ('datasets/house_styles/all_images/227_33071f4b.jpg', 'datasets/house_styles/all_images/105_1c926771.jpg', 1.0477627515792847, 0.04776275157928467), ('datasets/house_styles/all_images/017_ffb23173.jpg', 'datasets/house_styles/all_images/008_a0cf2e04.jpg', 1.0478321313858032, 0.04783213138580322), ('datasets/house_styles/all_images/386_03e0eca7.jpg', 'datasets/house_styles/all_images/091_1e37e2fa.jpg', 0.9516417384147644, 0.048358261585235596), ('datasets/house_styles/all_images/250_27aa4502.jpg', 'datasets/house_styles/all_images/018_d675e0cc.jpg', 1.0487277507781982, 0.04872775077819824), ('datasets/house_styles/all_images/035_7b4de4fd.jpg', 'datasets/house_styles/all_images/009_f852438c.jpg', 0.9512503147125244, 0.048749685287475586), ('datasets/house_styles/all_images/062_a5891b74.jpg', 'datasets/house_styles/all_images/084_dae155bc.jpg', 0.951213002204895, 0.04878699779510498), ('datasets/house_styles/all_images/130_1d93de4f.jpg', 'datasets/house_styles/all_images/108_c76f77e2.jpg', 1.0489217042922974, 0.04892170429229736), ('datasets/house_styles/all_images/360_28ef686b.jpg', 'datasets/house_styles/all_images/153_acb5cd48.jpg', 0.9507968425750732, 0.04920315742492676), ('datasets/house_styles/all_images/021_25ad37e4.jpg', 'datasets/house_styles/all_images/478_b9c722d9.jpg', 1.0493638515472412, 0.04936385154724121), ('datasets/house_styles/all_images/142_12fc668a.jpg', 'datasets/house_styles/all_images/141_965cfe04.jpg', 0.9506174921989441, 0.04938250780105591), ('datasets/house_styles/all_images/168_73a8fa29.jpg', 'datasets/house_styles/all_images/130_3436e91b.jpg', 0.9505075812339783, 0.04949241876602173), ('datasets/house_styles/all_images/184_4eb75826.jpg', 'datasets/house_styles/all_images/501_bcd7edcd.jpg', 1.0494976043701172, 0.04949760437011719), ('datasets/house_styles/all_images/378_8983cba2.jpg', 'datasets/house_styles/all_images/132_8e5fa493.jpg', 0.950150191783905, 0.04984980821609497), ('datasets/house_styles/all_images/201_edbb9f6e.jpg', 'datasets/house_styles/all_images/035_6e7ff66b.jpg', 1.049983024597168, 0.04998302459716797), ('datasets/house_styles/all_images/113_3b341645.jpg', 'datasets/house_styles/all_images/095_0a434ed3.jpg', 1.0500977039337158, 0.05009770393371582), ('datasets/house_styles/all_images/062_a5891b74.jpg', 'datasets/house_styles/all_images/159_f211f05e.jpg', 1.0504645109176636, 0.050464510917663574), ('datasets/house_styles/all_images/245_1557cb25.jpg', 'datasets/house_styles/all_images/060_26c18ddf.jpg', 1.0507222414016724, 0.05072224140167236), ('datasets/house_styles/all_images/060_8fb534d5.jpg', 'datasets/house_styles/all_images/388_fbd9baa1.jpg', 1.0507960319519043, 0.0507960319519043), ('datasets/house_styles/all_images/184_4eb75826.jpg', 'datasets/house_styles/all_images/091_1e37e2fa.jpg', 0.9491659998893738, 0.05083400011062622), ('datasets/house_styles/all_images/196_4a29195b.jpg', 'datasets/house_styles/all_images/188_9b067c58.jpg', 1.0510026216506958, 0.0510026216506958), ('datasets/house_styles/all_images/227_33071f4b.jpg', 'datasets/house_styles/all_images/005_eda52226.jpg', 0.9489805698394775, 0.05101943016052246), ('datasets/house_styles/all_images/149_0d19bc77.jpg', 'datasets/house_styles/all_images/493_2782a145.jpg', 0.9487667083740234, 0.05123329162597656), ('datasets/house_styles/all_images/284_1d326f0c.jpg', 'datasets/house_styles/all_images/112_e6cb24b4.jpg', 0.9487175345420837, 0.05128246545791626), ('datasets/house_styles/all_images/469_1ad24162.jpg', 'datasets/house_styles/all_images/037_326d0815.jpg', 0.9481812715530396, 0.05181872844696045), ('datasets/house_styles/all_images/425_f8d72d81.jpg', 'datasets/house_styles/all_images/449_f4fc9f5c.jpg', 1.0519930124282837, 0.05199301242828369), ('datasets/house_styles/all_images/184_4eb75826.jpg', 'datasets/house_styles/all_images/147_579b3c29.jpg', 0.9478200078010559, 0.05217999219894409), ('datasets/house_styles/all_images/349_60f37449.jpg', 'datasets/house_styles/all_images/388_fbd9baa1.jpg', 1.0522764921188354, 0.05227649211883545), ('datasets/house_styles/all_images/181_7a55eb4a.jpg', 'datasets/house_styles/all_images/280_78fc43a1.jpg', 1.0524709224700928, 0.05247092247009277), ('datasets/house_styles/all_images/061_0e8f4935.jpg', 'datasets/house_styles/all_images/356_efd8fc80.jpg', 1.0526081323623657, 0.05260813236236572), ('datasets/house_styles/all_images/181_7a55eb4a.jpg', 'datasets/house_styles/all_images/037_326d0815.jpg', 0.9472268223762512, 0.05277317762374878), ('datasets/house_styles/all_images/213_80e87065.jpg', 'datasets/house_styles/all_images/147_579b3c29.jpg', 0.9471782445907593, 0.05282175540924072), ('datasets/house_styles/all_images/272_3262745c.jpg', 'datasets/house_styles/all_images/091_1e37e2fa.jpg', 0.9468730092048645, 0.0531269907951355), ('datasets/house_styles/all_images/406_e5e906d6.jpg', 'datasets/house_styles/all_images/406_3c50af9c.jpg', 1.0533456802368164, 0.053345680236816406), ('datasets/house_styles/all_images/068_dc83e73a.jpg', 'datasets/house_styles/all_images/052_f4f97004.jpg', 0.9465137124061584, 0.05348628759384155)]\n"
     ]
    },
    {
     "name": "stderr",
     "output_type": "stream",
     "text": [
      "\n"
     ]
    }
   ],
   "source": [
    "zero_rows = data_pool[data_pool['similarity'] == 0]\n",
    "zero_rows = zero_rows[['image1_path', 'image2_path', 'similarity']].sample(10000)\n",
    "zero_dataset = ImageSimilarityDataset(zero_rows, transform=clip_transform)\n",
    "zero_data_loader = DataLoader(zero_dataset, batch_size=8, shuffle=False)\n",
    "\n",
    "least_confident_zero = active_learning_confident_samples(trained_model, zero_data_loader, margin=1.0, budget=360)\n",
    "print(least_confident_zero)"
   ]
  },
  {
   "cell_type": "code",
   "execution_count": 53,
   "metadata": {},
   "outputs": [
    {
     "name": "stderr",
     "output_type": "stream",
     "text": [
      "/tmp/ipykernel_8583/1080627820.py:8: FutureWarning: The behavior of DataFrame concatenation with empty or all-NA entries is deprecated. In a future version, this will no longer exclude empty or all-NA columns when determining the result dtypes. To retain the old behavior, exclude the relevant entries before the concat operation.\n",
      "  active_learning_df = pd.concat([least_confident_samples_df, zero_samples_df], ignore_index=True)\n"
     ]
    }
   ],
   "source": [
    "# save least confident samples to be tagged into a csv\n",
    "least_confident_samples_df = pd.DataFrame(least_confident_samples, columns=['image1_path', 'image2_path', 'distance', 'confidence'])\n",
    "least_confident_samples_df['similarity'] = None\n",
    "\n",
    "zero_samples_df = pd.DataFrame(least_confident_zero, columns=['image1_path', 'image2_path', 'distance', 'confidence'])\n",
    "zero_samples_df['similarity'] = float(0)\n",
    "\n",
    "active_learning_df = pd.concat([least_confident_samples_df, zero_samples_df], ignore_index=True)"
   ]
  },
  {
   "cell_type": "code",
   "execution_count": 55,
   "metadata": {},
   "outputs": [],
   "source": [
    "# add image names:\n",
    "active_learning_df['image1'] = active_learning_df['image1_path'].apply(lambda x: x.split('/')[-1])\n",
    "active_learning_df['image2'] = active_learning_df['image2_path'].apply(lambda x: x.split('/')[-1])\n",
    "# make paths be surrounded by parentheses:\n",
    "active_learning_df['image1_path'] = active_learning_df['image1_path'].apply(lambda x: '(' + x + ')')\n",
    "active_learning_df['image2_path'] = active_learning_df['image2_path'].apply(lambda x: '(' + x + ')')\n",
    "# shorten distance and confidence:\n",
    "active_learning_df['distance'] = active_learning_df['distance'].apply(lambda x: round(x, 4))\n",
    "active_learning_df['confidence'] = active_learning_df['confidence'].apply(lambda x: round(x, 4))\n",
    "\n",
    "# reorder columns:\n",
    "active_learning_df = active_learning_df[['image1', 'image1_path', 'image2', 'image2_path', 'distance', 'confidence', 'similarity']]"
   ]
  },
  {
   "cell_type": "code",
   "execution_count": 60,
   "metadata": {},
   "outputs": [
    {
     "name": "stdout",
     "output_type": "stream",
     "text": [
      "File does not exist\n",
      "File saved\n"
     ]
    }
   ],
   "source": [
    "result_active_learning_path = 'active_learning_labels/round_2.csv'\n",
    "\n",
    "if os.path.exists(result_active_learning_path):\n",
    "    print(\"File exists\")\n",
    "else:\n",
    "    print(\"File does not exist\")\n",
    "    active_learning_df.to_csv(result_active_learning_path, index=False)\n",
    "    print(\"File saved\")"
   ]
  }
 ],
 "metadata": {
  "kernelspec": {
   "display_name": "azureml_py310_sdkv2",
   "language": "python",
   "name": "python3"
  },
  "language_info": {
   "codemirror_mode": {
    "name": "ipython",
    "version": 3
   },
   "file_extension": ".py",
   "mimetype": "text/x-python",
   "name": "python",
   "nbconvert_exporter": "python",
   "pygments_lexer": "ipython3",
   "version": "3.10.15"
  }
 },
 "nbformat": 4,
 "nbformat_minor": 2
}
