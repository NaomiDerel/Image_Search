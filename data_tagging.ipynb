{
 "cells": [
  {
   "cell_type": "markdown",
   "metadata": {},
   "source": [
    "# Data Tagging for Image Similarity\n",
    "\n",
    "This notebook contains code and explanation for our labeling process."
   ]
  },
  {
   "cell_type": "code",
   "execution_count": 2,
   "metadata": {},
   "outputs": [],
   "source": [
    "import pandas as pd\n",
    "import os\n",
    "from PIL import Image\n",
    "import csv"
   ]
  },
  {
   "cell_type": "markdown",
   "metadata": {},
   "source": [
    "## Sample equal size classes\n",
    "\n",
    "Due to resource limitations, we could not label 824^2 pairs. We opted to keep a balanced dataset by classes, reducing to the minimum available number of instances in a class - 150. In total, we keep 450 samples."
   ]
  },
  {
   "cell_type": "code",
   "execution_count": 3,
   "metadata": {},
   "outputs": [
    {
     "data": {
      "text/plain": [
       "house_type\n",
       "farmhouse    428\n",
       "modern       289\n",
       "rustic       150\n",
       "Name: count, dtype: int64"
      ]
     },
     "execution_count": 3,
     "metadata": {},
     "output_type": "execute_result"
    }
   ],
   "source": [
    "path = \"datasets/house_styles/\"\n",
    "image_folder = \"datasets/house_styles/all_images\"\n",
    "\n",
    "img_labels = pd.read_csv(path+\"labels.csv\")\n",
    "img_labels['house_type'].value_counts()"
   ]
  },
  {
   "cell_type": "code",
   "execution_count": 4,
   "metadata": {},
   "outputs": [
    {
     "name": "stderr",
     "output_type": "stream",
     "text": [
      "/var/folders/b1/6p4sk8f166d1j8xr27c9vfxm0000gp/T/ipykernel_77801/2549732826.py:3: DeprecationWarning: DataFrameGroupBy.apply operated on the grouping columns. This behavior is deprecated, and in a future version of pandas the grouping columns will be excluded from the operation. Either pass `include_groups=False` to exclude the groupings or explicitly select the grouping columns after groupby to silence this warning.\n",
      "  sampled_images = img_labels.groupby('house_type').apply(lambda x: x.sample(sample_size))\n"
     ]
    },
    {
     "data": {
      "text/plain": [
       "house_type\n",
       "farmhouse    150\n",
       "modern       150\n",
       "rustic       150\n",
       "Name: count, dtype: int64"
      ]
     },
     "execution_count": 4,
     "metadata": {},
     "output_type": "execute_result"
    }
   ],
   "source": [
    "# sample 150 images from each category:\n",
    "sample_size = 150\n",
    "sampled_images = img_labels.groupby('house_type').apply(lambda x: x.sample(sample_size))\n",
    "sampled_images = sampled_images.reset_index(drop=True)\n",
    "\n",
    "sampled_images['house_type'].value_counts()"
   ]
  },
  {
   "cell_type": "code",
   "execution_count": 5,
   "metadata": {},
   "outputs": [
    {
     "data": {
      "text/plain": [
       "450"
      ]
     },
     "execution_count": 5,
     "metadata": {},
     "output_type": "execute_result"
    }
   ],
   "source": [
    "image_names = sampled_images['file_label'].values\n",
    "len(image_names)"
   ]
  },
  {
   "cell_type": "code",
   "execution_count": 6,
   "metadata": {},
   "outputs": [],
   "source": [
    "# save only sampled images to a new labels file:\n",
    "sampled_images.to_csv(path+\"sampled_labels.csv\", index=False)"
   ]
  },
  {
   "cell_type": "markdown",
   "metadata": {},
   "source": [
    "## Paired Labeling\n",
    "\n",
    "We create a labeling system where each pair of instances with different labels is automatically 0 similarity, and instances from the same class will be manually labeled. This additionally reduces the number of labels needed from 450^2 to 3*150^2."
   ]
  },
  {
   "cell_type": "code",
   "execution_count": 7,
   "metadata": {},
   "outputs": [
    {
     "name": "stdout",
     "output_type": "stream",
     "text": [
      "Total pairs:  101025\n"
     ]
    }
   ],
   "source": [
    "with open(path+'sampled_paired_labels.csv', 'w') as csvfile:\n",
    "    writer = csv.writer(csvfile)\n",
    "    writer.writerow(['image1', 'image1_path', 'image2', 'image2_path', 'similarity'])\n",
    "    count = 0\n",
    "    \n",
    "    for i in range(len(image_names)):\n",
    "        for j in range(i+1, len(image_names)):\n",
    "            label1 = sampled_images[sampled_images['file_label']==image_names[i]]['house_type'].values[0]\n",
    "            label2 = sampled_images[sampled_images['file_label']==image_names[j]]['house_type'].values[0]\n",
    "            path1 = os.path.join(image_folder, image_names[i])\n",
    "            path2 = os.path.join(image_folder, image_names[j])\n",
    "            link1 = '('+path1+')'\n",
    "            link2 = '('+path2+')'\n",
    "\n",
    "            if label1!=label2:\n",
    "                writer.writerow([image_names[i], link1, image_names[j], link2, 0])\n",
    "            else:\n",
    "                writer.writerow([image_names[i], link1, image_names[j], link2, \"\"])\n",
    "\n",
    "            count+=1\n",
    "    \n",
    "print(\"Total pairs: \", count)\n"
   ]
  },
  {
   "cell_type": "code",
   "execution_count": 14,
   "metadata": {},
   "outputs": [
    {
     "data": {
      "text/plain": [
       "similarity\n",
       "0.0    67500\n",
       "Name: count, dtype: int64"
      ]
     },
     "execution_count": 14,
     "metadata": {},
     "output_type": "execute_result"
    }
   ],
   "source": [
    "# load sampled_paired_labels and count nulls:\n",
    "sampled_paired_labels = pd.read_csv(path+'sampled_paired_labels.csv', index_col=False)\n",
    "sampled_paired_labels['similarity'].value_counts()"
   ]
  },
  {
   "cell_type": "code",
   "execution_count": 15,
   "metadata": {},
   "outputs": [
    {
     "data": {
      "text/plain": [
       "33525"
      ]
     },
     "execution_count": 15,
     "metadata": {},
     "output_type": "execute_result"
    }
   ],
   "source": [
    "len(sampled_paired_labels) - 67500"
   ]
  },
  {
   "cell_type": "markdown",
   "metadata": {},
   "source": [
    "## Shuffle Rows"
   ]
  },
  {
   "cell_type": "code",
   "execution_count": 6,
   "metadata": {},
   "outputs": [],
   "source": [
    "df_origin = pd.read_csv(path+'sampled_paired_labels.csv')\n",
    "\n",
    "df_shuffled = df_origin.sample(frac=1).reset_index(drop=True)\n",
    "df_shuffled.to_csv(path+'sampled_paired_labels_shuffled.csv', index=False)"
   ]
  },
  {
   "cell_type": "code",
   "execution_count": null,
   "metadata": {},
   "outputs": [],
   "source": [
    "bad_images = ['487_6af5bc71.jpg']"
   ]
  },
  {
   "cell_type": "markdown",
   "metadata": {},
   "source": [
    "## Append Labels to main file"
   ]
  },
  {
   "cell_type": "code",
   "execution_count": 14,
   "metadata": {},
   "outputs": [
    {
     "name": "stdout",
     "output_type": "stream",
     "text": [
      "similarity\n",
      "0.0    67500\n",
      "1.0      137\n",
      "2.0      113\n",
      "3.0       87\n",
      "Name: count, dtype: int64\n"
     ]
    }
   ],
   "source": [
    "main_file_path = path+'sampled_paired_labels_shuffled.csv'\n",
    "main_file = pd.read_csv(main_file_path)\n",
    "rounds_file_path = \"active_learning_labels\"\n",
    "rounds_concats = []\n",
    "\n",
    "current_round = 1\n",
    "\n",
    "for round in range(0, current_round+1):\n",
    "    path_file = os.path.join(rounds_file_path, \"round_\"+str(round)+\".csv\")\n",
    "    df = pd.read_csv(path_file)\n",
    "    rounds_concats.append(df)\n",
    "\n",
    "# Join all rounds to add similarity column to main file:\n",
    "df = pd.concat(rounds_concats)\n",
    "df = df[['image1', 'image2', 'similarity']]\n",
    "df = df.rename(columns={'similarity': 'similarity_round'})\n",
    "\n",
    "new_main_file = pd.merge(main_file, df, on=['image1', 'image2'], how='left')\n",
    "\n",
    "# keep similarity of main unless it is null, then add similarity_round if exists:\n",
    "new_main_file['similarity'] = new_main_file['similarity'].fillna(new_main_file['similarity_round'])\n",
    "new_main_file = new_main_file.drop(columns=['similarity_round'])\n",
    "\n",
    "print(new_main_file.value_counts('similarity'))\n",
    "\n",
    "new_main_file.to_csv(path+'sampled_paired_labels_shuffled.csv', index=False)\n"
   ]
  },
  {
   "cell_type": "code",
   "execution_count": 11,
   "metadata": {},
   "outputs": [
    {
     "data": {
      "text/plain": [
       "similarity\n",
       "0.0    67500\n",
       "1.0       98\n",
       "2.0       78\n",
       "3.0       61\n",
       "Name: count, dtype: int64"
      ]
     },
     "execution_count": 11,
     "metadata": {},
     "output_type": "execute_result"
    }
   ],
   "source": [
    "main_file.value_counts('similarity')"
   ]
  },
  {
   "cell_type": "markdown",
   "metadata": {},
   "source": [
    "## Draft - Automated Labeling Prompt"
   ]
  },
  {
   "cell_type": "code",
   "execution_count": null,
   "metadata": {},
   "outputs": [],
   "source": [
    "import pandas as pd\n",
    "from PIL import Image\n",
    "from IPython.display import display\n",
    "import os\n",
    "\n",
    "def display_images_inline(image_path1, image_path2):\n",
    "    \"\"\"\n",
    "    Display two images side by side inline in a Jupyter Notebook.\n",
    "    \"\"\"\n",
    "    if os.path.exists(image_path1) and os.path.exists(image_path2):\n",
    "        # Open and display the images\n",
    "        img1 = Image.open(image_path1)\n",
    "        img2 = Image.open(image_path2)\n",
    "\n",
    "        # Display both images in the notebook\n",
    "        print(\"Image 1:\")\n",
    "        display(img1)\n",
    "        print(\"Image 2:\")\n",
    "        display(img2)\n",
    "    else:\n",
    "        print(f\"One or both image paths are invalid: {image_path1}, {image_path2}\")\n",
    "\n",
    "def update_csv_with_label(csv_file, row_index, label):\n",
    "    \"\"\"\n",
    "    Update the CSV file at the specified row with the new label.\n",
    "    \"\"\"\n",
    "    df = pd.read_csv(csv_file)\n",
    "    df.at[row_index, 'label'] = label\n",
    "    df.to_csv(csv_file, index=False)\n",
    "\n",
    "def pipeline(csv_file):\n",
    "    \"\"\"\n",
    "    Main function that iterates through the CSV, displays images inline, and takes user input.\n",
    "    \"\"\"\n",
    "    df = pd.read_csv(csv_file)\n",
    "\n",
    "    for index, row in df.iterrows():\n",
    "        if pd.isna(row['similarity']):\n",
    "            print(f\"Row {index}: Label is missing, displaying images...\")\n",
    "\n",
    "            # Get image paths from the row\n",
    "            image_path1 = row['image1_path'].strip(\"()\")\n",
    "            image_path2 = row['image2_path'].strip(\"()\")\n",
    "\n",
    "            # Display the images inline in the notebook\n",
    "            display_images_inline(image_path1, image_path2)\n",
    "\n",
    "            # Ask the user to input the label (1, 2, or 3)\n",
    "            while True:\n",
    "                try:\n",
    "                    label = input(\"Please enter the label (1, 2, or 3): \")\n",
    "                    if label in ['1', '2', '3']:\n",
    "                        break\n",
    "                    else:\n",
    "                        print(\"Invalid input. Please enter 1, 2, or 3.\")\n",
    "                except ValueError:\n",
    "                    print(\"Invalid input. Please enter 1, 2, or 3.\")\n",
    "\n",
    "            # Update the CSV file with the user input and save it\n",
    "            update_csv_with_label(csv_file, index, label)\n",
    "\n",
    "            print(f\"Row {index} updated with label {label}. Continuing...\\n\")\n",
    "\n",
    "csv_file = \"datasets/house_styles/test_sampled_paired_labels.csv\"\n",
    "pipeline(csv_file)\n"
   ]
  },
  {
   "cell_type": "markdown",
   "metadata": {},
   "source": [
    "## Manual Labeling Rules"
   ]
  },
  {
   "cell_type": "markdown",
   "metadata": {},
   "source": [
    "- Different Class: label 0\n",
    "- Same Class: label 1 to 3\n",
    "\n",
    "**Objective:** The users information need is finding houses with similar aesthetic characteristics, utilities, and environment.\n",
    "\n",
    "**Features for tagging:**\n",
    "1. Are the houses of similar size? (floors / area / people capacity)\n",
    "2. Are the houses both in bold or regular colors?\n",
    "3. Are the houses the same color palette? (light / dark)\n",
    "4. Are the houses from the same material? (wooden / concrete / glass / brick)\n",
    "5. Do the houses share building style \"vibe\"? (roof shape / floors...)\n",
    "6. Do both houses have some identical characteristics? examples:\n",
    "    - for modern: pool, parking space\n",
    "    - for farmhouse: porch, garage\n",
    "    - for rustic: chimney\n",
    "7. Do both houses have or don't have a garden or open space? \n",
    "8. Are the houses in the same environment? (urban / rural)\n",
    "9. Do the houses both feel open or closed? (windows / spaces / doors)\n",
    "\n",
    "**Features to avoid:**\n",
    "1. Avoid comparison by image size, quality, or photo style.\n",
    "2. Avoid comparison influenced by angle.\n",
    "3. Avoid comparison by time of year and time of day in the image.\n",
    "4. Avoid considering people and objects in the image.\n",
    "\n",
    "**Labeling Rules:**\n",
    "Consider all the features above and answer those questions with \"yes\", \"no\", or \"not relevant / not sure\".\n",
    "Among the features that are relevant, calculate the positive answers.\n",
    "- more than 2/3 positive answers: label 3\n",
    "- between 1/3 and 2/3 positive answers: label 2\n",
    "- less than 1/3 positive answers: label 1\n",
    "\n"
   ]
  }
 ],
 "metadata": {
  "kernelspec": {
   "display_name": "azureml_py310_sdkv2",
   "language": "python",
   "name": "python3"
  },
  "language_info": {
   "codemirror_mode": {
    "name": "ipython",
    "version": 3
   },
   "file_extension": ".py",
   "mimetype": "text/x-python",
   "name": "python",
   "nbconvert_exporter": "python",
   "pygments_lexer": "ipython3",
   "version": "3.10.15"
  }
 },
 "nbformat": 4,
 "nbformat_minor": 2
}
